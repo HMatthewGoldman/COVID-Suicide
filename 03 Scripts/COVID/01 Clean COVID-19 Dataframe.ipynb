{
 "cells": [
  {
   "cell_type": "markdown",
   "id": "d8512bf8",
   "metadata": {},
   "source": [
    "## 01 Import Libraries"
   ]
  },
  {
   "cell_type": "code",
   "execution_count": 1,
   "id": "bb9b08d9",
   "metadata": {},
   "outputs": [],
   "source": [
    "import pandas as pd\n",
    "import sweetviz as sv\n",
    "import numpy as np\n",
    "import os\n",
    "import matplotlib.pyplot as plt\n",
    "import seaborn as sns\n",
    "import scipy\n",
    "import chardet"
   ]
  },
  {
   "cell_type": "markdown",
   "id": "033a4767",
   "metadata": {},
   "source": [
    "## 02 Import Data"
   ]
  },
  {
   "cell_type": "code",
   "execution_count": 2,
   "id": "1252d65e",
   "metadata": {},
   "outputs": [
    {
     "name": "stderr",
     "output_type": "stream",
     "text": [
      "C:\\Users\\drmat\\AppData\\Local\\Temp\\ipykernel_7460\\3392676943.py:1: DtypeWarning: Columns (3) have mixed types. Specify dtype option on import or set low_memory=False.\n",
      "  df=pd.read_csv(r\"C:\\Users\\drmat\\OneDrive\\Documents\\Career Foundry\\COVID_Suicide\\02 Data\\01 Raw\\COVID\\COVID-19_Case_Surveillance_Public_Use_Data_with_Geography.csv\", index_col=False)\n"
     ]
    }
   ],
   "source": [
    "df=pd.read_csv(r\"C:\\Users\\drmat\\OneDrive\\Documents\\Career Foundry\\COVID_Suicide\\02 Data\\01 Raw\\COVID\\COVID-19_Case_Surveillance_Public_Use_Data_with_Geography.csv\", index_col=False)"
   ]
  },
  {
   "cell_type": "markdown",
   "id": "dad29efc",
   "metadata": {},
   "source": [
    "## 03 Inspect Dataframe"
   ]
  },
  {
   "cell_type": "code",
   "execution_count": 3,
   "id": "a7e3705f",
   "metadata": {},
   "outputs": [
    {
     "name": "stdout",
     "output_type": "stream",
     "text": [
      "<class 'pandas.core.frame.DataFrame'>\n",
      "RangeIndex: 74849225 entries, 0 to 74849224\n",
      "Data columns (total 19 columns):\n",
      " #   Column                           Dtype  \n",
      "---  ------                           -----  \n",
      " 0   case_month                       object \n",
      " 1   res_state                        object \n",
      " 2   state_fips_code                  float64\n",
      " 3   res_county                       object \n",
      " 4   county_fips_code                 float64\n",
      " 5   age_group                        object \n",
      " 6   sex                              object \n",
      " 7   race                             object \n",
      " 8   ethnicity                        object \n",
      " 9   case_positive_specimen_interval  float64\n",
      " 10  case_onset_interval              float64\n",
      " 11  process                          object \n",
      " 12  exposure_yn                      object \n",
      " 13  current_status                   object \n",
      " 14  symptom_status                   object \n",
      " 15  hosp_yn                          object \n",
      " 16  icu_yn                           object \n",
      " 17  death_yn                         object \n",
      " 18  underlying_conditions_yn         object \n",
      "dtypes: float64(4), object(15)\n",
      "memory usage: 10.6+ GB\n"
     ]
    }
   ],
   "source": [
    "#check dataframe\n",
    "df.info()"
   ]
  },
  {
   "cell_type": "code",
   "execution_count": 4,
   "id": "2b376791",
   "metadata": {},
   "outputs": [
    {
     "data": {
      "text/html": [
       "<div>\n",
       "<style scoped>\n",
       "    .dataframe tbody tr th:only-of-type {\n",
       "        vertical-align: middle;\n",
       "    }\n",
       "\n",
       "    .dataframe tbody tr th {\n",
       "        vertical-align: top;\n",
       "    }\n",
       "\n",
       "    .dataframe thead th {\n",
       "        text-align: right;\n",
       "    }\n",
       "</style>\n",
       "<table border=\"1\" class=\"dataframe\">\n",
       "  <thead>\n",
       "    <tr style=\"text-align: right;\">\n",
       "      <th></th>\n",
       "      <th>case_month</th>\n",
       "      <th>res_state</th>\n",
       "      <th>state_fips_code</th>\n",
       "      <th>res_county</th>\n",
       "      <th>county_fips_code</th>\n",
       "      <th>age_group</th>\n",
       "      <th>sex</th>\n",
       "      <th>race</th>\n",
       "      <th>ethnicity</th>\n",
       "      <th>case_positive_specimen_interval</th>\n",
       "      <th>case_onset_interval</th>\n",
       "      <th>process</th>\n",
       "      <th>exposure_yn</th>\n",
       "      <th>current_status</th>\n",
       "      <th>symptom_status</th>\n",
       "      <th>hosp_yn</th>\n",
       "      <th>icu_yn</th>\n",
       "      <th>death_yn</th>\n",
       "      <th>underlying_conditions_yn</th>\n",
       "    </tr>\n",
       "  </thead>\n",
       "  <tbody>\n",
       "    <tr>\n",
       "      <th>0</th>\n",
       "      <td>2022-02</td>\n",
       "      <td>AZ</td>\n",
       "      <td>4.0</td>\n",
       "      <td>MARICOPA</td>\n",
       "      <td>4013.0</td>\n",
       "      <td>65+ years</td>\n",
       "      <td>Female</td>\n",
       "      <td>White</td>\n",
       "      <td>Non-Hispanic/Latino</td>\n",
       "      <td>NaN</td>\n",
       "      <td>NaN</td>\n",
       "      <td>Missing</td>\n",
       "      <td>Missing</td>\n",
       "      <td>Probable Case</td>\n",
       "      <td>Missing</td>\n",
       "      <td>Missing</td>\n",
       "      <td>Missing</td>\n",
       "      <td>Missing</td>\n",
       "      <td>NaN</td>\n",
       "    </tr>\n",
       "    <tr>\n",
       "      <th>1</th>\n",
       "      <td>2021-12</td>\n",
       "      <td>NE</td>\n",
       "      <td>31.0</td>\n",
       "      <td>NaN</td>\n",
       "      <td>NaN</td>\n",
       "      <td>Missing</td>\n",
       "      <td>Unknown</td>\n",
       "      <td>Unknown</td>\n",
       "      <td>Unknown</td>\n",
       "      <td>NaN</td>\n",
       "      <td>0.0</td>\n",
       "      <td>Missing</td>\n",
       "      <td>Missing</td>\n",
       "      <td>Probable Case</td>\n",
       "      <td>Symptomatic</td>\n",
       "      <td>Missing</td>\n",
       "      <td>Missing</td>\n",
       "      <td>Missing</td>\n",
       "      <td>NaN</td>\n",
       "    </tr>\n",
       "    <tr>\n",
       "      <th>2</th>\n",
       "      <td>2022-03</td>\n",
       "      <td>FL</td>\n",
       "      <td>12.0</td>\n",
       "      <td>MIAMI-DADE</td>\n",
       "      <td>12086.0</td>\n",
       "      <td>18 to 49 years</td>\n",
       "      <td>Female</td>\n",
       "      <td>NaN</td>\n",
       "      <td>NaN</td>\n",
       "      <td>0.0</td>\n",
       "      <td>NaN</td>\n",
       "      <td>Missing</td>\n",
       "      <td>Missing</td>\n",
       "      <td>Laboratory-confirmed case</td>\n",
       "      <td>Missing</td>\n",
       "      <td>Missing</td>\n",
       "      <td>Missing</td>\n",
       "      <td>Missing</td>\n",
       "      <td>NaN</td>\n",
       "    </tr>\n",
       "    <tr>\n",
       "      <th>3</th>\n",
       "      <td>2021-01</td>\n",
       "      <td>IL</td>\n",
       "      <td>17.0</td>\n",
       "      <td>COOK</td>\n",
       "      <td>17031.0</td>\n",
       "      <td>65+ years</td>\n",
       "      <td>Male</td>\n",
       "      <td>White</td>\n",
       "      <td>Unknown</td>\n",
       "      <td>NaN</td>\n",
       "      <td>0.0</td>\n",
       "      <td>Missing</td>\n",
       "      <td>Missing</td>\n",
       "      <td>Laboratory-confirmed case</td>\n",
       "      <td>Missing</td>\n",
       "      <td>Missing</td>\n",
       "      <td>Missing</td>\n",
       "      <td>Missing</td>\n",
       "      <td>NaN</td>\n",
       "    </tr>\n",
       "    <tr>\n",
       "      <th>4</th>\n",
       "      <td>2022-02</td>\n",
       "      <td>AZ</td>\n",
       "      <td>4.0</td>\n",
       "      <td>MARICOPA</td>\n",
       "      <td>4013.0</td>\n",
       "      <td>65+ years</td>\n",
       "      <td>Female</td>\n",
       "      <td>White</td>\n",
       "      <td>Non-Hispanic/Latino</td>\n",
       "      <td>NaN</td>\n",
       "      <td>NaN</td>\n",
       "      <td>Missing</td>\n",
       "      <td>Missing</td>\n",
       "      <td>Laboratory-confirmed case</td>\n",
       "      <td>Missing</td>\n",
       "      <td>Missing</td>\n",
       "      <td>Missing</td>\n",
       "      <td>Missing</td>\n",
       "      <td>NaN</td>\n",
       "    </tr>\n",
       "  </tbody>\n",
       "</table>\n",
       "</div>"
      ],
      "text/plain": [
       "  case_month res_state  state_fips_code  res_county  county_fips_code  \\\n",
       "0    2022-02        AZ              4.0    MARICOPA            4013.0   \n",
       "1    2021-12        NE             31.0         NaN               NaN   \n",
       "2    2022-03        FL             12.0  MIAMI-DADE           12086.0   \n",
       "3    2021-01        IL             17.0        COOK           17031.0   \n",
       "4    2022-02        AZ              4.0    MARICOPA            4013.0   \n",
       "\n",
       "        age_group      sex     race            ethnicity  \\\n",
       "0       65+ years   Female    White  Non-Hispanic/Latino   \n",
       "1         Missing  Unknown  Unknown              Unknown   \n",
       "2  18 to 49 years   Female      NaN                  NaN   \n",
       "3       65+ years     Male    White              Unknown   \n",
       "4       65+ years   Female    White  Non-Hispanic/Latino   \n",
       "\n",
       "   case_positive_specimen_interval  case_onset_interval  process exposure_yn  \\\n",
       "0                              NaN                  NaN  Missing     Missing   \n",
       "1                              NaN                  0.0  Missing     Missing   \n",
       "2                              0.0                  NaN  Missing     Missing   \n",
       "3                              NaN                  0.0  Missing     Missing   \n",
       "4                              NaN                  NaN  Missing     Missing   \n",
       "\n",
       "              current_status symptom_status  hosp_yn   icu_yn death_yn  \\\n",
       "0              Probable Case        Missing  Missing  Missing  Missing   \n",
       "1              Probable Case    Symptomatic  Missing  Missing  Missing   \n",
       "2  Laboratory-confirmed case        Missing  Missing  Missing  Missing   \n",
       "3  Laboratory-confirmed case        Missing  Missing  Missing  Missing   \n",
       "4  Laboratory-confirmed case        Missing  Missing  Missing  Missing   \n",
       "\n",
       "  underlying_conditions_yn  \n",
       "0                      NaN  \n",
       "1                      NaN  \n",
       "2                      NaN  \n",
       "3                      NaN  \n",
       "4                      NaN  "
      ]
     },
     "execution_count": 4,
     "metadata": {},
     "output_type": "execute_result"
    }
   ],
   "source": [
    "#check dataframe\n",
    "df.head()"
   ]
  },
  {
   "cell_type": "code",
   "execution_count": 6,
   "id": "dbfd9109",
   "metadata": {},
   "outputs": [
    {
     "data": {
      "text/html": [
       "<div>\n",
       "<style scoped>\n",
       "    .dataframe tbody tr th:only-of-type {\n",
       "        vertical-align: middle;\n",
       "    }\n",
       "\n",
       "    .dataframe tbody tr th {\n",
       "        vertical-align: top;\n",
       "    }\n",
       "\n",
       "    .dataframe thead th {\n",
       "        text-align: right;\n",
       "    }\n",
       "</style>\n",
       "<table border=\"1\" class=\"dataframe\">\n",
       "  <thead>\n",
       "    <tr style=\"text-align: right;\">\n",
       "      <th></th>\n",
       "      <th>case_month</th>\n",
       "      <th>res_state</th>\n",
       "      <th>state_fips_code</th>\n",
       "      <th>res_county</th>\n",
       "      <th>county_fips_code</th>\n",
       "      <th>age_group</th>\n",
       "      <th>sex</th>\n",
       "      <th>race</th>\n",
       "      <th>ethnicity</th>\n",
       "      <th>case_positive_specimen_interval</th>\n",
       "      <th>case_onset_interval</th>\n",
       "      <th>process</th>\n",
       "      <th>exposure_yn</th>\n",
       "      <th>current_status</th>\n",
       "      <th>symptom_status</th>\n",
       "      <th>hosp_yn</th>\n",
       "      <th>icu_yn</th>\n",
       "      <th>death_yn</th>\n",
       "      <th>underlying_conditions_yn</th>\n",
       "    </tr>\n",
       "  </thead>\n",
       "  <tbody>\n",
       "    <tr>\n",
       "      <th>74849220</th>\n",
       "      <td>2021-01</td>\n",
       "      <td>IL</td>\n",
       "      <td>17.0</td>\n",
       "      <td>COOK</td>\n",
       "      <td>17031.0</td>\n",
       "      <td>65+ years</td>\n",
       "      <td>Male</td>\n",
       "      <td>White</td>\n",
       "      <td>Unknown</td>\n",
       "      <td>NaN</td>\n",
       "      <td>0.0</td>\n",
       "      <td>Missing</td>\n",
       "      <td>Missing</td>\n",
       "      <td>Laboratory-confirmed case</td>\n",
       "      <td>Missing</td>\n",
       "      <td>Missing</td>\n",
       "      <td>Missing</td>\n",
       "      <td>Missing</td>\n",
       "      <td>NaN</td>\n",
       "    </tr>\n",
       "    <tr>\n",
       "      <th>74849221</th>\n",
       "      <td>2021-12</td>\n",
       "      <td>NE</td>\n",
       "      <td>31.0</td>\n",
       "      <td>NaN</td>\n",
       "      <td>NaN</td>\n",
       "      <td>Missing</td>\n",
       "      <td>Unknown</td>\n",
       "      <td>Unknown</td>\n",
       "      <td>Unknown</td>\n",
       "      <td>NaN</td>\n",
       "      <td>NaN</td>\n",
       "      <td>Missing</td>\n",
       "      <td>Missing</td>\n",
       "      <td>Laboratory-confirmed case</td>\n",
       "      <td>Missing</td>\n",
       "      <td>Missing</td>\n",
       "      <td>Missing</td>\n",
       "      <td>Missing</td>\n",
       "      <td>NaN</td>\n",
       "    </tr>\n",
       "    <tr>\n",
       "      <th>74849222</th>\n",
       "      <td>2022-03</td>\n",
       "      <td>FL</td>\n",
       "      <td>12.0</td>\n",
       "      <td>MIAMI-DADE</td>\n",
       "      <td>12086.0</td>\n",
       "      <td>18 to 49 years</td>\n",
       "      <td>Female</td>\n",
       "      <td>NaN</td>\n",
       "      <td>NaN</td>\n",
       "      <td>0.0</td>\n",
       "      <td>NaN</td>\n",
       "      <td>Missing</td>\n",
       "      <td>Missing</td>\n",
       "      <td>Laboratory-confirmed case</td>\n",
       "      <td>Missing</td>\n",
       "      <td>Missing</td>\n",
       "      <td>Missing</td>\n",
       "      <td>Missing</td>\n",
       "      <td>NaN</td>\n",
       "    </tr>\n",
       "    <tr>\n",
       "      <th>74849223</th>\n",
       "      <td>2021-01</td>\n",
       "      <td>IL</td>\n",
       "      <td>17.0</td>\n",
       "      <td>COOK</td>\n",
       "      <td>17031.0</td>\n",
       "      <td>65+ years</td>\n",
       "      <td>Male</td>\n",
       "      <td>White</td>\n",
       "      <td>Unknown</td>\n",
       "      <td>NaN</td>\n",
       "      <td>0.0</td>\n",
       "      <td>Missing</td>\n",
       "      <td>Missing</td>\n",
       "      <td>Laboratory-confirmed case</td>\n",
       "      <td>Missing</td>\n",
       "      <td>No</td>\n",
       "      <td>Missing</td>\n",
       "      <td>Missing</td>\n",
       "      <td>NaN</td>\n",
       "    </tr>\n",
       "    <tr>\n",
       "      <th>74849224</th>\n",
       "      <td>2022-02</td>\n",
       "      <td>CA</td>\n",
       "      <td>6.0</td>\n",
       "      <td>LOS ANGELES</td>\n",
       "      <td>6037.0</td>\n",
       "      <td>18 to 49 years</td>\n",
       "      <td>Female</td>\n",
       "      <td>White</td>\n",
       "      <td>Non-Hispanic/Latino</td>\n",
       "      <td>NaN</td>\n",
       "      <td>NaN</td>\n",
       "      <td>Missing</td>\n",
       "      <td>Missing</td>\n",
       "      <td>Laboratory-confirmed case</td>\n",
       "      <td>Unknown</td>\n",
       "      <td>No</td>\n",
       "      <td>Missing</td>\n",
       "      <td>Missing</td>\n",
       "      <td>NaN</td>\n",
       "    </tr>\n",
       "  </tbody>\n",
       "</table>\n",
       "</div>"
      ],
      "text/plain": [
       "         case_month res_state  state_fips_code   res_county  county_fips_code  \\\n",
       "74849220    2021-01        IL             17.0         COOK           17031.0   \n",
       "74849221    2021-12        NE             31.0          NaN               NaN   \n",
       "74849222    2022-03        FL             12.0   MIAMI-DADE           12086.0   \n",
       "74849223    2021-01        IL             17.0         COOK           17031.0   \n",
       "74849224    2022-02        CA              6.0  LOS ANGELES            6037.0   \n",
       "\n",
       "               age_group      sex     race            ethnicity  \\\n",
       "74849220       65+ years     Male    White              Unknown   \n",
       "74849221         Missing  Unknown  Unknown              Unknown   \n",
       "74849222  18 to 49 years   Female      NaN                  NaN   \n",
       "74849223       65+ years     Male    White              Unknown   \n",
       "74849224  18 to 49 years   Female    White  Non-Hispanic/Latino   \n",
       "\n",
       "          case_positive_specimen_interval  case_onset_interval  process  \\\n",
       "74849220                              NaN                  0.0  Missing   \n",
       "74849221                              NaN                  NaN  Missing   \n",
       "74849222                              0.0                  NaN  Missing   \n",
       "74849223                              NaN                  0.0  Missing   \n",
       "74849224                              NaN                  NaN  Missing   \n",
       "\n",
       "         exposure_yn             current_status symptom_status  hosp_yn  \\\n",
       "74849220     Missing  Laboratory-confirmed case        Missing  Missing   \n",
       "74849221     Missing  Laboratory-confirmed case        Missing  Missing   \n",
       "74849222     Missing  Laboratory-confirmed case        Missing  Missing   \n",
       "74849223     Missing  Laboratory-confirmed case        Missing       No   \n",
       "74849224     Missing  Laboratory-confirmed case        Unknown       No   \n",
       "\n",
       "           icu_yn death_yn underlying_conditions_yn  \n",
       "74849220  Missing  Missing                      NaN  \n",
       "74849221  Missing  Missing                      NaN  \n",
       "74849222  Missing  Missing                      NaN  \n",
       "74849223  Missing  Missing                      NaN  \n",
       "74849224  Missing  Missing                      NaN  "
      ]
     },
     "execution_count": 6,
     "metadata": {},
     "output_type": "execute_result"
    }
   ],
   "source": [
    "#check dataframe\n",
    "df.tail()"
   ]
  },
  {
   "cell_type": "code",
   "execution_count": 7,
   "id": "c6c9ffe9",
   "metadata": {},
   "outputs": [
    {
     "data": {
      "text/html": [
       "<div>\n",
       "<style scoped>\n",
       "    .dataframe tbody tr th:only-of-type {\n",
       "        vertical-align: middle;\n",
       "    }\n",
       "\n",
       "    .dataframe tbody tr th {\n",
       "        vertical-align: top;\n",
       "    }\n",
       "\n",
       "    .dataframe thead th {\n",
       "        text-align: right;\n",
       "    }\n",
       "</style>\n",
       "<table border=\"1\" class=\"dataframe\">\n",
       "  <thead>\n",
       "    <tr style=\"text-align: right;\">\n",
       "      <th></th>\n",
       "      <th>state_fips_code</th>\n",
       "      <th>county_fips_code</th>\n",
       "      <th>case_positive_specimen_interval</th>\n",
       "      <th>case_onset_interval</th>\n",
       "    </tr>\n",
       "  </thead>\n",
       "  <tbody>\n",
       "    <tr>\n",
       "      <th>count</th>\n",
       "      <td>74848163.00</td>\n",
       "      <td>70163696.00</td>\n",
       "      <td>29693041.00</td>\n",
       "      <td>30493819.00</td>\n",
       "    </tr>\n",
       "    <tr>\n",
       "      <th>mean</th>\n",
       "      <td>26.99</td>\n",
       "      <td>26847.87</td>\n",
       "      <td>0.17</td>\n",
       "      <td>0.06</td>\n",
       "    </tr>\n",
       "    <tr>\n",
       "      <th>std</th>\n",
       "      <td>16.11</td>\n",
       "      <td>16021.69</td>\n",
       "      <td>2.01</td>\n",
       "      <td>1.52</td>\n",
       "    </tr>\n",
       "    <tr>\n",
       "      <th>min</th>\n",
       "      <td>1.00</td>\n",
       "      <td>1001.00</td>\n",
       "      <td>-108.00</td>\n",
       "      <td>-104.00</td>\n",
       "    </tr>\n",
       "    <tr>\n",
       "      <th>25%</th>\n",
       "      <td>12.00</td>\n",
       "      <td>12085.00</td>\n",
       "      <td>0.00</td>\n",
       "      <td>0.00</td>\n",
       "    </tr>\n",
       "    <tr>\n",
       "      <th>50%</th>\n",
       "      <td>27.00</td>\n",
       "      <td>27003.00</td>\n",
       "      <td>0.00</td>\n",
       "      <td>0.00</td>\n",
       "    </tr>\n",
       "    <tr>\n",
       "      <th>75%</th>\n",
       "      <td>40.00</td>\n",
       "      <td>39153.00</td>\n",
       "      <td>0.00</td>\n",
       "      <td>0.00</td>\n",
       "    </tr>\n",
       "    <tr>\n",
       "      <th>max</th>\n",
       "      <td>78.00</td>\n",
       "      <td>56041.00</td>\n",
       "      <td>122.00</td>\n",
       "      <td>113.00</td>\n",
       "    </tr>\n",
       "  </tbody>\n",
       "</table>\n",
       "</div>"
      ],
      "text/plain": [
       "       state_fips_code  county_fips_code  case_positive_specimen_interval  \\\n",
       "count      74848163.00       70163696.00                      29693041.00   \n",
       "mean             26.99          26847.87                             0.17   \n",
       "std              16.11          16021.69                             2.01   \n",
       "min               1.00           1001.00                          -108.00   \n",
       "25%              12.00          12085.00                             0.00   \n",
       "50%              27.00          27003.00                             0.00   \n",
       "75%              40.00          39153.00                             0.00   \n",
       "max              78.00          56041.00                           122.00   \n",
       "\n",
       "       case_onset_interval  \n",
       "count          30493819.00  \n",
       "mean                  0.06  \n",
       "std                   1.52  \n",
       "min                -104.00  \n",
       "25%                   0.00  \n",
       "50%                   0.00  \n",
       "75%                   0.00  \n",
       "max                 113.00  "
      ]
     },
     "execution_count": 7,
     "metadata": {},
     "output_type": "execute_result"
    }
   ],
   "source": [
    "#Check numerical data\n",
    "round(df.describe(),2)"
   ]
  },
  {
   "cell_type": "markdown",
   "id": "ffc19eb3",
   "metadata": {},
   "source": [
    "## 04 Clean Dataframe"
   ]
  },
  {
   "cell_type": "code",
   "execution_count": 12,
   "id": "e37e0749",
   "metadata": {},
   "outputs": [],
   "source": [
    "#rename columns\n",
    "df.rename(columns={df.columns[0]:'date_recieved', df.columns[1]:'state_of_residence', df.columns[2]:'state_code', df.columns[3]:'county_of_residence', df.columns[4]:'county_code', df.columns[12]:'exposure', df.columns[15]:'hospitalized', df.columns[16]:'icu', df.columns[17]:'death', df.columns[18]:'underlying_conditions'}, inplace=True)"
   ]
  },
  {
   "cell_type": "code",
   "execution_count": 13,
   "id": "5fd30e63",
   "metadata": {},
   "outputs": [
    {
     "name": "stdout",
     "output_type": "stream",
     "text": [
      "<class 'pandas.core.frame.DataFrame'>\n",
      "RangeIndex: 74849225 entries, 0 to 74849224\n",
      "Data columns (total 19 columns):\n",
      " #   Column                           Dtype  \n",
      "---  ------                           -----  \n",
      " 0   date_recieved                    object \n",
      " 1   state_of_residence               object \n",
      " 2   state_code                       float64\n",
      " 3   county_of_residence              object \n",
      " 4   county_code                      float64\n",
      " 5   age_group                        object \n",
      " 6   sex                              object \n",
      " 7   race                             object \n",
      " 8   ethnicity                        object \n",
      " 9   case_positive_specimen_interval  float64\n",
      " 10  case_onset_interval              float64\n",
      " 11  process                          object \n",
      " 12  exposure                         object \n",
      " 13  current_status                   object \n",
      " 14  symptom_status                   object \n",
      " 15  hospitalized                     object \n",
      " 16  icu                              object \n",
      " 17  death                            object \n",
      " 18  underlying_conditions            object \n",
      "dtypes: float64(4), object(15)\n",
      "memory usage: 10.6+ GB\n"
     ]
    }
   ],
   "source": [
    "#make sure columns were correctly renamed\n",
    "df.info()"
   ]
  },
  {
   "cell_type": "code",
   "execution_count": 11,
   "id": "7d32f06a",
   "metadata": {},
   "outputs": [
    {
     "name": "stdout",
     "output_type": "stream",
     "text": [
      "date_recieved\n",
      "state_of_residence\n",
      "res_county\n",
      "age_group\n",
      "sex\n",
      "race\n",
      "ethnicity\n",
      "death\n",
      "underlying_conditions_yn\n"
     ]
    }
   ],
   "source": [
    "#Finding mixed data types\n",
    "for col in df.columns.tolist():\n",
    "  weird = (df[[col]].applymap(type) != df[[col]].iloc[0].apply(type)).any(axis = 1)\n",
    "  if len (df[weird]) > 0:\n",
    "    print (col)"
   ]
  },
  {
   "cell_type": "code",
   "execution_count": 18,
   "id": "c9c14733",
   "metadata": {},
   "outputs": [
    {
     "data": {
      "text/plain": [
       "date_recieved                             0\n",
       "state_of_residence                        0\n",
       "state_code                             1062\n",
       "county_of_residence                 4685529\n",
       "county_code                         4685529\n",
       "age_group                            609962\n",
       "sex                                 1823234\n",
       "race                               11155477\n",
       "ethnicity                          12497148\n",
       "case_positive_specimen_interval    45156184\n",
       "case_onset_interval                44355406\n",
       "process                                   0\n",
       "exposure                                  0\n",
       "current_status                            0\n",
       "symptom_status                            0\n",
       "hospitalized                              0\n",
       "icu                                       0\n",
       "death                               2524287\n",
       "underlying_conditions              72050836\n",
       "dtype: int64"
      ]
     },
     "execution_count": 18,
     "metadata": {},
     "output_type": "execute_result"
    }
   ],
   "source": [
    "#Finding number missing values per row\n",
    "df.isnull().sum()"
   ]
  },
  {
   "cell_type": "code",
   "execution_count": 21,
   "id": "311d431a",
   "metadata": {},
   "outputs": [
    {
     "data": {
      "text/plain": [
       "state_code                          0.001419\n",
       "county_of_residence                 6.259957\n",
       "county_code                         6.259957\n",
       "age_group                           0.814921\n",
       "sex                                 2.435876\n",
       "race                               14.903931\n",
       "ethnicity                          16.696429\n",
       "case_positive_specimen_interval    60.329528\n",
       "case_onset_interval                59.259673\n",
       "death                               3.372496\n",
       "underlying_conditions              96.261299\n",
       "dtype: float64"
      ]
     },
     "execution_count": 21,
     "metadata": {},
     "output_type": "execute_result"
    }
   ],
   "source": [
    "#percent of data that is missing per row\n",
    "total_rows = len(df)\n",
    "total_missing_rows = df.isnull().sum()\n",
    "percent_missing_per_row = (total_missing_rows/total_rows) * 100\n",
    "percent_missing_per_row[percent_missing_per_row > 0]"
   ]
  },
  {
   "cell_type": "code",
   "execution_count": 24,
   "id": "ac3fb448",
   "metadata": {},
   "outputs": [],
   "source": [
    "#delete column underlying_conditions because 96% data missing\n",
    "df.drop(columns=['underlying_conditions'], inplace=True)"
   ]
  },
  {
   "cell_type": "code",
   "execution_count": 25,
   "id": "e4cf33fb",
   "metadata": {},
   "outputs": [
    {
     "name": "stdout",
     "output_type": "stream",
     "text": [
      "<class 'pandas.core.frame.DataFrame'>\n",
      "RangeIndex: 74849225 entries, 0 to 74849224\n",
      "Data columns (total 18 columns):\n",
      " #   Column                           Dtype  \n",
      "---  ------                           -----  \n",
      " 0   date_recieved                    object \n",
      " 1   state_of_residence               object \n",
      " 2   state_code                       float64\n",
      " 3   county_of_residence              object \n",
      " 4   county_code                      float64\n",
      " 5   age_group                        object \n",
      " 6   sex                              object \n",
      " 7   race                             object \n",
      " 8   ethnicity                        object \n",
      " 9   case_positive_specimen_interval  float64\n",
      " 10  case_onset_interval              float64\n",
      " 11  process                          object \n",
      " 12  exposure                         object \n",
      " 13  current_status                   object \n",
      " 14  symptom_status                   object \n",
      " 15  hospitalized                     object \n",
      " 16  icu                              object \n",
      " 17  death                            object \n",
      "dtypes: float64(4), object(14)\n",
      "memory usage: 10.0+ GB\n"
     ]
    }
   ],
   "source": [
    "#recheck dataframe\n",
    "df.info()"
   ]
  },
  {
   "cell_type": "code",
   "execution_count": 23,
   "id": "95aaed2d",
   "metadata": {},
   "outputs": [
    {
     "data": {
      "text/plain": [
       "199544654"
      ]
     },
     "execution_count": 23,
     "metadata": {},
     "output_type": "execute_result"
    }
   ],
   "source": [
    "#Finding total missing values \n",
    "df.isnull().sum().sum()"
   ]
  },
  {
   "cell_type": "code",
   "execution_count": 26,
   "id": "aec591ab",
   "metadata": {},
   "outputs": [
    {
     "data": {
      "text/plain": [
       "9.46"
      ]
     },
     "execution_count": 26,
     "metadata": {},
     "output_type": "execute_result"
    }
   ],
   "source": [
    "#percent of data that is missing\n",
    "total_cells = np.product(df.shape)\n",
    "total_missing = df.isnull().sum().sum()\n",
    "total_percent_missing = round((total_missing/total_cells)*100,2)\n",
    "total_percent_missing"
   ]
  },
  {
   "cell_type": "code",
   "execution_count": 15,
   "id": "4b8efa62",
   "metadata": {},
   "outputs": [],
   "source": [
    "#change data type\n",
    "df['date_recieved'] = df['date_recieved'].astype('str')"
   ]
  },
  {
   "cell_type": "code",
   "execution_count": 16,
   "id": "38d36302",
   "metadata": {},
   "outputs": [],
   "source": [
    "#change data type\n",
    "df['state_of_residence'] = df['state_of_residence'].astype('str')"
   ]
  },
  {
   "cell_type": "code",
   "execution_count": 28,
   "id": "9eec9566",
   "metadata": {},
   "outputs": [
    {
     "data": {
      "text/plain": [
       "66163708"
      ]
     },
     "execution_count": 28,
     "metadata": {},
     "output_type": "execute_result"
    }
   ],
   "source": [
    "#finding duplicate records\n",
    "df.duplicated().sum()"
   ]
  },
  {
   "cell_type": "code",
   "execution_count": 30,
   "id": "c1526156",
   "metadata": {},
   "outputs": [
    {
     "data": {
      "text/plain": [
       "array(['Missing', 'No', 'Yes', nan, 'Unknown'], dtype=object)"
      ]
     },
     "execution_count": 30,
     "metadata": {},
     "output_type": "execute_result"
    }
   ],
   "source": [
    "# get all the unique values in a column\n",
    "unique_death=df['death'].unique()\n",
    "unique_death"
   ]
  },
  {
   "cell_type": "code",
   "execution_count": 32,
   "id": "39551861",
   "metadata": {},
   "outputs": [],
   "source": [
    "#Find and Replace\n",
    "df['death'] = df['death'].replace(regex=['Missing'],value='Unknown')"
   ]
  },
  {
   "cell_type": "code",
   "execution_count": 35,
   "id": "9345bce6",
   "metadata": {},
   "outputs": [],
   "source": [
    "#fill in missing values\n",
    "df['death'].fillna('Unknown', inplace=True)"
   ]
  },
  {
   "cell_type": "code",
   "execution_count": 36,
   "id": "ef033b4a",
   "metadata": {},
   "outputs": [
    {
     "data": {
      "text/plain": [
       "array(['Unknown', 'No', 'Yes'], dtype=object)"
      ]
     },
     "execution_count": 36,
     "metadata": {},
     "output_type": "execute_result"
    }
   ],
   "source": [
    "# recheck all the unique values in a column\n",
    "unique_death=df['death'].unique()\n",
    "unique_death"
   ]
  },
  {
   "cell_type": "code",
   "execution_count": 37,
   "id": "5cf7f5f5",
   "metadata": {},
   "outputs": [
    {
     "data": {
      "text/plain": [
       "array(['Missing', 'Unknown', 'Yes', 'No', 'U', 'nul', 'Unk'], dtype=object)"
      ]
     },
     "execution_count": 37,
     "metadata": {},
     "output_type": "execute_result"
    }
   ],
   "source": [
    "# get all the unique values in a column\n",
    "unique_icu=df['icu'].unique()\n",
    "unique_icu"
   ]
  },
  {
   "cell_type": "code",
   "execution_count": 38,
   "id": "51742032",
   "metadata": {},
   "outputs": [],
   "source": [
    "#fill in missing values\n",
    "df['icu'].fillna('Unknown', inplace=True)"
   ]
  },
  {
   "cell_type": "code",
   "execution_count": 39,
   "id": "c3ecd712",
   "metadata": {},
   "outputs": [],
   "source": [
    "#Find and Replace\n",
    "df['icu']=df['icu'].replace(regex=['Missing', 'U', 'nul', 'unk'], value ='Unknown')"
   ]
  },
  {
   "cell_type": "code",
   "execution_count": 40,
   "id": "9cf0dcab",
   "metadata": {},
   "outputs": [
    {
     "data": {
      "text/plain": [
       "array(['Unknown', 'Unknownnknown', 'Yes', 'No', 'Unknownnk'], dtype=object)"
      ]
     },
     "execution_count": 40,
     "metadata": {},
     "output_type": "execute_result"
    }
   ],
   "source": [
    "# recheck all the unique values in a column\n",
    "unique_icu=df['icu'].unique()\n",
    "unique_icu"
   ]
  },
  {
   "cell_type": "code",
   "execution_count": 41,
   "id": "bb2c2086",
   "metadata": {},
   "outputs": [],
   "source": [
    "#Find and Replace\n",
    "df['icu']=df['icu'].replace(regex=['Unknownnknown'], value ='Unknown')"
   ]
  },
  {
   "cell_type": "code",
   "execution_count": 42,
   "id": "18ab1c90",
   "metadata": {},
   "outputs": [],
   "source": [
    "#Find and Replace\n",
    "df['icu']=df['icu'].replace(regex=['Unknownnk'], value ='Unknown')"
   ]
  },
  {
   "cell_type": "code",
   "execution_count": 43,
   "id": "2f42a291",
   "metadata": {},
   "outputs": [
    {
     "data": {
      "text/plain": [
       "array(['Unknown', 'Yes', 'No'], dtype=object)"
      ]
     },
     "execution_count": 43,
     "metadata": {},
     "output_type": "execute_result"
    }
   ],
   "source": [
    "# recheck all the unique values in a column\n",
    "unique_icu=df['icu'].unique()\n",
    "unique_icu"
   ]
  },
  {
   "cell_type": "code",
   "execution_count": 44,
   "id": "87b2c0be",
   "metadata": {},
   "outputs": [
    {
     "data": {
      "text/plain": [
       "array(['Missing', 'No', 'Yes', 'Unknown'], dtype=object)"
      ]
     },
     "execution_count": 44,
     "metadata": {},
     "output_type": "execute_result"
    }
   ],
   "source": [
    "# get all the unique values in a column\n",
    "unique_hospitalized=df['hospitalized'].unique()\n",
    "unique_hospitalized"
   ]
  },
  {
   "cell_type": "code",
   "execution_count": 45,
   "id": "1f895ae2",
   "metadata": {},
   "outputs": [],
   "source": [
    "#Find and Replace\n",
    "df['hospitalized'] = df['hospitalized'].replace(regex=['Missing'],value='Unknown')"
   ]
  },
  {
   "cell_type": "code",
   "execution_count": 46,
   "id": "38f36dd6",
   "metadata": {},
   "outputs": [
    {
     "data": {
      "text/plain": [
       "array(['Unknown', 'No', 'Yes'], dtype=object)"
      ]
     },
     "execution_count": 46,
     "metadata": {},
     "output_type": "execute_result"
    }
   ],
   "source": [
    "# recheck all the unique values in a column\n",
    "unique_hospitalized=df['hospitalized'].unique()\n",
    "unique_hospitalized"
   ]
  },
  {
   "cell_type": "code",
   "execution_count": 47,
   "id": "c9ac0b76",
   "metadata": {},
   "outputs": [
    {
     "data": {
      "text/plain": [
       "array(['Missing', 'Symptomatic', 'Unknown', 'Asymptomatic', 'U', '202',\n",
       "       'Sho', 'gfh', 'Mus', 'Cou', 'Fat', 'nul', 'Unk', 'Yes', 'No',\n",
       "       'Fev', 'Exp', 'exp'], dtype=object)"
      ]
     },
     "execution_count": 47,
     "metadata": {},
     "output_type": "execute_result"
    }
   ],
   "source": [
    "# get all the unique values in a column\n",
    "unique_symptom_status=df['symptom_status'].unique()\n",
    "unique_symptom_status"
   ]
  },
  {
   "cell_type": "code",
   "execution_count": 48,
   "id": "104c10bb",
   "metadata": {},
   "outputs": [],
   "source": [
    "#Find and Replace\n",
    "df['symptom_status'] = df['symptom_status'].replace(regex=['Missing'],value='Unknown')"
   ]
  },
  {
   "cell_type": "code",
   "execution_count": 49,
   "id": "d65ebddb",
   "metadata": {},
   "outputs": [],
   "source": [
    "#Find and Replace\n",
    "df['symptom_status'] = df['symptom_status'].replace(regex=['U'],value='Unknown')"
   ]
  },
  {
   "cell_type": "code",
   "execution_count": 50,
   "id": "9c2bab2d",
   "metadata": {},
   "outputs": [],
   "source": [
    "#Find and Replace\n",
    "df['symptom_status'] = df['symptom_status'].replace(regex=['Unk'],value='Unknown')"
   ]
  },
  {
   "cell_type": "code",
   "execution_count": 51,
   "id": "051e076b",
   "metadata": {},
   "outputs": [],
   "source": [
    "#fill in missing values\n",
    "df['symptom_status'].fillna('Unknown', inplace=True)"
   ]
  },
  {
   "cell_type": "code",
   "execution_count": 52,
   "id": "f19beea4",
   "metadata": {},
   "outputs": [],
   "source": [
    "#Find and Replace\n",
    "df['symptom_status'] = df['symptom_status'].replace(regex=['Unk'],value='Unknown')"
   ]
  },
  {
   "cell_type": "code",
   "execution_count": 53,
   "id": "8f59b73c",
   "metadata": {},
   "outputs": [],
   "source": [
    "#Find and Replace\n",
    "df['symptom_status'] = df['symptom_status'].replace(regex=['exp'],value='Exp')"
   ]
  },
  {
   "cell_type": "code",
   "execution_count": 54,
   "id": "d1699674",
   "metadata": {},
   "outputs": [
    {
     "data": {
      "text/plain": [
       "array(['Unknownnownnknown', 'Symptomatic', 'Asymptomatic', 'Unknownnown',\n",
       "       'Unknown', 'Sho', 'gfh', 'Mus', 'Cou', 'Fat', 'nul',\n",
       "       'Unknownnownnk', 'Yes', 'No', 'Fev', 'Exp'], dtype=object)"
      ]
     },
     "execution_count": 54,
     "metadata": {},
     "output_type": "execute_result"
    }
   ],
   "source": [
    "# recheck all the unique values in a column\n",
    "unique_symptom_status=df['symptom_status'].unique()\n",
    "unique_symptom_status"
   ]
  },
  {
   "cell_type": "code",
   "execution_count": 55,
   "id": "321872e3",
   "metadata": {},
   "outputs": [],
   "source": [
    "#Find and Replace\n",
    "df['symptom_status'] = df['symptom_status'].replace(regex=['Unknownnownnknown'],value='Unknown')"
   ]
  },
  {
   "cell_type": "code",
   "execution_count": 56,
   "id": "bc92ff79",
   "metadata": {},
   "outputs": [],
   "source": [
    "#Find and Replace\n",
    "df['symptom_status'] = df['symptom_status'].replace(regex=['Unknownnown'],value='Unknown')"
   ]
  },
  {
   "cell_type": "code",
   "execution_count": 57,
   "id": "38c89e1d",
   "metadata": {},
   "outputs": [],
   "source": [
    "#Find and Replace\n",
    "df['symptom_status'] = df['symptom_status'].replace(regex=['Unknownnownnk'],value='Unknown')"
   ]
  },
  {
   "cell_type": "code",
   "execution_count": 58,
   "id": "118c1865",
   "metadata": {},
   "outputs": [
    {
     "data": {
      "text/plain": [
       "array(['Unknown', 'Symptomatic', 'Asymptomatic', 'Sho', 'gfh', 'Mus',\n",
       "       'Cou', 'Fat', 'nul', 'Unknownnk', 'Yes', 'No', 'Fev', 'Exp'],\n",
       "      dtype=object)"
      ]
     },
     "execution_count": 58,
     "metadata": {},
     "output_type": "execute_result"
    }
   ],
   "source": [
    "# recheck all the unique values in a column\n",
    "unique_symptom_status=df['symptom_status'].unique()\n",
    "unique_symptom_status"
   ]
  },
  {
   "cell_type": "code",
   "execution_count": 59,
   "id": "83d45545",
   "metadata": {},
   "outputs": [
    {
     "data": {
      "text/plain": [
       "array(['Probable Case', 'Laboratory-confirmed case'], dtype=object)"
      ]
     },
     "execution_count": 59,
     "metadata": {},
     "output_type": "execute_result"
    }
   ],
   "source": [
    "# get all the unique values in a column\n",
    "current_symptom_status=df['current_status'].unique()\n",
    "current_symptom_status"
   ]
  },
  {
   "cell_type": "code",
   "execution_count": 60,
   "id": "d09cf997",
   "metadata": {},
   "outputs": [
    {
     "data": {
      "text/plain": [
       "array(['Missing', 'Yes', 'Unknown'], dtype=object)"
      ]
     },
     "execution_count": 60,
     "metadata": {},
     "output_type": "execute_result"
    }
   ],
   "source": [
    "# get all the unique values in a column\n",
    "unique_exposure=df['exposure'].unique()\n",
    "unique_exposure"
   ]
  },
  {
   "cell_type": "code",
   "execution_count": 61,
   "id": "e54515af",
   "metadata": {},
   "outputs": [],
   "source": [
    "#Find and Replace\n",
    "df['exposure'] = df['exposure'].replace(regex=['Missing'],value='Unknown')"
   ]
  },
  {
   "cell_type": "code",
   "execution_count": 62,
   "id": "66805961",
   "metadata": {},
   "outputs": [
    {
     "data": {
      "text/plain": [
       "array(['Unknown', 'Yes'], dtype=object)"
      ]
     },
     "execution_count": 62,
     "metadata": {},
     "output_type": "execute_result"
    }
   ],
   "source": [
    "# Recheck all the unique values in a column\n",
    "unique_exposure=df['exposure'].unique()\n",
    "unique_exposure"
   ]
  },
  {
   "cell_type": "code",
   "execution_count": 63,
   "id": "0d748a5d",
   "metadata": {},
   "outputs": [
    {
     "data": {
      "text/plain": [
       "array(['Missing', 'Laboratory reported', 'Routine surveillance',\n",
       "       'Clinical evaluation', 'Multiple', 'Other',\n",
       "       'Contact tracing of case patient', 'Provider reported',\n",
       "       'Routine physical examination', 'Unknown',\n",
       "       'Other detection method (specify)', 'Autopsy'], dtype=object)"
      ]
     },
     "execution_count": 63,
     "metadata": {},
     "output_type": "execute_result"
    }
   ],
   "source": [
    "# get all the unique values in a column\n",
    "unique_process=df['process'].unique()\n",
    "unique_process"
   ]
  },
  {
   "cell_type": "code",
   "execution_count": 64,
   "id": "447f7b4b",
   "metadata": {},
   "outputs": [
    {
     "data": {
      "text/plain": [
       "array(['Non-Hispanic/Latino', 'Unknown', nan, 'Hispanic/Latino',\n",
       "       'Missing'], dtype=object)"
      ]
     },
     "execution_count": 64,
     "metadata": {},
     "output_type": "execute_result"
    }
   ],
   "source": [
    "# get all the unique values in a column\n",
    "unique_ethnicity=df['ethnicity'].unique()\n",
    "unique_ethnicity"
   ]
  },
  {
   "cell_type": "code",
   "execution_count": 65,
   "id": "2b109c54",
   "metadata": {},
   "outputs": [],
   "source": [
    "#fill in missing values\n",
    "df['ethnicity'].fillna('Unknown', inplace=True)"
   ]
  },
  {
   "cell_type": "code",
   "execution_count": 66,
   "id": "c6bcac48",
   "metadata": {},
   "outputs": [],
   "source": [
    "#Find and Replace\n",
    "df['ethnicity'] = df['ethnicity'].replace(regex=['Missing'],value='Unknown')"
   ]
  },
  {
   "cell_type": "code",
   "execution_count": 67,
   "id": "1c7f9068",
   "metadata": {},
   "outputs": [
    {
     "data": {
      "text/plain": [
       "array(['Non-Hispanic/Latino', 'Unknown', 'Hispanic/Latino'], dtype=object)"
      ]
     },
     "execution_count": 67,
     "metadata": {},
     "output_type": "execute_result"
    }
   ],
   "source": [
    "# recheck all the unique values in a column\n",
    "unique_ethnicity=df['ethnicity'].unique()\n",
    "unique_ethnicity"
   ]
  },
  {
   "cell_type": "code",
   "execution_count": 68,
   "id": "ddffe0b1",
   "metadata": {},
   "outputs": [
    {
     "data": {
      "text/plain": [
       "array(['White', 'Unknown', nan, 'American Indian/Alaska Native', 'Asian',\n",
       "       'Black', 'Missing', 'Native Hawaiian/Other Pacific Islander',\n",
       "       'Multiple/Other'], dtype=object)"
      ]
     },
     "execution_count": 68,
     "metadata": {},
     "output_type": "execute_result"
    }
   ],
   "source": [
    "# get all the unique values in a column\n",
    "unique_race=df['race'].unique()\n",
    "unique_race"
   ]
  },
  {
   "cell_type": "code",
   "execution_count": 69,
   "id": "8e1a193d",
   "metadata": {},
   "outputs": [],
   "source": [
    "#fill in missing values\n",
    "df['race'].fillna('Unknown', inplace=True)"
   ]
  },
  {
   "cell_type": "code",
   "execution_count": 70,
   "id": "cd987215",
   "metadata": {},
   "outputs": [],
   "source": [
    "#Find and Replace\n",
    "df['race'] = df['race'].replace(regex=['Missing'],value='Unknown')"
   ]
  },
  {
   "cell_type": "code",
   "execution_count": 71,
   "id": "805dc03d",
   "metadata": {},
   "outputs": [
    {
     "data": {
      "text/plain": [
       "array(['White', 'Unknown', 'American Indian/Alaska Native', 'Asian',\n",
       "       'Black', 'Native Hawaiian/Other Pacific Islander',\n",
       "       'Multiple/Other'], dtype=object)"
      ]
     },
     "execution_count": 71,
     "metadata": {},
     "output_type": "execute_result"
    }
   ],
   "source": [
    "# recheck all the unique values in a column\n",
    "unique_race=df['race'].unique()\n",
    "unique_race"
   ]
  },
  {
   "cell_type": "code",
   "execution_count": 72,
   "id": "81a207c9",
   "metadata": {},
   "outputs": [
    {
     "data": {
      "text/plain": [
       "array(['Female', 'Unknown', 'Male', nan, 'Missing', 'Other'], dtype=object)"
      ]
     },
     "execution_count": 72,
     "metadata": {},
     "output_type": "execute_result"
    }
   ],
   "source": [
    "# get all the unique values in a column\n",
    "unique_sex=df['sex'].unique()\n",
    "unique_sex"
   ]
  },
  {
   "cell_type": "code",
   "execution_count": 73,
   "id": "9d958142",
   "metadata": {},
   "outputs": [],
   "source": [
    "#fill in missing values\n",
    "df['sex'].fillna('Unknown', inplace=True)"
   ]
  },
  {
   "cell_type": "code",
   "execution_count": 74,
   "id": "02fad4a8",
   "metadata": {},
   "outputs": [],
   "source": [
    "#Find and Replace\n",
    "df['sex'] = df['sex'].replace(regex=['Missing'],value='Unknown')"
   ]
  },
  {
   "cell_type": "code",
   "execution_count": 75,
   "id": "b7818432",
   "metadata": {},
   "outputs": [
    {
     "data": {
      "text/plain": [
       "array(['Female', 'Unknown', 'Male', 'Other'], dtype=object)"
      ]
     },
     "execution_count": 75,
     "metadata": {},
     "output_type": "execute_result"
    }
   ],
   "source": [
    "# recheck all the unique values in a column\n",
    "unique_sex=df['sex'].unique()\n",
    "unique_sex"
   ]
  },
  {
   "cell_type": "code",
   "execution_count": 76,
   "id": "7e329c96",
   "metadata": {},
   "outputs": [
    {
     "data": {
      "text/plain": [
       "array(['65+ years', 'Missing', '18 to 49 years', '0 - 17 years',\n",
       "       '50 to 64 years', nan], dtype=object)"
      ]
     },
     "execution_count": 76,
     "metadata": {},
     "output_type": "execute_result"
    }
   ],
   "source": [
    "# get all the unique values in a column\n",
    "unique_age_group=df['age_group'].unique()\n",
    "unique_age_group"
   ]
  },
  {
   "cell_type": "code",
   "execution_count": 77,
   "id": "a9f7297d",
   "metadata": {},
   "outputs": [],
   "source": [
    "#fill in missing values\n",
    "df['age_group'].fillna('Unknown', inplace=True)"
   ]
  },
  {
   "cell_type": "code",
   "execution_count": 78,
   "id": "832f3afe",
   "metadata": {},
   "outputs": [],
   "source": [
    "#Find and Replace\n",
    "df['age_group'] = df['age_group'].replace(regex=['Missing'],value='Unknown')"
   ]
  },
  {
   "cell_type": "code",
   "execution_count": 79,
   "id": "dd8b2331",
   "metadata": {},
   "outputs": [
    {
     "data": {
      "text/plain": [
       "array(['65+ years', 'Unknown', '18 to 49 years', '0 - 17 years',\n",
       "       '50 to 64 years'], dtype=object)"
      ]
     },
     "execution_count": 79,
     "metadata": {},
     "output_type": "execute_result"
    }
   ],
   "source": [
    "# recheck all the unique values in a column\n",
    "unique_age_group=df['age_group'].unique()\n",
    "unique_age_group"
   ]
  },
  {
   "cell_type": "markdown",
   "id": "8bcbce3b",
   "metadata": {},
   "source": [
    "## Export Dataframe"
   ]
  },
  {
   "cell_type": "code",
   "execution_count": 80,
   "id": "570fe6de",
   "metadata": {},
   "outputs": [],
   "source": [
    "#use pickle to export dataframe\n",
    "df.to_pickle(r\"C:\\Users\\drmat\\OneDrive\\Documents\\Career Foundry\\COVID_Suicide\\02 Data\\01 Raw\\COVID\\COVID-19_Case_Surveillance_Public_Use_Data_with_Geography.pkl\")"
   ]
  },
  {
   "cell_type": "code",
   "execution_count": null,
   "id": "17fd610c",
   "metadata": {},
   "outputs": [],
   "source": []
  }
 ],
 "metadata": {
  "kernelspec": {
   "display_name": "Python 3 (ipykernel)",
   "language": "python",
   "name": "python3"
  },
  "language_info": {
   "codemirror_mode": {
    "name": "ipython",
    "version": 3
   },
   "file_extension": ".py",
   "mimetype": "text/x-python",
   "name": "python",
   "nbconvert_exporter": "python",
   "pygments_lexer": "ipython3",
   "version": "3.9.12"
  }
 },
 "nbformat": 4,
 "nbformat_minor": 5
}

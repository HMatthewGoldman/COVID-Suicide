{
 "cells": [
  {
   "cell_type": "markdown",
   "id": "e18bd308",
   "metadata": {},
   "source": [
    "## Import Libraries"
   ]
  },
  {
   "cell_type": "code",
   "execution_count": 3,
   "id": "95aec338",
   "metadata": {},
   "outputs": [],
   "source": [
    "# import Libraries\n",
    "import pandas as pd\n",
    "import numpy as np\n",
    "import os\n",
    "import matplotlib\n",
    "import matplotlib.pyplot as plt\n",
    "import seaborn as sns\n",
    "import scipy\n"
   ]
  },
  {
   "cell_type": "markdown",
   "id": "d7c36972",
   "metadata": {},
   "source": [
    "## Import Dataframe"
   ]
  },
  {
   "cell_type": "code",
   "execution_count": 4,
   "id": "c5a42286",
   "metadata": {},
   "outputs": [],
   "source": [
    "df_covid_age=pd.read_pickle(r\"C:\\Users\\drmat\\OneDrive\\Documents\\Career Foundry\\COVID_Suicide\\02 Data\\02 Prepared\\COVID\\age_group.pkl\")"
   ]
  },
  {
   "cell_type": "markdown",
   "id": "76f41098",
   "metadata": {},
   "source": [
    "## Inspect Datatframe"
   ]
  },
  {
   "cell_type": "code",
   "execution_count": 5,
   "id": "01456ef8",
   "metadata": {},
   "outputs": [
    {
     "name": "stdout",
     "output_type": "stream",
     "text": [
      "<class 'pandas.core.frame.DataFrame'>\n",
      "Int64Index: 74849223 entries, 0 to 74849224\n",
      "Data columns (total 3 columns):\n",
      " #   Column              Dtype \n",
      "---  ------              ----- \n",
      " 0   year                object\n",
      " 1   state_of_residence  object\n",
      " 2   age_group           object\n",
      "dtypes: object(3)\n",
      "memory usage: 2.2+ GB\n"
     ]
    }
   ],
   "source": [
    "df_covid_age.info()"
   ]
  },
  {
   "cell_type": "code",
   "execution_count": 6,
   "id": "f4e2f03c",
   "metadata": {},
   "outputs": [
    {
     "data": {
      "text/html": [
       "<div>\n",
       "<style scoped>\n",
       "    .dataframe tbody tr th:only-of-type {\n",
       "        vertical-align: middle;\n",
       "    }\n",
       "\n",
       "    .dataframe tbody tr th {\n",
       "        vertical-align: top;\n",
       "    }\n",
       "\n",
       "    .dataframe thead th {\n",
       "        text-align: right;\n",
       "    }\n",
       "</style>\n",
       "<table border=\"1\" class=\"dataframe\">\n",
       "  <thead>\n",
       "    <tr style=\"text-align: right;\">\n",
       "      <th></th>\n",
       "      <th>year</th>\n",
       "      <th>state_of_residence</th>\n",
       "      <th>age_group</th>\n",
       "    </tr>\n",
       "  </thead>\n",
       "  <tbody>\n",
       "    <tr>\n",
       "      <th>0</th>\n",
       "      <td>2022</td>\n",
       "      <td>AZ</td>\n",
       "      <td>65+ years</td>\n",
       "    </tr>\n",
       "    <tr>\n",
       "      <th>1</th>\n",
       "      <td>2021</td>\n",
       "      <td>NE</td>\n",
       "      <td>Unknown</td>\n",
       "    </tr>\n",
       "    <tr>\n",
       "      <th>2</th>\n",
       "      <td>2022</td>\n",
       "      <td>FL</td>\n",
       "      <td>18 to 49 years</td>\n",
       "    </tr>\n",
       "    <tr>\n",
       "      <th>3</th>\n",
       "      <td>2021</td>\n",
       "      <td>IL</td>\n",
       "      <td>65+ years</td>\n",
       "    </tr>\n",
       "    <tr>\n",
       "      <th>4</th>\n",
       "      <td>2022</td>\n",
       "      <td>AZ</td>\n",
       "      <td>65+ years</td>\n",
       "    </tr>\n",
       "  </tbody>\n",
       "</table>\n",
       "</div>"
      ],
      "text/plain": [
       "   year state_of_residence       age_group\n",
       "0  2022                 AZ       65+ years\n",
       "1  2021                 NE         Unknown\n",
       "2  2022                 FL  18 to 49 years\n",
       "3  2021                 IL       65+ years\n",
       "4  2022                 AZ       65+ years"
      ]
     },
     "execution_count": 6,
     "metadata": {},
     "output_type": "execute_result"
    }
   ],
   "source": [
    "df_covid_age.head()"
   ]
  },
  {
   "cell_type": "code",
   "execution_count": 7,
   "id": "a9de316c",
   "metadata": {},
   "outputs": [],
   "source": [
    "# rename state column to match other dataframes\n",
    "df_covid_age.rename(columns={'state_of_residence':'state'},inplace=True)"
   ]
  },
  {
   "cell_type": "code",
   "execution_count": 8,
   "id": "2e951026",
   "metadata": {},
   "outputs": [],
   "source": [
    "# create dictionary to change abbreviatiosn to full spelling inorder to match other dataframes\n",
    "states={\n",
    "\"AL\" : \"Alabama\",\n",
    "\"AK\" : \"Alaska\",\n",
    "\"AZ\" : \"Arizona\",\n",
    "\"AR\" : \"Arkansas\",\n",
    "\"CA\" : \"California\",\n",
    "\"CO\" : \"Colorado\",\n",
    "\"CT\" : \"Connecticut\",\n",
    "\"DE\" : \"Delaware\",\n",
    "\"DC\" : \"District of Columbia\",\n",
    "\"FL\" : \"Florida\",\n",
    "\"GA\" : \"Georgia\",\n",
    "\"HI\" : \"Hawaii\",\n",
    "\"ID\" : \"Idaho\",\n",
    "\"IL\" : \"Illinois\",\n",
    "\"IN\" : \"Indiana\",\n",
    "\"IA\" : \"Iowa\",\n",
    "\"KS\" : \"Kansas\",\n",
    "\"KY\" : \"Kentucky\",\n",
    "\"LA\" : \"Louisiana\",\n",
    "\"ME\" : \"Maine\",\n",
    "\"MD\" : \"Maryland\",\n",
    "\"MA\" : \"Massachusetts\",\n",
    "\"MI\" : \"Michigan\",\n",
    "\"MN\" : \"Minnesota\",\n",
    "\"MS\" : \"Mississippi\",\n",
    "\"MO\" : \"Missouri\",\n",
    "\"MT\" : \"Montana\",\n",
    "\"NE\" : \"Nebraska\",\n",
    "\"NV\" : \"Nevada\",\n",
    "\"NH\" : \"New Hampshire\",\n",
    "\"NJ\" : \"New Jersey\",\n",
    "\"NM\" : \"New Mexico\",\n",
    "\"NY\" : \"New York\",\n",
    "\"NC\" : \"North Carolina\",\n",
    "\"ND\" : \"North Dakota\",\n",
    "\"OH\" : \"Ohio\",\n",
    "\"OK\" : \"Oklahoma\",\n",
    "\"OR\" : \"Oregon\",\n",
    "\"PA\" : \"Pennsylvania\",\n",
    "\"RI\" : \"Rhode Island\",\n",
    "\"SC\" : \"South Carolina\",\n",
    "\"SD\" : \"South Dakota\",\n",
    "\"TN\" : \"Tennessee\",\n",
    "\"TX\" : \"Texas\",\n",
    "\"UT\" : \"Utah\",\n",
    "\"VT\" : \"Vermont\",\n",
    "\"VA\" : \"Virginia\",\n",
    "\"WA\" : \"Washington\",\n",
    "\"WV\" : \"West Virginia\",\n",
    "\"WI\" : \"Wisconsin\",\n",
    "\"WY\" : \"Wyoming\",\n",
    "\n",
    "}"
   ]
  },
  {
   "cell_type": "code",
   "execution_count": null,
   "id": "ac59baa7",
   "metadata": {},
   "outputs": [],
   "source": [
    "# replace state abbreviations wtih full spelling\n",
    "df['state'].replace(states, inplace=True)"
   ]
  },
  {
   "cell_type": "code",
   "execution_count": 10,
   "id": "560d5a9c",
   "metadata": {},
   "outputs": [
    {
     "data": {
      "text/html": [
       "<div>\n",
       "<style scoped>\n",
       "    .dataframe tbody tr th:only-of-type {\n",
       "        vertical-align: middle;\n",
       "    }\n",
       "\n",
       "    .dataframe tbody tr th {\n",
       "        vertical-align: top;\n",
       "    }\n",
       "\n",
       "    .dataframe thead th {\n",
       "        text-align: right;\n",
       "    }\n",
       "</style>\n",
       "<table border=\"1\" class=\"dataframe\">\n",
       "  <thead>\n",
       "    <tr style=\"text-align: right;\">\n",
       "      <th></th>\n",
       "      <th>year</th>\n",
       "      <th>state</th>\n",
       "      <th>age_group</th>\n",
       "    </tr>\n",
       "  </thead>\n",
       "  <tbody>\n",
       "    <tr>\n",
       "      <th>0</th>\n",
       "      <td>2022</td>\n",
       "      <td>Arizona</td>\n",
       "      <td>65+ years</td>\n",
       "    </tr>\n",
       "    <tr>\n",
       "      <th>1</th>\n",
       "      <td>2021</td>\n",
       "      <td>Nebraska</td>\n",
       "      <td>Unknown</td>\n",
       "    </tr>\n",
       "    <tr>\n",
       "      <th>2</th>\n",
       "      <td>2022</td>\n",
       "      <td>Florida</td>\n",
       "      <td>18 to 49 years</td>\n",
       "    </tr>\n",
       "    <tr>\n",
       "      <th>3</th>\n",
       "      <td>2021</td>\n",
       "      <td>Illinois</td>\n",
       "      <td>65+ years</td>\n",
       "    </tr>\n",
       "    <tr>\n",
       "      <th>4</th>\n",
       "      <td>2022</td>\n",
       "      <td>Arizona</td>\n",
       "      <td>65+ years</td>\n",
       "    </tr>\n",
       "  </tbody>\n",
       "</table>\n",
       "</div>"
      ],
      "text/plain": [
       "   year     state       age_group\n",
       "0  2022   Arizona       65+ years\n",
       "1  2021  Nebraska         Unknown\n",
       "2  2022   Florida  18 to 49 years\n",
       "3  2021  Illinois       65+ years\n",
       "4  2022   Arizona       65+ years"
      ]
     },
     "execution_count": 10,
     "metadata": {},
     "output_type": "execute_result"
    }
   ],
   "source": [
    "#recehck dataframe\n",
    "df_covid_age.head()"
   ]
  },
  {
   "cell_type": "code",
   "execution_count": 11,
   "id": "2d9b2c99",
   "metadata": {},
   "outputs": [],
   "source": [
    "# add aggregation column\n",
    "df_covid_age['covid_cases']=1"
   ]
  },
  {
   "cell_type": "code",
   "execution_count": 12,
   "id": "38ac6146",
   "metadata": {},
   "outputs": [
    {
     "data": {
      "text/plain": [
       "year           0\n",
       "state          0\n",
       "age_group      0\n",
       "covid_cases    0\n",
       "dtype: int64"
      ]
     },
     "execution_count": 12,
     "metadata": {},
     "output_type": "execute_result"
    }
   ],
   "source": [
    "#check for misssing values\n",
    "df_covid_age.isnull().sum()"
   ]
  },
  {
   "cell_type": "code",
   "execution_count": 13,
   "id": "e5b85028",
   "metadata": {},
   "outputs": [
    {
     "data": {
      "text/plain": [
       "2021    32616464\n",
       "2022    23058468\n",
       "2020    19174281\n",
       "nan           10\n",
       "Name: year, dtype: int64"
      ]
     },
     "execution_count": 13,
     "metadata": {},
     "output_type": "execute_result"
    }
   ],
   "source": [
    "#check for unique values\n",
    "df_covid_age['year'].value_counts(dropna = False)"
   ]
  },
  {
   "cell_type": "code",
   "execution_count": 14,
   "id": "0571218b",
   "metadata": {},
   "outputs": [
    {
     "data": {
      "text/html": [
       "<div>\n",
       "<style scoped>\n",
       "    .dataframe tbody tr th:only-of-type {\n",
       "        vertical-align: middle;\n",
       "    }\n",
       "\n",
       "    .dataframe tbody tr th {\n",
       "        vertical-align: top;\n",
       "    }\n",
       "\n",
       "    .dataframe thead th {\n",
       "        text-align: right;\n",
       "    }\n",
       "</style>\n",
       "<table border=\"1\" class=\"dataframe\">\n",
       "  <thead>\n",
       "    <tr style=\"text-align: right;\">\n",
       "      <th></th>\n",
       "      <th>index</th>\n",
       "      <th>year</th>\n",
       "      <th>state</th>\n",
       "      <th>age_group</th>\n",
       "      <th>covid_cases</th>\n",
       "    </tr>\n",
       "  </thead>\n",
       "  <tbody>\n",
       "    <tr>\n",
       "      <th>0</th>\n",
       "      <td>2400892</td>\n",
       "      <td>nan</td>\n",
       "      <td>nan</td>\n",
       "      <td>Unknown</td>\n",
       "      <td>1</td>\n",
       "    </tr>\n",
       "    <tr>\n",
       "      <th>1</th>\n",
       "      <td>2400894</td>\n",
       "      <td>nan</td>\n",
       "      <td>nan</td>\n",
       "      <td>Unknown</td>\n",
       "      <td>1</td>\n",
       "    </tr>\n",
       "    <tr>\n",
       "      <th>2</th>\n",
       "      <td>2400896</td>\n",
       "      <td>nan</td>\n",
       "      <td>nan</td>\n",
       "      <td>Unknown</td>\n",
       "      <td>1</td>\n",
       "    </tr>\n",
       "    <tr>\n",
       "      <th>3</th>\n",
       "      <td>2400898</td>\n",
       "      <td>nan</td>\n",
       "      <td>nan</td>\n",
       "      <td>Unknown</td>\n",
       "      <td>1</td>\n",
       "    </tr>\n",
       "    <tr>\n",
       "      <th>4</th>\n",
       "      <td>2400900</td>\n",
       "      <td>nan</td>\n",
       "      <td>nan</td>\n",
       "      <td>Unknown</td>\n",
       "      <td>1</td>\n",
       "    </tr>\n",
       "    <tr>\n",
       "      <th>5</th>\n",
       "      <td>2400902</td>\n",
       "      <td>nan</td>\n",
       "      <td>nan</td>\n",
       "      <td>Unknown</td>\n",
       "      <td>1</td>\n",
       "    </tr>\n",
       "    <tr>\n",
       "      <th>6</th>\n",
       "      <td>2400904</td>\n",
       "      <td>nan</td>\n",
       "      <td>nan</td>\n",
       "      <td>Unknown</td>\n",
       "      <td>1</td>\n",
       "    </tr>\n",
       "    <tr>\n",
       "      <th>7</th>\n",
       "      <td>2400906</td>\n",
       "      <td>nan</td>\n",
       "      <td>nan</td>\n",
       "      <td>Unknown</td>\n",
       "      <td>1</td>\n",
       "    </tr>\n",
       "    <tr>\n",
       "      <th>8</th>\n",
       "      <td>2400908</td>\n",
       "      <td>nan</td>\n",
       "      <td>nan</td>\n",
       "      <td>Unknown</td>\n",
       "      <td>1</td>\n",
       "    </tr>\n",
       "    <tr>\n",
       "      <th>9</th>\n",
       "      <td>2400910</td>\n",
       "      <td>nan</td>\n",
       "      <td>nan</td>\n",
       "      <td>Unknown</td>\n",
       "      <td>1</td>\n",
       "    </tr>\n",
       "  </tbody>\n",
       "</table>\n",
       "</div>"
      ],
      "text/plain": [
       "     index year state age_group  covid_cases\n",
       "0  2400892  nan   nan   Unknown            1\n",
       "1  2400894  nan   nan   Unknown            1\n",
       "2  2400896  nan   nan   Unknown            1\n",
       "3  2400898  nan   nan   Unknown            1\n",
       "4  2400900  nan   nan   Unknown            1\n",
       "5  2400902  nan   nan   Unknown            1\n",
       "6  2400904  nan   nan   Unknown            1\n",
       "7  2400906  nan   nan   Unknown            1\n",
       "8  2400908  nan   nan   Unknown            1\n",
       "9  2400910  nan   nan   Unknown            1"
      ]
     },
     "execution_count": 14,
     "metadata": {},
     "output_type": "execute_result"
    }
   ],
   "source": [
    "df_nan = df_covid_age[df_covid_age['year']=='nan']\n",
    "df_nan.reset_index()"
   ]
  },
  {
   "cell_type": "code",
   "execution_count": 15,
   "id": "46d35310",
   "metadata": {},
   "outputs": [
    {
     "data": {
      "text/plain": [
       "2021    32616464\n",
       "2022    23058468\n",
       "2020    19174281\n",
       "nan           10\n",
       "Name: year, dtype: int64"
      ]
     },
     "execution_count": 15,
     "metadata": {},
     "output_type": "execute_result"
    }
   ],
   "source": [
    "#check for unique values\n",
    "df_covid_age['year'].value_counts(dropna = False)"
   ]
  },
  {
   "cell_type": "code",
   "execution_count": 16,
   "id": "6288f388",
   "metadata": {},
   "outputs": [
    {
     "data": {
      "text/plain": [
       "California              9526506\n",
       "New York                5367915\n",
       "Florida                 4609517\n",
       "Texas                   4446497\n",
       "Illinois                3308572\n",
       "North Carolina          3168801\n",
       "Pennsylvania            2908543\n",
       "Ohio                    2764700\n",
       "New Jersey              2426162\n",
       "Georgia                 2155671\n",
       "Arizona                 2054040\n",
       "Tennessee               2027232\n",
       "Massachusetts           1866785\n",
       "Michigan                1843529\n",
       "Indiana                 1752703\n",
       "Virginia                1684150\n",
       "Washington              1565134\n",
       "South Carolina          1518574\n",
       "Minnesota               1502636\n",
       "Missouri                1440880\n",
       "Colorado                1434381\n",
       "Wisconsin               1361689\n",
       "Alabama                 1299231\n",
       "Louisiana               1188399\n",
       "Kentucky                1038843\n",
       "Maryland                 973209\n",
       "Utah                     951694\n",
       "Arkansas                 836616\n",
       "Kansas                   792593\n",
       "Oregon                   760653\n",
       "Oklahoma                 723439\n",
       "Nevada                   681991\n",
       "New Mexico               513496\n",
       "Iowa                     503477\n",
       "Connecticut              455749\n",
       "Idaho                    450005\n",
       "Nebraska                 311604\n",
       "Delaware                 268795\n",
       "Maine                    254247\n",
       "Rhode Island             253646\n",
       "Alaska                   251541\n",
       "Montana                  250587\n",
       "North Dakota             243717\n",
       "South Dakota             220262\n",
       "Hawaii                   167032\n",
       "Wyoming                  158414\n",
       "District of Columbia     138254\n",
       "Vermont                  120163\n",
       "New Hampshire             95439\n",
       "PR                        87797\n",
       "Mississippi               59869\n",
       "GU                        34200\n",
       "Virgin Islands            18078\n",
       "West Virginia             10504\n",
       "nan                        1062\n",
       "Name: state, dtype: int64"
      ]
     },
     "execution_count": 16,
     "metadata": {},
     "output_type": "execute_result"
    }
   ],
   "source": [
    "#check for unique values\n",
    "df_covid_age['state'].value_counts(dropna = False)"
   ]
  },
  {
   "cell_type": "code",
   "execution_count": 17,
   "id": "c58dd121",
   "metadata": {},
   "outputs": [],
   "source": [
    "# Delete row(s) containing specific column value(s)\n",
    "df_covid_age.drop(df_covid_age.index[df_covid_age['state']=='PR'],inplace=True) \n",
    "df_covid_age.reset_index(inplace=True)"
   ]
  },
  {
   "cell_type": "code",
   "execution_count": 18,
   "id": "4ff68e78",
   "metadata": {},
   "outputs": [],
   "source": [
    "# Delete row(s) containing specific column value(s)\n",
    "df_covid_age.drop(df_covid_age.index[df_covid_age['state']=='GU'],inplace=True) "
   ]
  },
  {
   "cell_type": "code",
   "execution_count": null,
   "id": "5299ea53",
   "metadata": {},
   "outputs": [],
   "source": [
    "# Delete row(s) containing specific column value(s)\n",
    "df_covid_age.drop(df_covid_age.index[df_covid_age['state']=='VI'],inplace=True) "
   ]
  },
  {
   "cell_type": "code",
   "execution_count": 19,
   "id": "ac2658c6",
   "metadata": {},
   "outputs": [],
   "source": [
    "# Delete row(s) containing specific column value(s)\n",
    "df_covid_age.drop(df_covid_age.index[df_covid_age['state']=='nan'],inplace=True) "
   ]
  },
  {
   "cell_type": "code",
   "execution_count": 20,
   "id": "ac5d3d5e",
   "metadata": {},
   "outputs": [
    {
     "data": {
      "text/plain": [
       "California              9526506\n",
       "New York                5367915\n",
       "Florida                 4609517\n",
       "Texas                   4446497\n",
       "Illinois                3308572\n",
       "North Carolina          3168801\n",
       "Pennsylvania            2908543\n",
       "Ohio                    2764700\n",
       "New Jersey              2426162\n",
       "Georgia                 2155671\n",
       "Arizona                 2054040\n",
       "Tennessee               2027232\n",
       "Massachusetts           1866785\n",
       "Michigan                1843529\n",
       "Indiana                 1752703\n",
       "Virginia                1684150\n",
       "Washington              1565134\n",
       "South Carolina          1518574\n",
       "Minnesota               1502636\n",
       "Missouri                1440880\n",
       "Colorado                1434381\n",
       "Wisconsin               1361689\n",
       "Alabama                 1299231\n",
       "Louisiana               1188399\n",
       "Kentucky                1038843\n",
       "Maryland                 973209\n",
       "Utah                     951694\n",
       "Arkansas                 836616\n",
       "Kansas                   792593\n",
       "Oregon                   760653\n",
       "Oklahoma                 723439\n",
       "Nevada                   681991\n",
       "New Mexico               513496\n",
       "Iowa                     503477\n",
       "Connecticut              455749\n",
       "Idaho                    450005\n",
       "Nebraska                 311604\n",
       "Delaware                 268795\n",
       "Maine                    254247\n",
       "Rhode Island             253646\n",
       "Alaska                   251541\n",
       "Montana                  250587\n",
       "North Dakota             243717\n",
       "South Dakota             220262\n",
       "Hawaii                   167032\n",
       "Wyoming                  158414\n",
       "District of Columbia     138254\n",
       "Vermont                  120163\n",
       "New Hampshire             95439\n",
       "Mississippi               59869\n",
       "Virgin Islands            18078\n",
       "West Virginia             10504\n",
       "Name: state, dtype: int64"
      ]
     },
     "execution_count": 20,
     "metadata": {},
     "output_type": "execute_result"
    }
   ],
   "source": [
    "#check for unique values\n",
    "df_covid_age['state'].value_counts(dropna = False)"
   ]
  },
  {
   "cell_type": "code",
   "execution_count": 21,
   "id": "0720dd2e",
   "metadata": {},
   "outputs": [
    {
     "data": {
      "text/plain": [
       "18 to 49 years    38661510\n",
       "50 to 64 years    13374279\n",
       "0 - 17 years      12834323\n",
       "65+ years          8521617\n",
       "Unknown            1334435\n",
       "Name: age_group, dtype: int64"
      ]
     },
     "execution_count": 21,
     "metadata": {},
     "output_type": "execute_result"
    }
   ],
   "source": [
    "#check for unique values\n",
    "df_covid_age['age_group'].value_counts(dropna = False)"
   ]
  },
  {
   "cell_type": "code",
   "execution_count": 2,
   "id": "4a5234a9",
   "metadata": {},
   "outputs": [
    {
     "ename": "NameError",
     "evalue": "name 'df_covid_age' is not defined",
     "output_type": "error",
     "traceback": [
      "\u001b[1;31m---------------------------------------------------------------------------\u001b[0m",
      "\u001b[1;31mNameError\u001b[0m                                 Traceback (most recent call last)",
      "Input \u001b[1;32mIn [2]\u001b[0m, in \u001b[0;36m<cell line: 1>\u001b[1;34m()\u001b[0m\n\u001b[1;32m----> 1\u001b[0m \u001b[43mdf_covid_age\u001b[49m\u001b[38;5;241m.\u001b[39mreplace([\u001b[38;5;124m'\u001b[39m\u001b[38;5;124m18 to 49 years\u001b[39m\u001b[38;5;124m'\u001b[39m],\u001b[38;5;124m'\u001b[39m\u001b[38;5;124m18-49\u001b[39m\u001b[38;5;124m'\u001b[39m,inplace\u001b[38;5;241m=\u001b[39m\u001b[38;5;28;01mTrue\u001b[39;00m)\n",
      "\u001b[1;31mNameError\u001b[0m: name 'df_covid_age' is not defined"
     ]
    }
   ],
   "source": [
    "df_covid_age.replace(['18 to 49 years'],'18-49',inplace=True)"
   ]
  },
  {
   "cell_type": "code",
   "execution_count": null,
   "id": "8f0485eb",
   "metadata": {},
   "outputs": [],
   "source": [
    "df_covid_age.replace(['65+ years'],'65+',inplace=True)"
   ]
  },
  {
   "cell_type": "code",
   "execution_count": null,
   "id": "a68931e5",
   "metadata": {},
   "outputs": [],
   "source": [
    "df_covid_age.replace(['50 to 64 years'],'50-64',inplace=True)"
   ]
  },
  {
   "cell_type": "code",
   "execution_count": null,
   "id": "e043fb07",
   "metadata": {},
   "outputs": [],
   "source": [
    "df_covid_age.replace(['0 - 17 years'],'0-17',inplace=True)"
   ]
  },
  {
   "cell_type": "code",
   "execution_count": 22,
   "id": "1d254222",
   "metadata": {},
   "outputs": [
    {
     "data": {
      "text/html": [
       "<div>\n",
       "<style scoped>\n",
       "    .dataframe tbody tr th:only-of-type {\n",
       "        vertical-align: middle;\n",
       "    }\n",
       "\n",
       "    .dataframe tbody tr th {\n",
       "        vertical-align: top;\n",
       "    }\n",
       "\n",
       "    .dataframe thead th {\n",
       "        text-align: right;\n",
       "    }\n",
       "</style>\n",
       "<table border=\"1\" class=\"dataframe\">\n",
       "  <thead>\n",
       "    <tr style=\"text-align: right;\">\n",
       "      <th></th>\n",
       "      <th>index</th>\n",
       "      <th>year</th>\n",
       "      <th>state</th>\n",
       "      <th>age_group</th>\n",
       "      <th>covid_cases</th>\n",
       "    </tr>\n",
       "  </thead>\n",
       "  <tbody>\n",
       "    <tr>\n",
       "      <th>0</th>\n",
       "      <td>0</td>\n",
       "      <td>2022</td>\n",
       "      <td>Arizona</td>\n",
       "      <td>65+ years</td>\n",
       "      <td>1</td>\n",
       "    </tr>\n",
       "    <tr>\n",
       "      <th>1</th>\n",
       "      <td>1</td>\n",
       "      <td>2021</td>\n",
       "      <td>Nebraska</td>\n",
       "      <td>Unknown</td>\n",
       "      <td>1</td>\n",
       "    </tr>\n",
       "    <tr>\n",
       "      <th>2</th>\n",
       "      <td>2</td>\n",
       "      <td>2022</td>\n",
       "      <td>Florida</td>\n",
       "      <td>18 to 49 years</td>\n",
       "      <td>1</td>\n",
       "    </tr>\n",
       "    <tr>\n",
       "      <th>3</th>\n",
       "      <td>3</td>\n",
       "      <td>2021</td>\n",
       "      <td>Illinois</td>\n",
       "      <td>65+ years</td>\n",
       "      <td>1</td>\n",
       "    </tr>\n",
       "    <tr>\n",
       "      <th>4</th>\n",
       "      <td>4</td>\n",
       "      <td>2022</td>\n",
       "      <td>Arizona</td>\n",
       "      <td>65+ years</td>\n",
       "      <td>1</td>\n",
       "    </tr>\n",
       "  </tbody>\n",
       "</table>\n",
       "</div>"
      ],
      "text/plain": [
       "   index  year     state       age_group  covid_cases\n",
       "0      0  2022   Arizona       65+ years            1\n",
       "1      1  2021  Nebraska         Unknown            1\n",
       "2      2  2022   Florida  18 to 49 years            1\n",
       "3      3  2021  Illinois       65+ years            1\n",
       "4      4  2022   Arizona       65+ years            1"
      ]
     },
     "execution_count": 22,
     "metadata": {},
     "output_type": "execute_result"
    }
   ],
   "source": [
    "df_covid_age.head()"
   ]
  },
  {
   "cell_type": "code",
   "execution_count": 24,
   "id": "e35f0e27",
   "metadata": {},
   "outputs": [],
   "source": [
    "df_covid_age.drop(columns=['index'], inplace=True)"
   ]
  },
  {
   "cell_type": "code",
   "execution_count": 25,
   "id": "3e21dae2",
   "metadata": {},
   "outputs": [
    {
     "data": {
      "text/html": [
       "<div>\n",
       "<style scoped>\n",
       "    .dataframe tbody tr th:only-of-type {\n",
       "        vertical-align: middle;\n",
       "    }\n",
       "\n",
       "    .dataframe tbody tr th {\n",
       "        vertical-align: top;\n",
       "    }\n",
       "\n",
       "    .dataframe thead th {\n",
       "        text-align: right;\n",
       "    }\n",
       "</style>\n",
       "<table border=\"1\" class=\"dataframe\">\n",
       "  <thead>\n",
       "    <tr style=\"text-align: right;\">\n",
       "      <th></th>\n",
       "      <th></th>\n",
       "      <th></th>\n",
       "      <th>covid_cases</th>\n",
       "    </tr>\n",
       "    <tr>\n",
       "      <th>year</th>\n",
       "      <th>state</th>\n",
       "      <th>age_group</th>\n",
       "      <th></th>\n",
       "    </tr>\n",
       "  </thead>\n",
       "  <tbody>\n",
       "    <tr>\n",
       "      <th rowspan=\"5\" valign=\"top\">2020</th>\n",
       "      <th rowspan=\"5\" valign=\"top\">Alabama</th>\n",
       "      <th>0 - 17 years</th>\n",
       "      <td>30459</td>\n",
       "    </tr>\n",
       "    <tr>\n",
       "      <th>18 to 49 years</th>\n",
       "      <td>140794</td>\n",
       "    </tr>\n",
       "    <tr>\n",
       "      <th>50 to 64 years</th>\n",
       "      <td>56072</td>\n",
       "    </tr>\n",
       "    <tr>\n",
       "      <th>65+ years</th>\n",
       "      <td>45457</td>\n",
       "    </tr>\n",
       "    <tr>\n",
       "      <th>Unknown</th>\n",
       "      <td>86763</td>\n",
       "    </tr>\n",
       "    <tr>\n",
       "      <th>...</th>\n",
       "      <th>...</th>\n",
       "      <th>...</th>\n",
       "      <td>...</td>\n",
       "    </tr>\n",
       "    <tr>\n",
       "      <th rowspan=\"5\" valign=\"top\">2022</th>\n",
       "      <th rowspan=\"5\" valign=\"top\">Wyoming</th>\n",
       "      <th>0 - 17 years</th>\n",
       "      <td>6549</td>\n",
       "    </tr>\n",
       "    <tr>\n",
       "      <th>18 to 49 years</th>\n",
       "      <td>19045</td>\n",
       "    </tr>\n",
       "    <tr>\n",
       "      <th>50 to 64 years</th>\n",
       "      <td>6159</td>\n",
       "    </tr>\n",
       "    <tr>\n",
       "      <th>65+ years</th>\n",
       "      <td>4231</td>\n",
       "    </tr>\n",
       "    <tr>\n",
       "      <th>Unknown</th>\n",
       "      <td>654</td>\n",
       "    </tr>\n",
       "  </tbody>\n",
       "</table>\n",
       "<p>770 rows × 1 columns</p>\n",
       "</div>"
      ],
      "text/plain": [
       "                             covid_cases\n",
       "year state   age_group                  \n",
       "2020 Alabama 0 - 17 years          30459\n",
       "             18 to 49 years       140794\n",
       "             50 to 64 years        56072\n",
       "             65+ years             45457\n",
       "             Unknown               86763\n",
       "...                                  ...\n",
       "2022 Wyoming 0 - 17 years           6549\n",
       "             18 to 49 years        19045\n",
       "             50 to 64 years         6159\n",
       "             65+ years              4231\n",
       "             Unknown                 654\n",
       "\n",
       "[770 rows x 1 columns]"
      ]
     },
     "execution_count": 25,
     "metadata": {},
     "output_type": "execute_result"
    }
   ],
   "source": [
    "df_pivot = df_covid_age.pivot_table(index =['year','state','age_group'],values=['covid_cases'], aggfunc ='sum')\n",
    "df_pivot"
   ]
  },
  {
   "cell_type": "code",
   "execution_count": 26,
   "id": "ba9cafc6",
   "metadata": {},
   "outputs": [],
   "source": [
    "df_pivot.to_excel(r'C:\\Users\\drmat\\OneDrive\\Documents\\Career Foundry\\COVID_Suicide\\02 Data\\02 Prepared\\COVID\\age_group_pivot2.xlsx')"
   ]
  },
  {
   "cell_type": "code",
   "execution_count": null,
   "id": "bcbb6689",
   "metadata": {},
   "outputs": [],
   "source": []
  },
  {
   "cell_type": "code",
   "execution_count": null,
   "id": "85c77ad6",
   "metadata": {},
   "outputs": [],
   "source": []
  },
  {
   "cell_type": "code",
   "execution_count": null,
   "id": "45331143",
   "metadata": {},
   "outputs": [],
   "source": []
  },
  {
   "cell_type": "code",
   "execution_count": null,
   "id": "31276a2d",
   "metadata": {},
   "outputs": [],
   "source": []
  }
 ],
 "metadata": {
  "kernelspec": {
   "display_name": "Python 3 (ipykernel)",
   "language": "python",
   "name": "python3"
  },
  "language_info": {
   "codemirror_mode": {
    "name": "ipython",
    "version": 3
   },
   "file_extension": ".py",
   "mimetype": "text/x-python",
   "name": "python",
   "nbconvert_exporter": "python",
   "pygments_lexer": "ipython3",
   "version": "3.9.12"
  }
 },
 "nbformat": 4,
 "nbformat_minor": 5
}

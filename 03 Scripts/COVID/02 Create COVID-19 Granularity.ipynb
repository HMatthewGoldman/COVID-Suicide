{
 "cells": [
  {
   "cell_type": "markdown",
   "id": "01848c87",
   "metadata": {},
   "source": [
    "## Import Libraries"
   ]
  },
  {
   "cell_type": "code",
   "execution_count": 1,
   "id": "3ae77c3d",
   "metadata": {},
   "outputs": [],
   "source": [
    "import pandas as pd\n",
    "import sweetviz as sv\n",
    "import numpy as np\n",
    "import os\n",
    "import matplotlib.pyplot as plt\n",
    "import seaborn as sns\n",
    "import scipy\n",
    "import chardet"
   ]
  },
  {
   "cell_type": "markdown",
   "id": "8a9c8c3d",
   "metadata": {},
   "source": [
    "## Import Data"
   ]
  },
  {
   "cell_type": "code",
   "execution_count": 2,
   "id": "c1e42989",
   "metadata": {},
   "outputs": [
    {
     "name": "stderr",
     "output_type": "stream",
     "text": [
      "C:\\Users\\drmat\\AppData\\Local\\Temp\\ipykernel_7448\\3392676943.py:1: DtypeWarning: Columns (3) have mixed types. Specify dtype option on import or set low_memory=False.\n",
      "  df=pd.read_csv(r\"C:\\Users\\drmat\\OneDrive\\Documents\\Career Foundry\\COVID_Suicide\\02 Data\\01 Raw\\COVID\\COVID-19_Case_Surveillance_Public_Use_Data_with_Geography.csv\", index_col=False)\n"
     ]
    }
   ],
   "source": [
    "df=pd.read_csv(r\"C:\\Users\\drmat\\OneDrive\\Documents\\Career Foundry\\COVID_Suicide\\02 Data\\01 Raw\\COVID\\COVID-19_Case_Surveillance_Public_Use_Data_with_Geography.csv\", index_col=False)"
   ]
  },
  {
   "cell_type": "markdown",
   "id": "9479725a",
   "metadata": {},
   "source": [
    "## Split Dateframe"
   ]
  },
  {
   "cell_type": "code",
   "execution_count": 3,
   "id": "f2d53bb1",
   "metadata": {},
   "outputs": [],
   "source": [
    "df1=df[:25000000]"
   ]
  },
  {
   "cell_type": "code",
   "execution_count": 4,
   "id": "b473978e",
   "metadata": {},
   "outputs": [],
   "source": [
    "df2=df[25000001:50000000]"
   ]
  },
  {
   "cell_type": "code",
   "execution_count": 5,
   "id": "e860a2ff",
   "metadata": {},
   "outputs": [],
   "source": [
    "df3=df[50000001:74849225]"
   ]
  },
  {
   "cell_type": "markdown",
   "id": "288ec61a",
   "metadata": {},
   "source": [
    "## Inspect Dataframe 1"
   ]
  },
  {
   "cell_type": "code",
   "execution_count": 6,
   "id": "79e10fef",
   "metadata": {},
   "outputs": [
    {
     "name": "stdout",
     "output_type": "stream",
     "text": [
      "<class 'pandas.core.frame.DataFrame'>\n",
      "RangeIndex: 25000000 entries, 0 to 24999999\n",
      "Data columns (total 19 columns):\n",
      " #   Column                           Dtype  \n",
      "---  ------                           -----  \n",
      " 0   case_month                       object \n",
      " 1   res_state                        object \n",
      " 2   state_fips_code                  float64\n",
      " 3   res_county                       object \n",
      " 4   county_fips_code                 float64\n",
      " 5   age_group                        object \n",
      " 6   sex                              object \n",
      " 7   race                             object \n",
      " 8   ethnicity                        object \n",
      " 9   case_positive_specimen_interval  float64\n",
      " 10  case_onset_interval              float64\n",
      " 11  process                          object \n",
      " 12  exposure_yn                      object \n",
      " 13  current_status                   object \n",
      " 14  symptom_status                   object \n",
      " 15  hosp_yn                          object \n",
      " 16  icu_yn                           object \n",
      " 17  death_yn                         object \n",
      " 18  underlying_conditions_yn         object \n",
      "dtypes: float64(4), object(15)\n",
      "memory usage: 3.5+ GB\n"
     ]
    }
   ],
   "source": [
    "df1.info()"
   ]
  },
  {
   "cell_type": "code",
   "execution_count": 7,
   "id": "918e88b4",
   "metadata": {},
   "outputs": [
    {
     "data": {
      "text/html": [
       "<div>\n",
       "<style scoped>\n",
       "    .dataframe tbody tr th:only-of-type {\n",
       "        vertical-align: middle;\n",
       "    }\n",
       "\n",
       "    .dataframe tbody tr th {\n",
       "        vertical-align: top;\n",
       "    }\n",
       "\n",
       "    .dataframe thead th {\n",
       "        text-align: right;\n",
       "    }\n",
       "</style>\n",
       "<table border=\"1\" class=\"dataframe\">\n",
       "  <thead>\n",
       "    <tr style=\"text-align: right;\">\n",
       "      <th></th>\n",
       "      <th>case_month</th>\n",
       "      <th>res_state</th>\n",
       "      <th>state_fips_code</th>\n",
       "      <th>res_county</th>\n",
       "      <th>county_fips_code</th>\n",
       "      <th>age_group</th>\n",
       "      <th>sex</th>\n",
       "      <th>race</th>\n",
       "      <th>ethnicity</th>\n",
       "      <th>case_positive_specimen_interval</th>\n",
       "      <th>case_onset_interval</th>\n",
       "      <th>process</th>\n",
       "      <th>exposure_yn</th>\n",
       "      <th>current_status</th>\n",
       "      <th>symptom_status</th>\n",
       "      <th>hosp_yn</th>\n",
       "      <th>icu_yn</th>\n",
       "      <th>death_yn</th>\n",
       "      <th>underlying_conditions_yn</th>\n",
       "    </tr>\n",
       "  </thead>\n",
       "  <tbody>\n",
       "    <tr>\n",
       "      <th>0</th>\n",
       "      <td>2022-02</td>\n",
       "      <td>AZ</td>\n",
       "      <td>4.0</td>\n",
       "      <td>MARICOPA</td>\n",
       "      <td>4013.0</td>\n",
       "      <td>65+ years</td>\n",
       "      <td>Female</td>\n",
       "      <td>White</td>\n",
       "      <td>Non-Hispanic/Latino</td>\n",
       "      <td>NaN</td>\n",
       "      <td>NaN</td>\n",
       "      <td>Missing</td>\n",
       "      <td>Missing</td>\n",
       "      <td>Probable Case</td>\n",
       "      <td>Missing</td>\n",
       "      <td>Missing</td>\n",
       "      <td>Missing</td>\n",
       "      <td>Missing</td>\n",
       "      <td>NaN</td>\n",
       "    </tr>\n",
       "    <tr>\n",
       "      <th>1</th>\n",
       "      <td>2021-12</td>\n",
       "      <td>NE</td>\n",
       "      <td>31.0</td>\n",
       "      <td>NaN</td>\n",
       "      <td>NaN</td>\n",
       "      <td>Missing</td>\n",
       "      <td>Unknown</td>\n",
       "      <td>Unknown</td>\n",
       "      <td>Unknown</td>\n",
       "      <td>NaN</td>\n",
       "      <td>0.0</td>\n",
       "      <td>Missing</td>\n",
       "      <td>Missing</td>\n",
       "      <td>Probable Case</td>\n",
       "      <td>Symptomatic</td>\n",
       "      <td>Missing</td>\n",
       "      <td>Missing</td>\n",
       "      <td>Missing</td>\n",
       "      <td>NaN</td>\n",
       "    </tr>\n",
       "    <tr>\n",
       "      <th>2</th>\n",
       "      <td>2022-03</td>\n",
       "      <td>FL</td>\n",
       "      <td>12.0</td>\n",
       "      <td>MIAMI-DADE</td>\n",
       "      <td>12086.0</td>\n",
       "      <td>18 to 49 years</td>\n",
       "      <td>Female</td>\n",
       "      <td>NaN</td>\n",
       "      <td>NaN</td>\n",
       "      <td>0.0</td>\n",
       "      <td>NaN</td>\n",
       "      <td>Missing</td>\n",
       "      <td>Missing</td>\n",
       "      <td>Laboratory-confirmed case</td>\n",
       "      <td>Missing</td>\n",
       "      <td>Missing</td>\n",
       "      <td>Missing</td>\n",
       "      <td>Missing</td>\n",
       "      <td>NaN</td>\n",
       "    </tr>\n",
       "    <tr>\n",
       "      <th>3</th>\n",
       "      <td>2021-01</td>\n",
       "      <td>IL</td>\n",
       "      <td>17.0</td>\n",
       "      <td>COOK</td>\n",
       "      <td>17031.0</td>\n",
       "      <td>65+ years</td>\n",
       "      <td>Male</td>\n",
       "      <td>White</td>\n",
       "      <td>Unknown</td>\n",
       "      <td>NaN</td>\n",
       "      <td>0.0</td>\n",
       "      <td>Missing</td>\n",
       "      <td>Missing</td>\n",
       "      <td>Laboratory-confirmed case</td>\n",
       "      <td>Missing</td>\n",
       "      <td>Missing</td>\n",
       "      <td>Missing</td>\n",
       "      <td>Missing</td>\n",
       "      <td>NaN</td>\n",
       "    </tr>\n",
       "    <tr>\n",
       "      <th>4</th>\n",
       "      <td>2022-02</td>\n",
       "      <td>AZ</td>\n",
       "      <td>4.0</td>\n",
       "      <td>MARICOPA</td>\n",
       "      <td>4013.0</td>\n",
       "      <td>65+ years</td>\n",
       "      <td>Female</td>\n",
       "      <td>White</td>\n",
       "      <td>Non-Hispanic/Latino</td>\n",
       "      <td>NaN</td>\n",
       "      <td>NaN</td>\n",
       "      <td>Missing</td>\n",
       "      <td>Missing</td>\n",
       "      <td>Laboratory-confirmed case</td>\n",
       "      <td>Missing</td>\n",
       "      <td>Missing</td>\n",
       "      <td>Missing</td>\n",
       "      <td>Missing</td>\n",
       "      <td>NaN</td>\n",
       "    </tr>\n",
       "  </tbody>\n",
       "</table>\n",
       "</div>"
      ],
      "text/plain": [
       "  case_month res_state  state_fips_code  res_county  county_fips_code  \\\n",
       "0    2022-02        AZ              4.0    MARICOPA            4013.0   \n",
       "1    2021-12        NE             31.0         NaN               NaN   \n",
       "2    2022-03        FL             12.0  MIAMI-DADE           12086.0   \n",
       "3    2021-01        IL             17.0        COOK           17031.0   \n",
       "4    2022-02        AZ              4.0    MARICOPA            4013.0   \n",
       "\n",
       "        age_group      sex     race            ethnicity  \\\n",
       "0       65+ years   Female    White  Non-Hispanic/Latino   \n",
       "1         Missing  Unknown  Unknown              Unknown   \n",
       "2  18 to 49 years   Female      NaN                  NaN   \n",
       "3       65+ years     Male    White              Unknown   \n",
       "4       65+ years   Female    White  Non-Hispanic/Latino   \n",
       "\n",
       "   case_positive_specimen_interval  case_onset_interval  process exposure_yn  \\\n",
       "0                              NaN                  NaN  Missing     Missing   \n",
       "1                              NaN                  0.0  Missing     Missing   \n",
       "2                              0.0                  NaN  Missing     Missing   \n",
       "3                              NaN                  0.0  Missing     Missing   \n",
       "4                              NaN                  NaN  Missing     Missing   \n",
       "\n",
       "              current_status symptom_status  hosp_yn   icu_yn death_yn  \\\n",
       "0              Probable Case        Missing  Missing  Missing  Missing   \n",
       "1              Probable Case    Symptomatic  Missing  Missing  Missing   \n",
       "2  Laboratory-confirmed case        Missing  Missing  Missing  Missing   \n",
       "3  Laboratory-confirmed case        Missing  Missing  Missing  Missing   \n",
       "4  Laboratory-confirmed case        Missing  Missing  Missing  Missing   \n",
       "\n",
       "  underlying_conditions_yn  \n",
       "0                      NaN  \n",
       "1                      NaN  \n",
       "2                      NaN  \n",
       "3                      NaN  \n",
       "4                      NaN  "
      ]
     },
     "execution_count": 7,
     "metadata": {},
     "output_type": "execute_result"
    }
   ],
   "source": [
    "df1.head()"
   ]
  },
  {
   "cell_type": "markdown",
   "id": "84b365fd",
   "metadata": {},
   "source": [
    "## Clean Dataframe 1"
   ]
  },
  {
   "cell_type": "code",
   "execution_count": 8,
   "id": "9ae12801",
   "metadata": {},
   "outputs": [
    {
     "name": "stderr",
     "output_type": "stream",
     "text": [
      "C:\\Users\\drmat\\AppData\\Local\\Temp\\ipykernel_7448\\2242923841.py:2: SettingWithCopyWarning: \n",
      "A value is trying to be set on a copy of a slice from a DataFrame\n",
      "\n",
      "See the caveats in the documentation: https://pandas.pydata.org/pandas-docs/stable/user_guide/indexing.html#returning-a-view-versus-a-copy\n",
      "  df1.drop(df.columns[[2,3,4,9,10,11,12,13,14,15,16,17,18]], axis = 1, inplace = True)\n"
     ]
    }
   ],
   "source": [
    "# delete irrelevent columns\n",
    "df1.drop(df.columns[[2,3,4,9,10,11,12,13,14,15,16,17,18]], axis = 1, inplace = True)"
   ]
  },
  {
   "cell_type": "code",
   "execution_count": 9,
   "id": "3aa182e0",
   "metadata": {},
   "outputs": [
    {
     "name": "stdout",
     "output_type": "stream",
     "text": [
      "<class 'pandas.core.frame.DataFrame'>\n",
      "RangeIndex: 25000000 entries, 0 to 24999999\n",
      "Data columns (total 6 columns):\n",
      " #   Column      Dtype \n",
      "---  ------      ----- \n",
      " 0   case_month  object\n",
      " 1   res_state   object\n",
      " 2   age_group   object\n",
      " 3   sex         object\n",
      " 4   race        object\n",
      " 5   ethnicity   object\n",
      "dtypes: object(6)\n",
      "memory usage: 1.1+ GB\n"
     ]
    }
   ],
   "source": [
    "# recheck dataframe\n",
    "df1.info()"
   ]
  },
  {
   "cell_type": "code",
   "execution_count": 10,
   "id": "1bf22f21",
   "metadata": {},
   "outputs": [
    {
     "name": "stderr",
     "output_type": "stream",
     "text": [
      "C:\\Users\\drmat\\AppData\\Local\\Temp\\ipykernel_7448\\461507088.py:1: SettingWithCopyWarning: \n",
      "A value is trying to be set on a copy of a slice from a DataFrame\n",
      "\n",
      "See the caveats in the documentation: https://pandas.pydata.org/pandas-docs/stable/user_guide/indexing.html#returning-a-view-versus-a-copy\n",
      "  df1.replace(['Missing',],'Unknown',inplace=True)\n"
     ]
    }
   ],
   "source": [
    "df1.replace(['Missing',],'Unknown',inplace=True)"
   ]
  },
  {
   "cell_type": "code",
   "execution_count": 11,
   "id": "bd0414c4",
   "metadata": {},
   "outputs": [
    {
     "name": "stderr",
     "output_type": "stream",
     "text": [
      "C:\\Users\\drmat\\AppData\\Local\\Temp\\ipykernel_7448\\2175010207.py:2: SettingWithCopyWarning: \n",
      "A value is trying to be set on a copy of a slice from a DataFrame.\n",
      "Try using .loc[row_indexer,col_indexer] = value instead\n",
      "\n",
      "See the caveats in the documentation: https://pandas.pydata.org/pandas-docs/stable/user_guide/indexing.html#returning-a-view-versus-a-copy\n",
      "  df1[['year','month']] = df1['case_month'].str.split('-', expand = True)\n",
      "C:\\Users\\drmat\\AppData\\Local\\Temp\\ipykernel_7448\\2175010207.py:2: SettingWithCopyWarning: \n",
      "A value is trying to be set on a copy of a slice from a DataFrame.\n",
      "Try using .loc[row_indexer,col_indexer] = value instead\n",
      "\n",
      "See the caveats in the documentation: https://pandas.pydata.org/pandas-docs/stable/user_guide/indexing.html#returning-a-view-versus-a-copy\n",
      "  df1[['year','month']] = df1['case_month'].str.split('-', expand = True)\n"
     ]
    }
   ],
   "source": [
    "# seperate year and month to match other dataframes\n",
    "df1[['year','month']] = df1['case_month'].str.split('-', expand = True)"
   ]
  },
  {
   "cell_type": "code",
   "execution_count": 12,
   "id": "534ef894",
   "metadata": {},
   "outputs": [
    {
     "name": "stderr",
     "output_type": "stream",
     "text": [
      "C:\\Users\\drmat\\AppData\\Local\\Temp\\ipykernel_7448\\2927108354.py:3: SettingWithCopyWarning: \n",
      "A value is trying to be set on a copy of a slice from a DataFrame\n",
      "\n",
      "See the caveats in the documentation: https://pandas.pydata.org/pandas-docs/stable/user_guide/indexing.html#returning-a-view-versus-a-copy\n",
      "  df1.drop(columns=['case_month','month'],inplace=True)\n"
     ]
    }
   ],
   "source": [
    "# delete combined date column because not needed\n",
    "# delete month column because other dataframes only have years\n",
    "df1.drop(columns=['case_month','month'],inplace=True)"
   ]
  },
  {
   "cell_type": "code",
   "execution_count": 13,
   "id": "8d77f17b",
   "metadata": {},
   "outputs": [
    {
     "name": "stderr",
     "output_type": "stream",
     "text": [
      "C:\\Users\\drmat\\AppData\\Local\\Temp\\ipykernel_7448\\1144332074.py:1: SettingWithCopyWarning: \n",
      "A value is trying to be set on a copy of a slice from a DataFrame\n",
      "\n",
      "See the caveats in the documentation: https://pandas.pydata.org/pandas-docs/stable/user_guide/indexing.html#returning-a-view-versus-a-copy\n",
      "  df1['ethnicity'].replace(['Non-Hispanic/Latino'],'',inplace=True)\n"
     ]
    }
   ],
   "source": [
    "\n",
    "df1['ethnicity'].replace(['Non-Hispanic/Latino'],'',inplace=True)"
   ]
  },
  {
   "cell_type": "code",
   "execution_count": 14,
   "id": "516e869f",
   "metadata": {},
   "outputs": [
    {
     "name": "stderr",
     "output_type": "stream",
     "text": [
      "C:\\Users\\drmat\\AppData\\Local\\Temp\\ipykernel_7448\\1491610068.py:2: SettingWithCopyWarning: \n",
      "A value is trying to be set on a copy of a slice from a DataFrame.\n",
      "Try using .loc[row_indexer,col_indexer] = value instead\n",
      "\n",
      "See the caveats in the documentation: https://pandas.pydata.org/pandas-docs/stable/user_guide/indexing.html#returning-a-view-versus-a-copy\n",
      "  df1['Ethnicity_1']=df1['race'] + df1['ethnicity']\n"
     ]
    }
   ],
   "source": [
    "# combine race and ethnicity into 1 new column to match other dataframes\n",
    "df1['Ethnicity_1']=df1['race'] + df1['ethnicity']"
   ]
  },
  {
   "cell_type": "code",
   "execution_count": 15,
   "id": "050d37da",
   "metadata": {},
   "outputs": [
    {
     "name": "stderr",
     "output_type": "stream",
     "text": [
      "C:\\Users\\drmat\\AppData\\Local\\Temp\\ipykernel_7448\\2737724617.py:2: SettingWithCopyWarning: \n",
      "A value is trying to be set on a copy of a slice from a DataFrame\n",
      "\n",
      "See the caveats in the documentation: https://pandas.pydata.org/pandas-docs/stable/user_guide/indexing.html#returning-a-view-versus-a-copy\n",
      "  df1.drop(columns=['race','ethnicity'],inplace=True)\n"
     ]
    }
   ],
   "source": [
    "#delete race and ethnicity columns because no longer needed\n",
    "df1.drop(columns=['race','ethnicity'],inplace=True)"
   ]
  },
  {
   "cell_type": "code",
   "execution_count": 16,
   "id": "2f9680d0",
   "metadata": {},
   "outputs": [
    {
     "name": "stderr",
     "output_type": "stream",
     "text": [
      "C:\\Users\\drmat\\AppData\\Local\\Temp\\ipykernel_7448\\1407736079.py:2: SettingWithCopyWarning: \n",
      "A value is trying to be set on a copy of a slice from a DataFrame\n",
      "\n",
      "See the caveats in the documentation: https://pandas.pydata.org/pandas-docs/stable/user_guide/indexing.html#returning-a-view-versus-a-copy\n",
      "  df1['Ethnicity_1'].replace(['UnknownUnknown',],'Unknown',inplace=True)\n"
     ]
    }
   ],
   "source": [
    "# replace improper values with correct spelling\n",
    "df1['Ethnicity_1'].replace(['UnknownUnknown',],'Unknown',inplace=True)"
   ]
  },
  {
   "cell_type": "code",
   "execution_count": 17,
   "id": "4c59f93e",
   "metadata": {},
   "outputs": [
    {
     "name": "stderr",
     "output_type": "stream",
     "text": [
      "C:\\Users\\drmat\\AppData\\Local\\Temp\\ipykernel_7448\\2900102193.py:2: SettingWithCopyWarning: \n",
      "A value is trying to be set on a copy of a slice from a DataFrame\n",
      "\n",
      "See the caveats in the documentation: https://pandas.pydata.org/pandas-docs/stable/user_guide/indexing.html#returning-a-view-versus-a-copy\n",
      "  df1['Ethnicity_1'].replace(['WhiteUnknown',],'White',inplace=True)\n"
     ]
    }
   ],
   "source": [
    "# replace improper values with correct spelling\n",
    "df1['Ethnicity_1'].replace(['WhiteUnknown',],'White',inplace=True)"
   ]
  },
  {
   "cell_type": "code",
   "execution_count": 18,
   "id": "850cb79c",
   "metadata": {},
   "outputs": [
    {
     "name": "stderr",
     "output_type": "stream",
     "text": [
      "C:\\Users\\drmat\\AppData\\Local\\Temp\\ipykernel_7448\\2462894864.py:2: SettingWithCopyWarning: \n",
      "A value is trying to be set on a copy of a slice from a DataFrame\n",
      "\n",
      "See the caveats in the documentation: https://pandas.pydata.org/pandas-docs/stable/user_guide/indexing.html#returning-a-view-versus-a-copy\n",
      "  df1['Ethnicity_1'].replace(['WhiteHispanic/Latino',],'White',inplace=True)\n"
     ]
    }
   ],
   "source": [
    "# replace improper values with correct spelling\n",
    "df1['Ethnicity_1'].replace(['WhiteHispanic/Latino',],'White',inplace=True)"
   ]
  },
  {
   "cell_type": "code",
   "execution_count": 19,
   "id": "156e76ee",
   "metadata": {},
   "outputs": [
    {
     "name": "stderr",
     "output_type": "stream",
     "text": [
      "C:\\Users\\drmat\\AppData\\Local\\Temp\\ipykernel_7448\\1517786971.py:2: SettingWithCopyWarning: \n",
      "A value is trying to be set on a copy of a slice from a DataFrame\n",
      "\n",
      "See the caveats in the documentation: https://pandas.pydata.org/pandas-docs/stable/user_guide/indexing.html#returning-a-view-versus-a-copy\n",
      "  df1['Ethnicity_1'].replace(['American Indian/Alaska NativeHispanic/Latino',],'American Indian/Alaska Native',inplace=True)\n"
     ]
    }
   ],
   "source": [
    "# replace improper values with correct spelling\n",
    "df1['Ethnicity_1'].replace(['American Indian/Alaska NativeHispanic/Latino',],'American Indian/Alaska Native',inplace=True)"
   ]
  },
  {
   "cell_type": "code",
   "execution_count": 20,
   "id": "604e2802",
   "metadata": {},
   "outputs": [
    {
     "name": "stderr",
     "output_type": "stream",
     "text": [
      "C:\\Users\\drmat\\AppData\\Local\\Temp\\ipykernel_7448\\930896390.py:2: SettingWithCopyWarning: \n",
      "A value is trying to be set on a copy of a slice from a DataFrame\n",
      "\n",
      "See the caveats in the documentation: https://pandas.pydata.org/pandas-docs/stable/user_guide/indexing.html#returning-a-view-versus-a-copy\n",
      "  df1['Ethnicity_1'].replace(['AsianHispanic/Latino',],'Asian',inplace=True)\n"
     ]
    }
   ],
   "source": [
    "# replace improper values with correct spelling\n",
    "df1['Ethnicity_1'].replace(['AsianHispanic/Latino',],'Asian',inplace=True)"
   ]
  },
  {
   "cell_type": "code",
   "execution_count": 21,
   "id": "9badeefe",
   "metadata": {},
   "outputs": [
    {
     "name": "stderr",
     "output_type": "stream",
     "text": [
      "C:\\Users\\drmat\\AppData\\Local\\Temp\\ipykernel_7448\\405989034.py:2: SettingWithCopyWarning: \n",
      "A value is trying to be set on a copy of a slice from a DataFrame\n",
      "\n",
      "See the caveats in the documentation: https://pandas.pydata.org/pandas-docs/stable/user_guide/indexing.html#returning-a-view-versus-a-copy\n",
      "  df1['Ethnicity_1'].replace(['BlackHispanic/Latino',],'Black',inplace=True)\n"
     ]
    }
   ],
   "source": [
    "# replace improper values with correct spelling\n",
    "df1['Ethnicity_1'].replace(['BlackHispanic/Latino',],'Black',inplace=True)"
   ]
  },
  {
   "cell_type": "code",
   "execution_count": 22,
   "id": "39e681e4",
   "metadata": {},
   "outputs": [
    {
     "name": "stderr",
     "output_type": "stream",
     "text": [
      "C:\\Users\\drmat\\AppData\\Local\\Temp\\ipykernel_7448\\1438221661.py:2: SettingWithCopyWarning: \n",
      "A value is trying to be set on a copy of a slice from a DataFrame\n",
      "\n",
      "See the caveats in the documentation: https://pandas.pydata.org/pandas-docs/stable/user_guide/indexing.html#returning-a-view-versus-a-copy\n",
      "  df1['Ethnicity_1'].replace(['UnknownHispanic/Latino',],'Hispanic/Latino',inplace=True)\n"
     ]
    }
   ],
   "source": [
    "# replace improper values with correct spelling\n",
    "df1['Ethnicity_1'].replace(['UnknownHispanic/Latino',],'Hispanic/Latino',inplace=True)"
   ]
  },
  {
   "cell_type": "code",
   "execution_count": 23,
   "id": "5a5208a7",
   "metadata": {},
   "outputs": [
    {
     "name": "stderr",
     "output_type": "stream",
     "text": [
      "C:\\Users\\drmat\\AppData\\Local\\Temp\\ipykernel_7448\\1945679014.py:2: SettingWithCopyWarning: \n",
      "A value is trying to be set on a copy of a slice from a DataFrame\n",
      "\n",
      "See the caveats in the documentation: https://pandas.pydata.org/pandas-docs/stable/user_guide/indexing.html#returning-a-view-versus-a-copy\n",
      "  df1['Ethnicity_1'].replace(['Native Hawaiian/Other Pacific IslanderHispanic/Latino',],'Native Hawaiian/Other Pacific Islander',inplace=True)\n"
     ]
    }
   ],
   "source": [
    "# replace improper values with correct spelling\n",
    "df1['Ethnicity_1'].replace(['Native Hawaiian/Other Pacific IslanderHispanic/Latino',],'Native Hawaiian/Other Pacific Islander',inplace=True)"
   ]
  },
  {
   "cell_type": "code",
   "execution_count": 24,
   "id": "9262ded4",
   "metadata": {},
   "outputs": [
    {
     "name": "stderr",
     "output_type": "stream",
     "text": [
      "C:\\Users\\drmat\\AppData\\Local\\Temp\\ipykernel_7448\\2562036136.py:2: SettingWithCopyWarning: \n",
      "A value is trying to be set on a copy of a slice from a DataFrame\n",
      "\n",
      "See the caveats in the documentation: https://pandas.pydata.org/pandas-docs/stable/user_guide/indexing.html#returning-a-view-versus-a-copy\n",
      "  df1['Ethnicity_1'].replace(['Multiple/OtherHispanic/Latino',],'Multiple/Other',inplace=True)\n"
     ]
    }
   ],
   "source": [
    "# replace improper values with correct spelling\n",
    "df1['Ethnicity_1'].replace(['Multiple/OtherHispanic/Latino',],'Multiple/Other',inplace=True)"
   ]
  },
  {
   "cell_type": "code",
   "execution_count": 25,
   "id": "f9d045c9",
   "metadata": {},
   "outputs": [
    {
     "name": "stderr",
     "output_type": "stream",
     "text": [
      "C:\\Users\\drmat\\AppData\\Local\\Temp\\ipykernel_7448\\3156423759.py:2: SettingWithCopyWarning: \n",
      "A value is trying to be set on a copy of a slice from a DataFrame\n",
      "\n",
      "See the caveats in the documentation: https://pandas.pydata.org/pandas-docs/stable/user_guide/indexing.html#returning-a-view-versus-a-copy\n",
      "  df1['Ethnicity_1'].replace(['American Indian/Alaska NativeUnknown',],'American Indian/Alaska Native',inplace=True)\n"
     ]
    }
   ],
   "source": [
    "# replace improper values with correct spelling\n",
    "df1['Ethnicity_1'].replace(['American Indian/Alaska NativeUnknown',],'American Indian/Alaska Native',inplace=True)"
   ]
  },
  {
   "cell_type": "code",
   "execution_count": 26,
   "id": "3ab94d12",
   "metadata": {},
   "outputs": [
    {
     "name": "stderr",
     "output_type": "stream",
     "text": [
      "C:\\Users\\drmat\\AppData\\Local\\Temp\\ipykernel_7448\\2831038197.py:2: SettingWithCopyWarning: \n",
      "A value is trying to be set on a copy of a slice from a DataFrame\n",
      "\n",
      "See the caveats in the documentation: https://pandas.pydata.org/pandas-docs/stable/user_guide/indexing.html#returning-a-view-versus-a-copy\n",
      "  df1['Ethnicity_1'].replace(['Multiple/OtherUnknown',],'Multiple/Other',inplace=True)\n"
     ]
    }
   ],
   "source": [
    "# replace improper values with correct spelling\n",
    "df1['Ethnicity_1'].replace(['Multiple/OtherUnknown',],'Multiple/Other',inplace=True)"
   ]
  },
  {
   "cell_type": "code",
   "execution_count": 27,
   "id": "8f7b9490",
   "metadata": {},
   "outputs": [
    {
     "name": "stderr",
     "output_type": "stream",
     "text": [
      "C:\\Users\\drmat\\AppData\\Local\\Temp\\ipykernel_7448\\2996266446.py:2: SettingWithCopyWarning: \n",
      "A value is trying to be set on a copy of a slice from a DataFrame\n",
      "\n",
      "See the caveats in the documentation: https://pandas.pydata.org/pandas-docs/stable/user_guide/indexing.html#returning-a-view-versus-a-copy\n",
      "  df1['Ethnicity_1'].replace(['AsianUnknown',],'Asian',inplace=True)\n"
     ]
    }
   ],
   "source": [
    "# replace improper values with correct spelling\n",
    "df1['Ethnicity_1'].replace(['AsianUnknown',],'Asian',inplace=True)"
   ]
  },
  {
   "cell_type": "code",
   "execution_count": 28,
   "id": "ce4ac4ac",
   "metadata": {},
   "outputs": [
    {
     "name": "stderr",
     "output_type": "stream",
     "text": [
      "C:\\Users\\drmat\\AppData\\Local\\Temp\\ipykernel_7448\\4254078711.py:2: SettingWithCopyWarning: \n",
      "A value is trying to be set on a copy of a slice from a DataFrame\n",
      "\n",
      "See the caveats in the documentation: https://pandas.pydata.org/pandas-docs/stable/user_guide/indexing.html#returning-a-view-versus-a-copy\n",
      "  df1['Ethnicity_1'].replace(['BlackUnknown',],'Black',inplace=True)\n"
     ]
    }
   ],
   "source": [
    "# replace improper values with correct spelling\n",
    "df1['Ethnicity_1'].replace(['BlackUnknown',],'Black',inplace=True)"
   ]
  },
  {
   "cell_type": "code",
   "execution_count": 29,
   "id": "816af861",
   "metadata": {},
   "outputs": [
    {
     "name": "stderr",
     "output_type": "stream",
     "text": [
      "C:\\Users\\drmat\\AppData\\Local\\Temp\\ipykernel_7448\\3815739277.py:2: SettingWithCopyWarning: \n",
      "A value is trying to be set on a copy of a slice from a DataFrame\n",
      "\n",
      "See the caveats in the documentation: https://pandas.pydata.org/pandas-docs/stable/user_guide/indexing.html#returning-a-view-versus-a-copy\n",
      "  df1['Ethnicity_1'].replace(['Native Hawaiian/Other Pacific IslanderUnknown',],'Native Hawaiian/Other Pacific Islander',inplace=True)\n"
     ]
    }
   ],
   "source": [
    "# replace improper values with correct spelling\n",
    "df1['Ethnicity_1'].replace(['Native Hawaiian/Other Pacific IslanderUnknown',],'Native Hawaiian/Other Pacific Islander',inplace=True)"
   ]
  },
  {
   "cell_type": "code",
   "execution_count": 30,
   "id": "edad9c67",
   "metadata": {},
   "outputs": [
    {
     "name": "stderr",
     "output_type": "stream",
     "text": [
      "C:\\Users\\drmat\\AppData\\Local\\Temp\\ipykernel_7448\\441150883.py:1: SettingWithCopyWarning: \n",
      "A value is trying to be set on a copy of a slice from a DataFrame\n",
      "\n",
      "See the caveats in the documentation: https://pandas.pydata.org/pandas-docs/stable/user_guide/indexing.html#returning-a-view-versus-a-copy\n",
      "  df1.fillna('Unknown',inplace=True)\n"
     ]
    }
   ],
   "source": [
    "df1.fillna('Unknown',inplace=True)"
   ]
  },
  {
   "cell_type": "code",
   "execution_count": 31,
   "id": "97f93271",
   "metadata": {},
   "outputs": [
    {
     "data": {
      "text/plain": [
       "array(['White', 'Unknown', 'American Indian/Alaska Native', 'Asian',\n",
       "       'Black', 'Hispanic/Latino',\n",
       "       'Native Hawaiian/Other Pacific Islander', 'Multiple/Other'],\n",
       "      dtype=object)"
      ]
     },
     "execution_count": 31,
     "metadata": {},
     "output_type": "execute_result"
    }
   ],
   "source": [
    "# recheck values in ethnicity column\n",
    "df1['Ethnicity_1'].unique()"
   ]
  },
  {
   "cell_type": "code",
   "execution_count": 32,
   "id": "20dba501",
   "metadata": {},
   "outputs": [
    {
     "name": "stderr",
     "output_type": "stream",
     "text": [
      "C:\\Users\\drmat\\AppData\\Local\\Temp\\ipykernel_7448\\2652297063.py:2: SettingWithCopyWarning: \n",
      "A value is trying to be set on a copy of a slice from a DataFrame\n",
      "\n",
      "See the caveats in the documentation: https://pandas.pydata.org/pandas-docs/stable/user_guide/indexing.html#returning-a-view-versus-a-copy\n",
      "  df1.rename(columns={'res_state':'state'},inplace=True)\n"
     ]
    }
   ],
   "source": [
    "# rename column to match other dataframes\n",
    "df1.rename(columns={'res_state':'state'},inplace=True)"
   ]
  },
  {
   "cell_type": "code",
   "execution_count": 33,
   "id": "d76ee930",
   "metadata": {},
   "outputs": [
    {
     "name": "stdout",
     "output_type": "stream",
     "text": [
      "<class 'pandas.core.frame.DataFrame'>\n",
      "RangeIndex: 25000000 entries, 0 to 24999999\n",
      "Data columns (total 5 columns):\n",
      " #   Column       Dtype \n",
      "---  ------       ----- \n",
      " 0   state        object\n",
      " 1   age_group    object\n",
      " 2   sex          object\n",
      " 3   year         object\n",
      " 4   Ethnicity_1  object\n",
      "dtypes: object(5)\n",
      "memory usage: 953.7+ MB\n"
     ]
    }
   ],
   "source": [
    "# recheck dataframe\n",
    "df1.info()"
   ]
  },
  {
   "cell_type": "code",
   "execution_count": 34,
   "id": "5ed4fd4a",
   "metadata": {},
   "outputs": [
    {
     "data": {
      "text/plain": [
       "state          0\n",
       "age_group      0\n",
       "sex            0\n",
       "year           0\n",
       "Ethnicity_1    0\n",
       "dtype: int64"
      ]
     },
     "execution_count": 34,
     "metadata": {},
     "output_type": "execute_result"
    }
   ],
   "source": [
    "#Finding number missing values per row\n",
    "df1.isnull().sum()"
   ]
  },
  {
   "cell_type": "code",
   "execution_count": 35,
   "id": "7860dae4",
   "metadata": {},
   "outputs": [
    {
     "data": {
      "text/plain": [
       "24992626"
      ]
     },
     "execution_count": 35,
     "metadata": {},
     "output_type": "execute_result"
    }
   ],
   "source": [
    "#finding duplicate records\n",
    "df1.duplicated().sum()"
   ]
  },
  {
   "cell_type": "code",
   "execution_count": 36,
   "id": "98aaf0a3",
   "metadata": {},
   "outputs": [],
   "source": [
    "# change column order\n",
    "df1=df1.iloc[:, [3,0,1,2,4]]"
   ]
  },
  {
   "cell_type": "code",
   "execution_count": 37,
   "id": "d837f3a4",
   "metadata": {},
   "outputs": [
    {
     "data": {
      "text/plain": [
       "CA         2648165\n",
       "TX         1711546\n",
       "GA         1116903\n",
       "IL         1108313\n",
       "NC         1091781\n",
       "OH          957203\n",
       "TN          946882\n",
       "VA          945038\n",
       "IN          865756\n",
       "NY          779770\n",
       "PA          773547\n",
       "FL          769339\n",
       "MO          692411\n",
       "WI          682019\n",
       "MI          674892\n",
       "MN          629508\n",
       "LA          562287\n",
       "AR          517708\n",
       "AL          516903\n",
       "AZ          512984\n",
       "SC          499590\n",
       "KY          475455\n",
       "OK          444533\n",
       "KS          423561\n",
       "IA          386171\n",
       "CO          370759\n",
       "WA          368482\n",
       "NJ          291642\n",
       "OR          282796\n",
       "MD          279306\n",
       "NM          255375\n",
       "UT          233382\n",
       "ID          217200\n",
       "NE          188876\n",
       "MA          177413\n",
       "SD          164373\n",
       "AK          162155\n",
       "ND          160279\n",
       "ME          151374\n",
       "CT          114078\n",
       "WY          105398\n",
       "VT          103722\n",
       "MT          103105\n",
       "HI           94947\n",
       "PR           87797\n",
       "NV           81278\n",
       "NH           67097\n",
       "RI           66321\n",
       "MS           59869\n",
       "DE           51067\n",
       "VI           18078\n",
       "WV           10504\n",
       "Unknown       1062\n",
       "Name: state, dtype: int64"
      ]
     },
     "execution_count": 37,
     "metadata": {},
     "output_type": "execute_result"
    }
   ],
   "source": [
    "# check unique value counts\n",
    "df1['state'].value_counts()"
   ]
  },
  {
   "cell_type": "code",
   "execution_count": 39,
   "id": "0067ec64",
   "metadata": {},
   "outputs": [],
   "source": [
    "df1=df1[df1['state'].str.contains('Unknown')==False]"
   ]
  },
  {
   "cell_type": "code",
   "execution_count": 41,
   "id": "b24d64c0",
   "metadata": {},
   "outputs": [
    {
     "data": {
      "text/plain": [
       "18 to 49 years    12408275\n",
       "50 to 64 years     4500632\n",
       "0 - 17 years       4283880\n",
       "65+ years          3055645\n",
       "Unknown             750506\n",
       "Name: age_group, dtype: int64"
      ]
     },
     "execution_count": 41,
     "metadata": {},
     "output_type": "execute_result"
    }
   ],
   "source": [
    "# check unique value counts\n",
    "df1['age_group'].value_counts()"
   ]
  },
  {
   "cell_type": "code",
   "execution_count": 42,
   "id": "44810ae1",
   "metadata": {},
   "outputs": [],
   "source": [
    "df1=df1[df1['age_group'].str.contains('Unknown')==False ]"
   ]
  },
  {
   "cell_type": "code",
   "execution_count": 43,
   "id": "b9f258e0",
   "metadata": {},
   "outputs": [
    {
     "data": {
      "text/plain": [
       "Female     12042683\n",
       "Male       10588415\n",
       "Unknown     1616917\n",
       "Other           417\n",
       "Name: sex, dtype: int64"
      ]
     },
     "execution_count": 43,
     "metadata": {},
     "output_type": "execute_result"
    }
   ],
   "source": [
    "# check unique value counts\n",
    "df1['sex'].value_counts()"
   ]
  },
  {
   "cell_type": "code",
   "execution_count": 44,
   "id": "328bc200",
   "metadata": {},
   "outputs": [],
   "source": [
    "df1=df1[df1['sex'].str.contains('Unknown')==False ]"
   ]
  },
  {
   "cell_type": "code",
   "execution_count": 45,
   "id": "71d22c65",
   "metadata": {},
   "outputs": [
    {
     "data": {
      "text/plain": [
       "2021    9852504\n",
       "2022    6820566\n",
       "2020    5958445\n",
       "Name: year, dtype: int64"
      ]
     },
     "execution_count": 45,
     "metadata": {},
     "output_type": "execute_result"
    }
   ],
   "source": [
    "# check unique value counts\n",
    "df1['year'].value_counts()"
   ]
  },
  {
   "cell_type": "code",
   "execution_count": 46,
   "id": "3106d930",
   "metadata": {},
   "outputs": [],
   "source": [
    "df1=df1[df1['year'].str.contains('Unknown')==False ]"
   ]
  },
  {
   "cell_type": "code",
   "execution_count": 47,
   "id": "2deb7e7d",
   "metadata": {},
   "outputs": [
    {
     "data": {
      "text/plain": [
       "White                                     12449361\n",
       "Unknown                                    7371518\n",
       "Black                                      1548783\n",
       "Hispanic/Latino                             433718\n",
       "Asian                                       346591\n",
       "Multiple/Other                              258788\n",
       "American Indian/Alaska Native               208195\n",
       "Native Hawaiian/Other Pacific Islander       14561\n",
       "Name: Ethnicity_1, dtype: int64"
      ]
     },
     "execution_count": 47,
     "metadata": {},
     "output_type": "execute_result"
    }
   ],
   "source": [
    "# check unique value counts\n",
    "df1['Ethnicity_1'].value_counts()"
   ]
  },
  {
   "cell_type": "code",
   "execution_count": 48,
   "id": "4978e37a",
   "metadata": {},
   "outputs": [],
   "source": [
    "df1=df1[df1['Ethnicity_1'].str.contains('Unknown')==False ]"
   ]
  },
  {
   "cell_type": "code",
   "execution_count": 50,
   "id": "70a004aa",
   "metadata": {},
   "outputs": [
    {
     "name": "stdout",
     "output_type": "stream",
     "text": [
      "<class 'pandas.core.frame.DataFrame'>\n",
      "Int64Index: 15259997 entries, 0 to 24999991\n",
      "Data columns (total 5 columns):\n",
      " #   Column       Dtype \n",
      "---  ------       ----- \n",
      " 0   year         object\n",
      " 1   state        object\n",
      " 2   age_group    object\n",
      " 3   sex          object\n",
      " 4   Ethnicity_1  object\n",
      "dtypes: object(5)\n",
      "memory usage: 698.5+ MB\n"
     ]
    }
   ],
   "source": [
    "df1.info()"
   ]
  },
  {
   "cell_type": "markdown",
   "id": "a7ef8dd7",
   "metadata": {},
   "source": [
    "## Inspect Dataframe 2"
   ]
  },
  {
   "cell_type": "code",
   "execution_count": 51,
   "id": "c76ae34c",
   "metadata": {},
   "outputs": [
    {
     "name": "stdout",
     "output_type": "stream",
     "text": [
      "<class 'pandas.core.frame.DataFrame'>\n",
      "RangeIndex: 24999999 entries, 25000001 to 49999999\n",
      "Data columns (total 19 columns):\n",
      " #   Column                           Dtype  \n",
      "---  ------                           -----  \n",
      " 0   case_month                       object \n",
      " 1   res_state                        object \n",
      " 2   state_fips_code                  float64\n",
      " 3   res_county                       object \n",
      " 4   county_fips_code                 float64\n",
      " 5   age_group                        object \n",
      " 6   sex                              object \n",
      " 7   race                             object \n",
      " 8   ethnicity                        object \n",
      " 9   case_positive_specimen_interval  float64\n",
      " 10  case_onset_interval              float64\n",
      " 11  process                          object \n",
      " 12  exposure_yn                      object \n",
      " 13  current_status                   object \n",
      " 14  symptom_status                   object \n",
      " 15  hosp_yn                          object \n",
      " 16  icu_yn                           object \n",
      " 17  death_yn                         object \n",
      " 18  underlying_conditions_yn         object \n",
      "dtypes: float64(4), object(15)\n",
      "memory usage: 3.5+ GB\n"
     ]
    }
   ],
   "source": [
    "df2.info()"
   ]
  },
  {
   "cell_type": "code",
   "execution_count": 52,
   "id": "130cdc6f",
   "metadata": {},
   "outputs": [
    {
     "data": {
      "text/html": [
       "<div>\n",
       "<style scoped>\n",
       "    .dataframe tbody tr th:only-of-type {\n",
       "        vertical-align: middle;\n",
       "    }\n",
       "\n",
       "    .dataframe tbody tr th {\n",
       "        vertical-align: top;\n",
       "    }\n",
       "\n",
       "    .dataframe thead th {\n",
       "        text-align: right;\n",
       "    }\n",
       "</style>\n",
       "<table border=\"1\" class=\"dataframe\">\n",
       "  <thead>\n",
       "    <tr style=\"text-align: right;\">\n",
       "      <th></th>\n",
       "      <th>case_month</th>\n",
       "      <th>res_state</th>\n",
       "      <th>state_fips_code</th>\n",
       "      <th>res_county</th>\n",
       "      <th>county_fips_code</th>\n",
       "      <th>age_group</th>\n",
       "      <th>sex</th>\n",
       "      <th>race</th>\n",
       "      <th>ethnicity</th>\n",
       "      <th>case_positive_specimen_interval</th>\n",
       "      <th>case_onset_interval</th>\n",
       "      <th>process</th>\n",
       "      <th>exposure_yn</th>\n",
       "      <th>current_status</th>\n",
       "      <th>symptom_status</th>\n",
       "      <th>hosp_yn</th>\n",
       "      <th>icu_yn</th>\n",
       "      <th>death_yn</th>\n",
       "      <th>underlying_conditions_yn</th>\n",
       "    </tr>\n",
       "  </thead>\n",
       "  <tbody>\n",
       "    <tr>\n",
       "      <th>25000001</th>\n",
       "      <td>2022-01</td>\n",
       "      <td>SC</td>\n",
       "      <td>45.0</td>\n",
       "      <td>DORCHESTER</td>\n",
       "      <td>45035.0</td>\n",
       "      <td>0 - 17 years</td>\n",
       "      <td>Female</td>\n",
       "      <td>Black</td>\n",
       "      <td>Non-Hispanic/Latino</td>\n",
       "      <td>NaN</td>\n",
       "      <td>NaN</td>\n",
       "      <td>Missing</td>\n",
       "      <td>Missing</td>\n",
       "      <td>Laboratory-confirmed case</td>\n",
       "      <td>Missing</td>\n",
       "      <td>Missing</td>\n",
       "      <td>Missing</td>\n",
       "      <td>Missing</td>\n",
       "      <td>NaN</td>\n",
       "    </tr>\n",
       "    <tr>\n",
       "      <th>25000002</th>\n",
       "      <td>2022-02</td>\n",
       "      <td>NC</td>\n",
       "      <td>37.0</td>\n",
       "      <td>ROCKINGHAM</td>\n",
       "      <td>37157.0</td>\n",
       "      <td>0 - 17 years</td>\n",
       "      <td>Female</td>\n",
       "      <td>Black</td>\n",
       "      <td>Non-Hispanic/Latino</td>\n",
       "      <td>0.0</td>\n",
       "      <td>NaN</td>\n",
       "      <td>Missing</td>\n",
       "      <td>Missing</td>\n",
       "      <td>Laboratory-confirmed case</td>\n",
       "      <td>Unknown</td>\n",
       "      <td>Unknown</td>\n",
       "      <td>Unknown</td>\n",
       "      <td>No</td>\n",
       "      <td>NaN</td>\n",
       "    </tr>\n",
       "    <tr>\n",
       "      <th>25000003</th>\n",
       "      <td>2021-01</td>\n",
       "      <td>NC</td>\n",
       "      <td>37.0</td>\n",
       "      <td>MCDOWELL</td>\n",
       "      <td>37111.0</td>\n",
       "      <td>50 to 64 years</td>\n",
       "      <td>Female</td>\n",
       "      <td>White</td>\n",
       "      <td>Non-Hispanic/Latino</td>\n",
       "      <td>0.0</td>\n",
       "      <td>0.0</td>\n",
       "      <td>Missing</td>\n",
       "      <td>Unknown</td>\n",
       "      <td>Probable Case</td>\n",
       "      <td>Symptomatic</td>\n",
       "      <td>No</td>\n",
       "      <td>Unknown</td>\n",
       "      <td>No</td>\n",
       "      <td>NaN</td>\n",
       "    </tr>\n",
       "    <tr>\n",
       "      <th>25000004</th>\n",
       "      <td>2021-08</td>\n",
       "      <td>TN</td>\n",
       "      <td>47.0</td>\n",
       "      <td>JEFFERSON</td>\n",
       "      <td>47089.0</td>\n",
       "      <td>65+ years</td>\n",
       "      <td>Female</td>\n",
       "      <td>White</td>\n",
       "      <td>Non-Hispanic/Latino</td>\n",
       "      <td>0.0</td>\n",
       "      <td>0.0</td>\n",
       "      <td>Missing</td>\n",
       "      <td>Missing</td>\n",
       "      <td>Probable Case</td>\n",
       "      <td>Symptomatic</td>\n",
       "      <td>No</td>\n",
       "      <td>No</td>\n",
       "      <td>NaN</td>\n",
       "      <td>Yes</td>\n",
       "    </tr>\n",
       "    <tr>\n",
       "      <th>25000005</th>\n",
       "      <td>2022-02</td>\n",
       "      <td>ME</td>\n",
       "      <td>23.0</td>\n",
       "      <td>KENNEBEC</td>\n",
       "      <td>23011.0</td>\n",
       "      <td>0 - 17 years</td>\n",
       "      <td>Male</td>\n",
       "      <td>White</td>\n",
       "      <td>Non-Hispanic/Latino</td>\n",
       "      <td>NaN</td>\n",
       "      <td>NaN</td>\n",
       "      <td>Missing</td>\n",
       "      <td>Missing</td>\n",
       "      <td>Laboratory-confirmed case</td>\n",
       "      <td>Missing</td>\n",
       "      <td>Missing</td>\n",
       "      <td>Missing</td>\n",
       "      <td>No</td>\n",
       "      <td>NaN</td>\n",
       "    </tr>\n",
       "  </tbody>\n",
       "</table>\n",
       "</div>"
      ],
      "text/plain": [
       "         case_month res_state  state_fips_code  res_county  county_fips_code  \\\n",
       "25000001    2022-01        SC             45.0  DORCHESTER           45035.0   \n",
       "25000002    2022-02        NC             37.0  ROCKINGHAM           37157.0   \n",
       "25000003    2021-01        NC             37.0    MCDOWELL           37111.0   \n",
       "25000004    2021-08        TN             47.0   JEFFERSON           47089.0   \n",
       "25000005    2022-02        ME             23.0    KENNEBEC           23011.0   \n",
       "\n",
       "               age_group     sex   race            ethnicity  \\\n",
       "25000001    0 - 17 years  Female  Black  Non-Hispanic/Latino   \n",
       "25000002    0 - 17 years  Female  Black  Non-Hispanic/Latino   \n",
       "25000003  50 to 64 years  Female  White  Non-Hispanic/Latino   \n",
       "25000004       65+ years  Female  White  Non-Hispanic/Latino   \n",
       "25000005    0 - 17 years    Male  White  Non-Hispanic/Latino   \n",
       "\n",
       "          case_positive_specimen_interval  case_onset_interval  process  \\\n",
       "25000001                              NaN                  NaN  Missing   \n",
       "25000002                              0.0                  NaN  Missing   \n",
       "25000003                              0.0                  0.0  Missing   \n",
       "25000004                              0.0                  0.0  Missing   \n",
       "25000005                              NaN                  NaN  Missing   \n",
       "\n",
       "         exposure_yn             current_status symptom_status  hosp_yn  \\\n",
       "25000001     Missing  Laboratory-confirmed case        Missing  Missing   \n",
       "25000002     Missing  Laboratory-confirmed case        Unknown  Unknown   \n",
       "25000003     Unknown              Probable Case    Symptomatic       No   \n",
       "25000004     Missing              Probable Case    Symptomatic       No   \n",
       "25000005     Missing  Laboratory-confirmed case        Missing  Missing   \n",
       "\n",
       "           icu_yn death_yn underlying_conditions_yn  \n",
       "25000001  Missing  Missing                      NaN  \n",
       "25000002  Unknown       No                      NaN  \n",
       "25000003  Unknown       No                      NaN  \n",
       "25000004       No      NaN                      Yes  \n",
       "25000005  Missing       No                      NaN  "
      ]
     },
     "execution_count": 52,
     "metadata": {},
     "output_type": "execute_result"
    }
   ],
   "source": [
    "df2.head()"
   ]
  },
  {
   "cell_type": "markdown",
   "id": "85c22ca4",
   "metadata": {},
   "source": [
    "## Clean Dataframe 2"
   ]
  },
  {
   "cell_type": "code",
   "execution_count": 53,
   "id": "af580dc2",
   "metadata": {},
   "outputs": [
    {
     "name": "stderr",
     "output_type": "stream",
     "text": [
      "C:\\Users\\drmat\\AppData\\Local\\Temp\\ipykernel_7448\\2396143330.py:2: SettingWithCopyWarning: \n",
      "A value is trying to be set on a copy of a slice from a DataFrame\n",
      "\n",
      "See the caveats in the documentation: https://pandas.pydata.org/pandas-docs/stable/user_guide/indexing.html#returning-a-view-versus-a-copy\n",
      "  df2.drop(df.columns[[2,3,4,9,10,11,12,13,14,15,16,17,18]], axis = 1, inplace = True)\n"
     ]
    }
   ],
   "source": [
    "# delete irrelevent columns\n",
    "df2.drop(df.columns[[2,3,4,9,10,11,12,13,14,15,16,17,18]], axis = 1, inplace = True)"
   ]
  },
  {
   "cell_type": "code",
   "execution_count": 54,
   "id": "42dd3a85",
   "metadata": {},
   "outputs": [
    {
     "name": "stdout",
     "output_type": "stream",
     "text": [
      "<class 'pandas.core.frame.DataFrame'>\n",
      "RangeIndex: 24999999 entries, 25000001 to 49999999\n",
      "Data columns (total 6 columns):\n",
      " #   Column      Dtype \n",
      "---  ------      ----- \n",
      " 0   case_month  object\n",
      " 1   res_state   object\n",
      " 2   age_group   object\n",
      " 3   sex         object\n",
      " 4   race        object\n",
      " 5   ethnicity   object\n",
      "dtypes: object(6)\n",
      "memory usage: 1.1+ GB\n"
     ]
    }
   ],
   "source": [
    "# recheck dataframe\n",
    "df2.info()"
   ]
  },
  {
   "cell_type": "code",
   "execution_count": 55,
   "id": "c0b50dce",
   "metadata": {},
   "outputs": [
    {
     "name": "stderr",
     "output_type": "stream",
     "text": [
      "C:\\Users\\drmat\\AppData\\Local\\Temp\\ipykernel_7448\\3596988615.py:1: SettingWithCopyWarning: \n",
      "A value is trying to be set on a copy of a slice from a DataFrame\n",
      "\n",
      "See the caveats in the documentation: https://pandas.pydata.org/pandas-docs/stable/user_guide/indexing.html#returning-a-view-versus-a-copy\n",
      "  df2.replace(['Missing',],'Unknown',inplace=True)\n"
     ]
    }
   ],
   "source": [
    "df2.replace(['Missing',],'Unknown',inplace=True)"
   ]
  },
  {
   "cell_type": "code",
   "execution_count": 56,
   "id": "c5c7a33c",
   "metadata": {},
   "outputs": [
    {
     "name": "stderr",
     "output_type": "stream",
     "text": [
      "C:\\Users\\drmat\\AppData\\Local\\Temp\\ipykernel_7448\\1753684243.py:2: SettingWithCopyWarning: \n",
      "A value is trying to be set on a copy of a slice from a DataFrame.\n",
      "Try using .loc[row_indexer,col_indexer] = value instead\n",
      "\n",
      "See the caveats in the documentation: https://pandas.pydata.org/pandas-docs/stable/user_guide/indexing.html#returning-a-view-versus-a-copy\n",
      "  df2[['year','month']] = df2['case_month'].str.split('-', expand = True)\n",
      "C:\\Users\\drmat\\AppData\\Local\\Temp\\ipykernel_7448\\1753684243.py:2: SettingWithCopyWarning: \n",
      "A value is trying to be set on a copy of a slice from a DataFrame.\n",
      "Try using .loc[row_indexer,col_indexer] = value instead\n",
      "\n",
      "See the caveats in the documentation: https://pandas.pydata.org/pandas-docs/stable/user_guide/indexing.html#returning-a-view-versus-a-copy\n",
      "  df2[['year','month']] = df2['case_month'].str.split('-', expand = True)\n"
     ]
    }
   ],
   "source": [
    "# seperate year and month to match other dataframes\n",
    "df2[['year','month']] = df2['case_month'].str.split('-', expand = True)"
   ]
  },
  {
   "cell_type": "code",
   "execution_count": 57,
   "id": "06fc13c2",
   "metadata": {},
   "outputs": [
    {
     "name": "stderr",
     "output_type": "stream",
     "text": [
      "C:\\Users\\drmat\\AppData\\Local\\Temp\\ipykernel_7448\\1606126382.py:3: SettingWithCopyWarning: \n",
      "A value is trying to be set on a copy of a slice from a DataFrame\n",
      "\n",
      "See the caveats in the documentation: https://pandas.pydata.org/pandas-docs/stable/user_guide/indexing.html#returning-a-view-versus-a-copy\n",
      "  df2.drop(columns=['case_month','month'],inplace=True)\n"
     ]
    }
   ],
   "source": [
    "# delete combined date column because not needed\n",
    "# delete month column because other dataframes only have years\n",
    "df2.drop(columns=['case_month','month'],inplace=True)"
   ]
  },
  {
   "cell_type": "code",
   "execution_count": 58,
   "id": "efd14fd9",
   "metadata": {},
   "outputs": [
    {
     "name": "stderr",
     "output_type": "stream",
     "text": [
      "C:\\Users\\drmat\\AppData\\Local\\Temp\\ipykernel_7448\\118269368.py:1: SettingWithCopyWarning: \n",
      "A value is trying to be set on a copy of a slice from a DataFrame\n",
      "\n",
      "See the caveats in the documentation: https://pandas.pydata.org/pandas-docs/stable/user_guide/indexing.html#returning-a-view-versus-a-copy\n",
      "  df2['ethnicity'].replace(['Non-Hispanic/Latino'],'',inplace=True)\n"
     ]
    }
   ],
   "source": [
    "\n",
    "df2['ethnicity'].replace(['Non-Hispanic/Latino'],'',inplace=True)"
   ]
  },
  {
   "cell_type": "code",
   "execution_count": 59,
   "id": "35c8eb25",
   "metadata": {},
   "outputs": [
    {
     "name": "stderr",
     "output_type": "stream",
     "text": [
      "C:\\Users\\drmat\\AppData\\Local\\Temp\\ipykernel_7448\\443228955.py:2: SettingWithCopyWarning: \n",
      "A value is trying to be set on a copy of a slice from a DataFrame.\n",
      "Try using .loc[row_indexer,col_indexer] = value instead\n",
      "\n",
      "See the caveats in the documentation: https://pandas.pydata.org/pandas-docs/stable/user_guide/indexing.html#returning-a-view-versus-a-copy\n",
      "  df2['Ethnicity_1']=df2['race'] + df2['ethnicity']\n"
     ]
    }
   ],
   "source": [
    "# combine race and ethnicity into 1 new column to match other dataframes\n",
    "df2['Ethnicity_1']=df2['race'] + df2['ethnicity']"
   ]
  },
  {
   "cell_type": "code",
   "execution_count": 60,
   "id": "98280bff",
   "metadata": {},
   "outputs": [
    {
     "name": "stderr",
     "output_type": "stream",
     "text": [
      "C:\\Users\\drmat\\AppData\\Local\\Temp\\ipykernel_7448\\1966985911.py:2: SettingWithCopyWarning: \n",
      "A value is trying to be set on a copy of a slice from a DataFrame\n",
      "\n",
      "See the caveats in the documentation: https://pandas.pydata.org/pandas-docs/stable/user_guide/indexing.html#returning-a-view-versus-a-copy\n",
      "  df2.drop(columns=['race','ethnicity'],inplace=True)\n"
     ]
    }
   ],
   "source": [
    "#delete race and ethnicity columns because no longer needed\n",
    "df2.drop(columns=['race','ethnicity'],inplace=True)"
   ]
  },
  {
   "cell_type": "code",
   "execution_count": 61,
   "id": "e46a48ed",
   "metadata": {},
   "outputs": [
    {
     "name": "stderr",
     "output_type": "stream",
     "text": [
      "C:\\Users\\drmat\\AppData\\Local\\Temp\\ipykernel_7448\\1299184069.py:2: SettingWithCopyWarning: \n",
      "A value is trying to be set on a copy of a slice from a DataFrame\n",
      "\n",
      "See the caveats in the documentation: https://pandas.pydata.org/pandas-docs/stable/user_guide/indexing.html#returning-a-view-versus-a-copy\n",
      "  df2['Ethnicity_1'].replace(['UnknownUnknown',],'Unknown',inplace=True)\n"
     ]
    }
   ],
   "source": [
    "# replace improper values with correct spelling\n",
    "df2['Ethnicity_1'].replace(['UnknownUnknown',],'Unknown',inplace=True)"
   ]
  },
  {
   "cell_type": "code",
   "execution_count": 62,
   "id": "5f6a6b1f",
   "metadata": {},
   "outputs": [
    {
     "name": "stderr",
     "output_type": "stream",
     "text": [
      "C:\\Users\\drmat\\AppData\\Local\\Temp\\ipykernel_7448\\1521363859.py:2: SettingWithCopyWarning: \n",
      "A value is trying to be set on a copy of a slice from a DataFrame\n",
      "\n",
      "See the caveats in the documentation: https://pandas.pydata.org/pandas-docs/stable/user_guide/indexing.html#returning-a-view-versus-a-copy\n",
      "  df2['Ethnicity_1'].replace(['WhiteUnknown',],'White',inplace=True)\n"
     ]
    }
   ],
   "source": [
    "# replace improper values with correct spelling\n",
    "df2['Ethnicity_1'].replace(['WhiteUnknown',],'White',inplace=True)"
   ]
  },
  {
   "cell_type": "code",
   "execution_count": 63,
   "id": "57554565",
   "metadata": {},
   "outputs": [
    {
     "name": "stderr",
     "output_type": "stream",
     "text": [
      "C:\\Users\\drmat\\AppData\\Local\\Temp\\ipykernel_7448\\3959354013.py:2: SettingWithCopyWarning: \n",
      "A value is trying to be set on a copy of a slice from a DataFrame\n",
      "\n",
      "See the caveats in the documentation: https://pandas.pydata.org/pandas-docs/stable/user_guide/indexing.html#returning-a-view-versus-a-copy\n",
      "  df2['Ethnicity_1'].replace(['WhiteHispanic/Latino',],'White',inplace=True)\n"
     ]
    }
   ],
   "source": [
    "# replace improper values with correct spelling\n",
    "df2['Ethnicity_1'].replace(['WhiteHispanic/Latino',],'White',inplace=True)"
   ]
  },
  {
   "cell_type": "code",
   "execution_count": 64,
   "id": "7ffeb3a8",
   "metadata": {},
   "outputs": [
    {
     "name": "stderr",
     "output_type": "stream",
     "text": [
      "C:\\Users\\drmat\\AppData\\Local\\Temp\\ipykernel_7448\\1040161692.py:2: SettingWithCopyWarning: \n",
      "A value is trying to be set on a copy of a slice from a DataFrame\n",
      "\n",
      "See the caveats in the documentation: https://pandas.pydata.org/pandas-docs/stable/user_guide/indexing.html#returning-a-view-versus-a-copy\n",
      "  df2['Ethnicity_1'].replace(['American Indian/Alaska NativeHispanic/Latino',],'American Indian/Alaska Native',inplace=True)\n"
     ]
    }
   ],
   "source": [
    "# replace improper values with correct spelling\n",
    "df2['Ethnicity_1'].replace(['American Indian/Alaska NativeHispanic/Latino',],'American Indian/Alaska Native',inplace=True)"
   ]
  },
  {
   "cell_type": "code",
   "execution_count": 65,
   "id": "c4a9a5f8",
   "metadata": {},
   "outputs": [
    {
     "name": "stderr",
     "output_type": "stream",
     "text": [
      "C:\\Users\\drmat\\AppData\\Local\\Temp\\ipykernel_7448\\2395066593.py:2: SettingWithCopyWarning: \n",
      "A value is trying to be set on a copy of a slice from a DataFrame\n",
      "\n",
      "See the caveats in the documentation: https://pandas.pydata.org/pandas-docs/stable/user_guide/indexing.html#returning-a-view-versus-a-copy\n",
      "  df2['Ethnicity_1'].replace(['AsianHispanic/Latino',],'Asian',inplace=True)\n"
     ]
    }
   ],
   "source": [
    "# replace improper values with correct spelling\n",
    "df2['Ethnicity_1'].replace(['AsianHispanic/Latino',],'Asian',inplace=True)"
   ]
  },
  {
   "cell_type": "code",
   "execution_count": 66,
   "id": "e743bf47",
   "metadata": {},
   "outputs": [
    {
     "name": "stderr",
     "output_type": "stream",
     "text": [
      "C:\\Users\\drmat\\AppData\\Local\\Temp\\ipykernel_7448\\3289599958.py:2: SettingWithCopyWarning: \n",
      "A value is trying to be set on a copy of a slice from a DataFrame\n",
      "\n",
      "See the caveats in the documentation: https://pandas.pydata.org/pandas-docs/stable/user_guide/indexing.html#returning-a-view-versus-a-copy\n",
      "  df2['Ethnicity_1'].replace(['BlackHispanic/Latino',],'Black',inplace=True)\n"
     ]
    }
   ],
   "source": [
    "# replace improper values with correct spelling\n",
    "df2['Ethnicity_1'].replace(['BlackHispanic/Latino',],'Black',inplace=True)"
   ]
  },
  {
   "cell_type": "code",
   "execution_count": 67,
   "id": "7db43116",
   "metadata": {},
   "outputs": [
    {
     "name": "stderr",
     "output_type": "stream",
     "text": [
      "C:\\Users\\drmat\\AppData\\Local\\Temp\\ipykernel_7448\\4118357565.py:2: SettingWithCopyWarning: \n",
      "A value is trying to be set on a copy of a slice from a DataFrame\n",
      "\n",
      "See the caveats in the documentation: https://pandas.pydata.org/pandas-docs/stable/user_guide/indexing.html#returning-a-view-versus-a-copy\n",
      "  df2['Ethnicity_1'].replace(['UnknownHispanic/Latino',],'Hispanic/Latino',inplace=True)\n"
     ]
    }
   ],
   "source": [
    "# replace improper values with correct spelling\n",
    "df2['Ethnicity_1'].replace(['UnknownHispanic/Latino',],'Hispanic/Latino',inplace=True)"
   ]
  },
  {
   "cell_type": "code",
   "execution_count": 68,
   "id": "50371c4c",
   "metadata": {},
   "outputs": [
    {
     "name": "stderr",
     "output_type": "stream",
     "text": [
      "C:\\Users\\drmat\\AppData\\Local\\Temp\\ipykernel_7448\\1275272453.py:2: SettingWithCopyWarning: \n",
      "A value is trying to be set on a copy of a slice from a DataFrame\n",
      "\n",
      "See the caveats in the documentation: https://pandas.pydata.org/pandas-docs/stable/user_guide/indexing.html#returning-a-view-versus-a-copy\n",
      "  df2['Ethnicity_1'].replace(['Native Hawaiian/Other Pacific IslanderHispanic/Latino',],'Native Hawaiian/Other Pacific Islander',inplace=True)\n"
     ]
    }
   ],
   "source": [
    "# replace improper values with correct spelling\n",
    "df2['Ethnicity_1'].replace(['Native Hawaiian/Other Pacific IslanderHispanic/Latino',],'Native Hawaiian/Other Pacific Islander',inplace=True)"
   ]
  },
  {
   "cell_type": "code",
   "execution_count": 69,
   "id": "b4b3bac4",
   "metadata": {},
   "outputs": [
    {
     "name": "stderr",
     "output_type": "stream",
     "text": [
      "C:\\Users\\drmat\\AppData\\Local\\Temp\\ipykernel_7448\\874728313.py:2: SettingWithCopyWarning: \n",
      "A value is trying to be set on a copy of a slice from a DataFrame\n",
      "\n",
      "See the caveats in the documentation: https://pandas.pydata.org/pandas-docs/stable/user_guide/indexing.html#returning-a-view-versus-a-copy\n",
      "  df2['Ethnicity_1'].replace(['Multiple/OtherHispanic/Latino',],'Multiple/Other',inplace=True)\n"
     ]
    }
   ],
   "source": [
    "# replace improper values with correct spelling\n",
    "df2['Ethnicity_1'].replace(['Multiple/OtherHispanic/Latino',],'Multiple/Other',inplace=True)"
   ]
  },
  {
   "cell_type": "code",
   "execution_count": 70,
   "id": "383b5d83",
   "metadata": {},
   "outputs": [
    {
     "name": "stderr",
     "output_type": "stream",
     "text": [
      "C:\\Users\\drmat\\AppData\\Local\\Temp\\ipykernel_7448\\642382932.py:2: SettingWithCopyWarning: \n",
      "A value is trying to be set on a copy of a slice from a DataFrame\n",
      "\n",
      "See the caveats in the documentation: https://pandas.pydata.org/pandas-docs/stable/user_guide/indexing.html#returning-a-view-versus-a-copy\n",
      "  df2['Ethnicity_1'].replace(['American Indian/Alaska NativeUnknown',],'American Indian/Alaska Native',inplace=True)\n"
     ]
    }
   ],
   "source": [
    "# replace improper values with correct spelling\n",
    "df2['Ethnicity_1'].replace(['American Indian/Alaska NativeUnknown',],'American Indian/Alaska Native',inplace=True)"
   ]
  },
  {
   "cell_type": "code",
   "execution_count": 71,
   "id": "69bfc196",
   "metadata": {},
   "outputs": [
    {
     "name": "stderr",
     "output_type": "stream",
     "text": [
      "C:\\Users\\drmat\\AppData\\Local\\Temp\\ipykernel_7448\\3446050765.py:2: SettingWithCopyWarning: \n",
      "A value is trying to be set on a copy of a slice from a DataFrame\n",
      "\n",
      "See the caveats in the documentation: https://pandas.pydata.org/pandas-docs/stable/user_guide/indexing.html#returning-a-view-versus-a-copy\n",
      "  df2['Ethnicity_1'].replace(['Multiple/OtherUnknown',],'Multiple/Other',inplace=True)\n"
     ]
    }
   ],
   "source": [
    "# replace improper values with correct spelling\n",
    "df2['Ethnicity_1'].replace(['Multiple/OtherUnknown',],'Multiple/Other',inplace=True)"
   ]
  },
  {
   "cell_type": "code",
   "execution_count": 72,
   "id": "8176a86a",
   "metadata": {},
   "outputs": [
    {
     "name": "stderr",
     "output_type": "stream",
     "text": [
      "C:\\Users\\drmat\\AppData\\Local\\Temp\\ipykernel_7448\\2910715856.py:2: SettingWithCopyWarning: \n",
      "A value is trying to be set on a copy of a slice from a DataFrame\n",
      "\n",
      "See the caveats in the documentation: https://pandas.pydata.org/pandas-docs/stable/user_guide/indexing.html#returning-a-view-versus-a-copy\n",
      "  df2['Ethnicity_1'].replace(['AsianUnknown',],'Asian',inplace=True)\n"
     ]
    }
   ],
   "source": [
    "# replace improper values with correct spelling\n",
    "df2['Ethnicity_1'].replace(['AsianUnknown',],'Asian',inplace=True)"
   ]
  },
  {
   "cell_type": "code",
   "execution_count": 73,
   "id": "2bb57f2a",
   "metadata": {},
   "outputs": [
    {
     "name": "stderr",
     "output_type": "stream",
     "text": [
      "C:\\Users\\drmat\\AppData\\Local\\Temp\\ipykernel_7448\\3855676040.py:2: SettingWithCopyWarning: \n",
      "A value is trying to be set on a copy of a slice from a DataFrame\n",
      "\n",
      "See the caveats in the documentation: https://pandas.pydata.org/pandas-docs/stable/user_guide/indexing.html#returning-a-view-versus-a-copy\n",
      "  df2['Ethnicity_1'].replace(['BlackUnknown',],'Black',inplace=True)\n"
     ]
    }
   ],
   "source": [
    "# replace improper values with correct spelling\n",
    "df2['Ethnicity_1'].replace(['BlackUnknown',],'Black',inplace=True)"
   ]
  },
  {
   "cell_type": "code",
   "execution_count": 74,
   "id": "828c5e1b",
   "metadata": {},
   "outputs": [
    {
     "name": "stderr",
     "output_type": "stream",
     "text": [
      "C:\\Users\\drmat\\AppData\\Local\\Temp\\ipykernel_7448\\3616065529.py:2: SettingWithCopyWarning: \n",
      "A value is trying to be set on a copy of a slice from a DataFrame\n",
      "\n",
      "See the caveats in the documentation: https://pandas.pydata.org/pandas-docs/stable/user_guide/indexing.html#returning-a-view-versus-a-copy\n",
      "  df2['Ethnicity_1'].replace(['Native Hawaiian/Other Pacific IslanderUnknown',],'Native Hawaiian/Other Pacific Islander',inplace=True)\n"
     ]
    }
   ],
   "source": [
    "# replace improper values with correct spelling\n",
    "df2['Ethnicity_1'].replace(['Native Hawaiian/Other Pacific IslanderUnknown',],'Native Hawaiian/Other Pacific Islander',inplace=True)"
   ]
  },
  {
   "cell_type": "code",
   "execution_count": 75,
   "id": "1de48fac",
   "metadata": {},
   "outputs": [
    {
     "name": "stderr",
     "output_type": "stream",
     "text": [
      "C:\\Users\\drmat\\AppData\\Local\\Temp\\ipykernel_7448\\3673140014.py:1: SettingWithCopyWarning: \n",
      "A value is trying to be set on a copy of a slice from a DataFrame\n",
      "\n",
      "See the caveats in the documentation: https://pandas.pydata.org/pandas-docs/stable/user_guide/indexing.html#returning-a-view-versus-a-copy\n",
      "  df2.fillna('Unknown',inplace=True)\n"
     ]
    }
   ],
   "source": [
    "df2.fillna('Unknown',inplace=True)"
   ]
  },
  {
   "cell_type": "code",
   "execution_count": 76,
   "id": "60d3a689",
   "metadata": {},
   "outputs": [
    {
     "data": {
      "text/plain": [
       "array(['Black', 'White', 'Unknown', 'American Indian/Alaska Native',\n",
       "       'Multiple/Other', 'Asian', 'Hispanic/Latino',\n",
       "       'Native Hawaiian/Other Pacific Islander'], dtype=object)"
      ]
     },
     "execution_count": 76,
     "metadata": {},
     "output_type": "execute_result"
    }
   ],
   "source": [
    "# recheck values in ethnicity column\n",
    "df2['Ethnicity_1'].unique()"
   ]
  },
  {
   "cell_type": "code",
   "execution_count": 77,
   "id": "b9562c08",
   "metadata": {},
   "outputs": [
    {
     "name": "stderr",
     "output_type": "stream",
     "text": [
      "C:\\Users\\drmat\\AppData\\Local\\Temp\\ipykernel_7448\\1857075065.py:2: SettingWithCopyWarning: \n",
      "A value is trying to be set on a copy of a slice from a DataFrame\n",
      "\n",
      "See the caveats in the documentation: https://pandas.pydata.org/pandas-docs/stable/user_guide/indexing.html#returning-a-view-versus-a-copy\n",
      "  df2.rename(columns={'res_state':'state'},inplace=True)\n"
     ]
    }
   ],
   "source": [
    "# rename column to match other dataframes\n",
    "df2.rename(columns={'res_state':'state'},inplace=True)"
   ]
  },
  {
   "cell_type": "code",
   "execution_count": 78,
   "id": "d39d251c",
   "metadata": {},
   "outputs": [
    {
     "name": "stdout",
     "output_type": "stream",
     "text": [
      "<class 'pandas.core.frame.DataFrame'>\n",
      "RangeIndex: 24999999 entries, 25000001 to 49999999\n",
      "Data columns (total 5 columns):\n",
      " #   Column       Dtype \n",
      "---  ------       ----- \n",
      " 0   state        object\n",
      " 1   age_group    object\n",
      " 2   sex          object\n",
      " 3   year         object\n",
      " 4   Ethnicity_1  object\n",
      "dtypes: object(5)\n",
      "memory usage: 953.7+ MB\n"
     ]
    }
   ],
   "source": [
    "# recheck dataframe\n",
    "df2.info()"
   ]
  },
  {
   "cell_type": "code",
   "execution_count": 79,
   "id": "1eac9331",
   "metadata": {},
   "outputs": [
    {
     "data": {
      "text/plain": [
       "state          0\n",
       "age_group      0\n",
       "sex            0\n",
       "year           0\n",
       "Ethnicity_1    0\n",
       "dtype: int64"
      ]
     },
     "execution_count": 79,
     "metadata": {},
     "output_type": "execute_result"
    }
   ],
   "source": [
    "#Finding number missing values per row\n",
    "df2.isnull().sum()"
   ]
  },
  {
   "cell_type": "code",
   "execution_count": 80,
   "id": "e65cc244",
   "metadata": {},
   "outputs": [
    {
     "data": {
      "text/plain": [
       "24992652"
      ]
     },
     "execution_count": 80,
     "metadata": {},
     "output_type": "execute_result"
    }
   ],
   "source": [
    "#finding duplicate records\n",
    "df2.duplicated().sum()"
   ]
  },
  {
   "cell_type": "code",
   "execution_count": 81,
   "id": "1ffd3ef7",
   "metadata": {},
   "outputs": [],
   "source": [
    "# change column order\n",
    "df2=df2.iloc[:, [3,0,1,2,4]]"
   ]
  },
  {
   "cell_type": "code",
   "execution_count": 82,
   "id": "bd920272",
   "metadata": {},
   "outputs": [
    {
     "data": {
      "text/plain": [
       "CA    1902558\n",
       "FL    1570078\n",
       "NC    1443207\n",
       "PA    1387298\n",
       "NY    1301671\n",
       "TX    1231890\n",
       "NJ    1137951\n",
       "OH    1117076\n",
       "IL     923944\n",
       "SC     793831\n",
       "TN     716478\n",
       "GA     708561\n",
       "MI     702411\n",
       "IN     685271\n",
       "CO     660698\n",
       "VA     621874\n",
       "MA     604000\n",
       "WA     590399\n",
       "WI     569446\n",
       "LA     561781\n",
       "AL     537878\n",
       "MN     528148\n",
       "MO     503951\n",
       "MD     458970\n",
       "AZ     419579\n",
       "OR     399543\n",
       "UT     315740\n",
       "AR     295295\n",
       "KS     232887\n",
       "CT     228095\n",
       "OK     200151\n",
       "NM     193537\n",
       "KY     177712\n",
       "ID     177610\n",
       "DE     147859\n",
       "NV     134132\n",
       "IA     117306\n",
       "ME     102873\n",
       "RI      99405\n",
       "AK      88008\n",
       "ND      83438\n",
       "MT      77566\n",
       "HI      72085\n",
       "NE      55969\n",
       "SD      55889\n",
       "NH      28342\n",
       "WY      21167\n",
       "VT      16441\n",
       "Name: state, dtype: int64"
      ]
     },
     "execution_count": 82,
     "metadata": {},
     "output_type": "execute_result"
    }
   ],
   "source": [
    "# check unique value counts\n",
    "df2['state'].value_counts()"
   ]
  },
  {
   "cell_type": "code",
   "execution_count": 83,
   "id": "7217ff94",
   "metadata": {},
   "outputs": [],
   "source": [
    "df2=df2[df2['state'].str.contains('Unknown')==False]"
   ]
  },
  {
   "cell_type": "code",
   "execution_count": 84,
   "id": "8eeab04b",
   "metadata": {},
   "outputs": [
    {
     "data": {
      "text/plain": [
       "18 to 49 years    13096049\n",
       "50 to 64 years     4447648\n",
       "0 - 17 years       4216473\n",
       "65+ years          2851370\n",
       "Unknown             388459\n",
       "Name: age_group, dtype: int64"
      ]
     },
     "execution_count": 84,
     "metadata": {},
     "output_type": "execute_result"
    }
   ],
   "source": [
    "# check unique value counts\n",
    "df2['age_group'].value_counts()"
   ]
  },
  {
   "cell_type": "code",
   "execution_count": 85,
   "id": "31c1b219",
   "metadata": {},
   "outputs": [],
   "source": [
    "df2=df2[df2['age_group'].str.contains('Unknown')==False ]"
   ]
  },
  {
   "cell_type": "code",
   "execution_count": 86,
   "id": "727b9ee7",
   "metadata": {},
   "outputs": [
    {
     "data": {
      "text/plain": [
       "Female     12775469\n",
       "Male       11250372\n",
       "Unknown      585196\n",
       "Other           503\n",
       "Name: sex, dtype: int64"
      ]
     },
     "execution_count": 86,
     "metadata": {},
     "output_type": "execute_result"
    }
   ],
   "source": [
    "# check unique value counts\n",
    "df2['sex'].value_counts()"
   ]
  },
  {
   "cell_type": "code",
   "execution_count": 87,
   "id": "7cb781a8",
   "metadata": {},
   "outputs": [],
   "source": [
    "df2=df2[df2['sex'].str.contains('Unknown')==False ]"
   ]
  },
  {
   "cell_type": "code",
   "execution_count": 88,
   "id": "c9262323",
   "metadata": {},
   "outputs": [
    {
     "data": {
      "text/plain": [
       "2021    10743202\n",
       "2022     7251780\n",
       "2020     6031362\n",
       "Name: year, dtype: int64"
      ]
     },
     "execution_count": 88,
     "metadata": {},
     "output_type": "execute_result"
    }
   ],
   "source": [
    "# check unique value counts\n",
    "df2['year'].value_counts()"
   ]
  },
  {
   "cell_type": "code",
   "execution_count": 89,
   "id": "058914dd",
   "metadata": {},
   "outputs": [],
   "source": [
    "df2=df2[df2['year'].str.contains('Unknown')==False ]"
   ]
  },
  {
   "cell_type": "code",
   "execution_count": 90,
   "id": "ddef1c9a",
   "metadata": {},
   "outputs": [
    {
     "data": {
      "text/plain": [
       "White                                     12322122\n",
       "Unknown                                    7832977\n",
       "Black                                      2372845\n",
       "Asian                                       542522\n",
       "Hispanic/Latino                             445618\n",
       "Multiple/Other                              369252\n",
       "American Indian/Alaska Native               125690\n",
       "Native Hawaiian/Other Pacific Islander       15318\n",
       "Name: Ethnicity_1, dtype: int64"
      ]
     },
     "execution_count": 90,
     "metadata": {},
     "output_type": "execute_result"
    }
   ],
   "source": [
    "# check unique value counts\n",
    "df2['Ethnicity_1'].value_counts()"
   ]
  },
  {
   "cell_type": "code",
   "execution_count": 91,
   "id": "967fc39a",
   "metadata": {},
   "outputs": [],
   "source": [
    "df2=df2[df2['Ethnicity_1'].str.contains('Unknown')==False ]"
   ]
  },
  {
   "cell_type": "code",
   "execution_count": 92,
   "id": "afe21ece",
   "metadata": {},
   "outputs": [
    {
     "name": "stdout",
     "output_type": "stream",
     "text": [
      "<class 'pandas.core.frame.DataFrame'>\n",
      "Int64Index: 16193367 entries, 25000001 to 49999999\n",
      "Data columns (total 5 columns):\n",
      " #   Column       Dtype \n",
      "---  ------       ----- \n",
      " 0   year         object\n",
      " 1   state        object\n",
      " 2   age_group    object\n",
      " 3   sex          object\n",
      " 4   Ethnicity_1  object\n",
      "dtypes: object(5)\n",
      "memory usage: 741.3+ MB\n"
     ]
    }
   ],
   "source": [
    "df2.info()"
   ]
  },
  {
   "cell_type": "code",
   "execution_count": null,
   "id": "b2d23d82",
   "metadata": {},
   "outputs": [],
   "source": []
  },
  {
   "cell_type": "markdown",
   "id": "2c008ec7",
   "metadata": {},
   "source": [
    "## Inspect Dataframe 3"
   ]
  },
  {
   "cell_type": "code",
   "execution_count": 93,
   "id": "c910c1f2",
   "metadata": {},
   "outputs": [
    {
     "name": "stdout",
     "output_type": "stream",
     "text": [
      "<class 'pandas.core.frame.DataFrame'>\n",
      "RangeIndex: 24849224 entries, 50000001 to 74849224\n",
      "Data columns (total 19 columns):\n",
      " #   Column                           Dtype  \n",
      "---  ------                           -----  \n",
      " 0   case_month                       object \n",
      " 1   res_state                        object \n",
      " 2   state_fips_code                  float64\n",
      " 3   res_county                       object \n",
      " 4   county_fips_code                 float64\n",
      " 5   age_group                        object \n",
      " 6   sex                              object \n",
      " 7   race                             object \n",
      " 8   ethnicity                        object \n",
      " 9   case_positive_specimen_interval  float64\n",
      " 10  case_onset_interval              float64\n",
      " 11  process                          object \n",
      " 12  exposure_yn                      object \n",
      " 13  current_status                   object \n",
      " 14  symptom_status                   object \n",
      " 15  hosp_yn                          object \n",
      " 16  icu_yn                           object \n",
      " 17  death_yn                         object \n",
      " 18  underlying_conditions_yn         object \n",
      "dtypes: float64(4), object(15)\n",
      "memory usage: 3.5+ GB\n"
     ]
    }
   ],
   "source": [
    "df3.info()"
   ]
  },
  {
   "cell_type": "code",
   "execution_count": 94,
   "id": "3274512c",
   "metadata": {},
   "outputs": [
    {
     "data": {
      "text/html": [
       "<div>\n",
       "<style scoped>\n",
       "    .dataframe tbody tr th:only-of-type {\n",
       "        vertical-align: middle;\n",
       "    }\n",
       "\n",
       "    .dataframe tbody tr th {\n",
       "        vertical-align: top;\n",
       "    }\n",
       "\n",
       "    .dataframe thead th {\n",
       "        text-align: right;\n",
       "    }\n",
       "</style>\n",
       "<table border=\"1\" class=\"dataframe\">\n",
       "  <thead>\n",
       "    <tr style=\"text-align: right;\">\n",
       "      <th></th>\n",
       "      <th>case_month</th>\n",
       "      <th>res_state</th>\n",
       "      <th>state_fips_code</th>\n",
       "      <th>res_county</th>\n",
       "      <th>county_fips_code</th>\n",
       "      <th>age_group</th>\n",
       "      <th>sex</th>\n",
       "      <th>race</th>\n",
       "      <th>ethnicity</th>\n",
       "      <th>case_positive_specimen_interval</th>\n",
       "      <th>case_onset_interval</th>\n",
       "      <th>process</th>\n",
       "      <th>exposure_yn</th>\n",
       "      <th>current_status</th>\n",
       "      <th>symptom_status</th>\n",
       "      <th>hosp_yn</th>\n",
       "      <th>icu_yn</th>\n",
       "      <th>death_yn</th>\n",
       "      <th>underlying_conditions_yn</th>\n",
       "    </tr>\n",
       "  </thead>\n",
       "  <tbody>\n",
       "    <tr>\n",
       "      <th>50000001</th>\n",
       "      <td>2022-01</td>\n",
       "      <td>NJ</td>\n",
       "      <td>34.0</td>\n",
       "      <td>MORRIS</td>\n",
       "      <td>34027.0</td>\n",
       "      <td>65+ years</td>\n",
       "      <td>Male</td>\n",
       "      <td>White</td>\n",
       "      <td>Non-Hispanic/Latino</td>\n",
       "      <td>0.0</td>\n",
       "      <td>NaN</td>\n",
       "      <td>Missing</td>\n",
       "      <td>Missing</td>\n",
       "      <td>Laboratory-confirmed case</td>\n",
       "      <td>Missing</td>\n",
       "      <td>No</td>\n",
       "      <td>Missing</td>\n",
       "      <td>No</td>\n",
       "      <td>NaN</td>\n",
       "    </tr>\n",
       "    <tr>\n",
       "      <th>50000002</th>\n",
       "      <td>2022-05</td>\n",
       "      <td>OR</td>\n",
       "      <td>41.0</td>\n",
       "      <td>WASHINGTON</td>\n",
       "      <td>41067.0</td>\n",
       "      <td>0 - 17 years</td>\n",
       "      <td>Female</td>\n",
       "      <td>Unknown</td>\n",
       "      <td>Unknown</td>\n",
       "      <td>NaN</td>\n",
       "      <td>0.0</td>\n",
       "      <td>Missing</td>\n",
       "      <td>Missing</td>\n",
       "      <td>Laboratory-confirmed case</td>\n",
       "      <td>Symptomatic</td>\n",
       "      <td>Unknown</td>\n",
       "      <td>Missing</td>\n",
       "      <td>No</td>\n",
       "      <td>NaN</td>\n",
       "    </tr>\n",
       "    <tr>\n",
       "      <th>50000003</th>\n",
       "      <td>2021-01</td>\n",
       "      <td>CA</td>\n",
       "      <td>6.0</td>\n",
       "      <td>MONTEREY</td>\n",
       "      <td>6053.0</td>\n",
       "      <td>18 to 49 years</td>\n",
       "      <td>Female</td>\n",
       "      <td>White</td>\n",
       "      <td>Hispanic/Latino</td>\n",
       "      <td>NaN</td>\n",
       "      <td>NaN</td>\n",
       "      <td>Missing</td>\n",
       "      <td>Missing</td>\n",
       "      <td>Probable Case</td>\n",
       "      <td>Unknown</td>\n",
       "      <td>Missing</td>\n",
       "      <td>Missing</td>\n",
       "      <td>Missing</td>\n",
       "      <td>NaN</td>\n",
       "    </tr>\n",
       "    <tr>\n",
       "      <th>50000004</th>\n",
       "      <td>2022-01</td>\n",
       "      <td>TX</td>\n",
       "      <td>48.0</td>\n",
       "      <td>TARRANT</td>\n",
       "      <td>48439.0</td>\n",
       "      <td>0 - 17 years</td>\n",
       "      <td>Male</td>\n",
       "      <td>White</td>\n",
       "      <td>Non-Hispanic/Latino</td>\n",
       "      <td>NaN</td>\n",
       "      <td>NaN</td>\n",
       "      <td>Missing</td>\n",
       "      <td>Missing</td>\n",
       "      <td>Laboratory-confirmed case</td>\n",
       "      <td>Missing</td>\n",
       "      <td>Missing</td>\n",
       "      <td>Missing</td>\n",
       "      <td>Missing</td>\n",
       "      <td>NaN</td>\n",
       "    </tr>\n",
       "    <tr>\n",
       "      <th>50000005</th>\n",
       "      <td>2020-12</td>\n",
       "      <td>IN</td>\n",
       "      <td>18.0</td>\n",
       "      <td>MARION</td>\n",
       "      <td>18097.0</td>\n",
       "      <td>18 to 49 years</td>\n",
       "      <td>Female</td>\n",
       "      <td>White</td>\n",
       "      <td>Unknown</td>\n",
       "      <td>0.0</td>\n",
       "      <td>NaN</td>\n",
       "      <td>Missing</td>\n",
       "      <td>Missing</td>\n",
       "      <td>Laboratory-confirmed case</td>\n",
       "      <td>Missing</td>\n",
       "      <td>No</td>\n",
       "      <td>Missing</td>\n",
       "      <td>No</td>\n",
       "      <td>NaN</td>\n",
       "    </tr>\n",
       "  </tbody>\n",
       "</table>\n",
       "</div>"
      ],
      "text/plain": [
       "         case_month res_state  state_fips_code  res_county  county_fips_code  \\\n",
       "50000001    2022-01        NJ             34.0      MORRIS           34027.0   \n",
       "50000002    2022-05        OR             41.0  WASHINGTON           41067.0   \n",
       "50000003    2021-01        CA              6.0    MONTEREY            6053.0   \n",
       "50000004    2022-01        TX             48.0     TARRANT           48439.0   \n",
       "50000005    2020-12        IN             18.0      MARION           18097.0   \n",
       "\n",
       "               age_group     sex     race            ethnicity  \\\n",
       "50000001       65+ years    Male    White  Non-Hispanic/Latino   \n",
       "50000002    0 - 17 years  Female  Unknown              Unknown   \n",
       "50000003  18 to 49 years  Female    White      Hispanic/Latino   \n",
       "50000004    0 - 17 years    Male    White  Non-Hispanic/Latino   \n",
       "50000005  18 to 49 years  Female    White              Unknown   \n",
       "\n",
       "          case_positive_specimen_interval  case_onset_interval  process  \\\n",
       "50000001                              0.0                  NaN  Missing   \n",
       "50000002                              NaN                  0.0  Missing   \n",
       "50000003                              NaN                  NaN  Missing   \n",
       "50000004                              NaN                  NaN  Missing   \n",
       "50000005                              0.0                  NaN  Missing   \n",
       "\n",
       "         exposure_yn             current_status symptom_status  hosp_yn  \\\n",
       "50000001     Missing  Laboratory-confirmed case        Missing       No   \n",
       "50000002     Missing  Laboratory-confirmed case    Symptomatic  Unknown   \n",
       "50000003     Missing              Probable Case        Unknown  Missing   \n",
       "50000004     Missing  Laboratory-confirmed case        Missing  Missing   \n",
       "50000005     Missing  Laboratory-confirmed case        Missing       No   \n",
       "\n",
       "           icu_yn death_yn underlying_conditions_yn  \n",
       "50000001  Missing       No                      NaN  \n",
       "50000002  Missing       No                      NaN  \n",
       "50000003  Missing  Missing                      NaN  \n",
       "50000004  Missing  Missing                      NaN  \n",
       "50000005  Missing       No                      NaN  "
      ]
     },
     "execution_count": 94,
     "metadata": {},
     "output_type": "execute_result"
    }
   ],
   "source": [
    "df3.head()"
   ]
  },
  {
   "cell_type": "markdown",
   "id": "05e91628",
   "metadata": {},
   "source": [
    "## Clean Dataframe 3"
   ]
  },
  {
   "cell_type": "code",
   "execution_count": 95,
   "id": "69e9b37f",
   "metadata": {},
   "outputs": [
    {
     "name": "stderr",
     "output_type": "stream",
     "text": [
      "C:\\Users\\drmat\\AppData\\Local\\Temp\\ipykernel_7448\\3709103835.py:2: SettingWithCopyWarning: \n",
      "A value is trying to be set on a copy of a slice from a DataFrame\n",
      "\n",
      "See the caveats in the documentation: https://pandas.pydata.org/pandas-docs/stable/user_guide/indexing.html#returning-a-view-versus-a-copy\n",
      "  df3.drop(df.columns[[2,3,4,9,10,11,12,13,14,15,16,17,18]], axis = 1, inplace = True)\n"
     ]
    }
   ],
   "source": [
    "# delete irrelevent columns\n",
    "df3.drop(df.columns[[2,3,4,9,10,11,12,13,14,15,16,17,18]], axis = 1, inplace = True)"
   ]
  },
  {
   "cell_type": "code",
   "execution_count": 96,
   "id": "7dd0b881",
   "metadata": {},
   "outputs": [
    {
     "name": "stdout",
     "output_type": "stream",
     "text": [
      "<class 'pandas.core.frame.DataFrame'>\n",
      "RangeIndex: 24849224 entries, 50000001 to 74849224\n",
      "Data columns (total 6 columns):\n",
      " #   Column      Dtype \n",
      "---  ------      ----- \n",
      " 0   case_month  object\n",
      " 1   res_state   object\n",
      " 2   age_group   object\n",
      " 3   sex         object\n",
      " 4   race        object\n",
      " 5   ethnicity   object\n",
      "dtypes: object(6)\n",
      "memory usage: 1.1+ GB\n"
     ]
    }
   ],
   "source": [
    "# recheck dataframe\n",
    "df3.info()"
   ]
  },
  {
   "cell_type": "code",
   "execution_count": 97,
   "id": "974496dd",
   "metadata": {},
   "outputs": [
    {
     "name": "stderr",
     "output_type": "stream",
     "text": [
      "C:\\Users\\drmat\\AppData\\Local\\Temp\\ipykernel_7448\\4031025617.py:1: SettingWithCopyWarning: \n",
      "A value is trying to be set on a copy of a slice from a DataFrame\n",
      "\n",
      "See the caveats in the documentation: https://pandas.pydata.org/pandas-docs/stable/user_guide/indexing.html#returning-a-view-versus-a-copy\n",
      "  df3.replace(['Missing',],'Unknown',inplace=True)\n"
     ]
    }
   ],
   "source": [
    "df3.replace(['Missing',],'Unknown',inplace=True)"
   ]
  },
  {
   "cell_type": "code",
   "execution_count": 98,
   "id": "8d7ffbec",
   "metadata": {},
   "outputs": [
    {
     "name": "stderr",
     "output_type": "stream",
     "text": [
      "C:\\Users\\drmat\\AppData\\Local\\Temp\\ipykernel_7448\\2387667040.py:2: SettingWithCopyWarning: \n",
      "A value is trying to be set on a copy of a slice from a DataFrame.\n",
      "Try using .loc[row_indexer,col_indexer] = value instead\n",
      "\n",
      "See the caveats in the documentation: https://pandas.pydata.org/pandas-docs/stable/user_guide/indexing.html#returning-a-view-versus-a-copy\n",
      "  df3[['year','month']] = df3['case_month'].str.split('-', expand = True)\n",
      "C:\\Users\\drmat\\AppData\\Local\\Temp\\ipykernel_7448\\2387667040.py:2: SettingWithCopyWarning: \n",
      "A value is trying to be set on a copy of a slice from a DataFrame.\n",
      "Try using .loc[row_indexer,col_indexer] = value instead\n",
      "\n",
      "See the caveats in the documentation: https://pandas.pydata.org/pandas-docs/stable/user_guide/indexing.html#returning-a-view-versus-a-copy\n",
      "  df3[['year','month']] = df3['case_month'].str.split('-', expand = True)\n"
     ]
    }
   ],
   "source": [
    "# seperate year and month to match other dataframes\n",
    "df3[['year','month']] = df3['case_month'].str.split('-', expand = True)"
   ]
  },
  {
   "cell_type": "code",
   "execution_count": 99,
   "id": "1f80e58d",
   "metadata": {},
   "outputs": [
    {
     "name": "stderr",
     "output_type": "stream",
     "text": [
      "C:\\Users\\drmat\\AppData\\Local\\Temp\\ipykernel_7448\\2069424937.py:3: SettingWithCopyWarning: \n",
      "A value is trying to be set on a copy of a slice from a DataFrame\n",
      "\n",
      "See the caveats in the documentation: https://pandas.pydata.org/pandas-docs/stable/user_guide/indexing.html#returning-a-view-versus-a-copy\n",
      "  df3.drop(columns=['case_month','month'],inplace=True)\n"
     ]
    }
   ],
   "source": [
    "# delete combined date column because not needed\n",
    "# delete month column because other dataframes only have years\n",
    "df3.drop(columns=['case_month','month'],inplace=True)"
   ]
  },
  {
   "cell_type": "code",
   "execution_count": 100,
   "id": "df699c34",
   "metadata": {},
   "outputs": [
    {
     "name": "stderr",
     "output_type": "stream",
     "text": [
      "C:\\Users\\drmat\\AppData\\Local\\Temp\\ipykernel_7448\\3189797356.py:1: SettingWithCopyWarning: \n",
      "A value is trying to be set on a copy of a slice from a DataFrame\n",
      "\n",
      "See the caveats in the documentation: https://pandas.pydata.org/pandas-docs/stable/user_guide/indexing.html#returning-a-view-versus-a-copy\n",
      "  df3['ethnicity'].replace(['Non-Hispanic/Latino'],'',inplace=True)\n"
     ]
    }
   ],
   "source": [
    "\n",
    "df3['ethnicity'].replace(['Non-Hispanic/Latino'],'',inplace=True)"
   ]
  },
  {
   "cell_type": "code",
   "execution_count": 101,
   "id": "b985938a",
   "metadata": {},
   "outputs": [
    {
     "name": "stderr",
     "output_type": "stream",
     "text": [
      "C:\\Users\\drmat\\AppData\\Local\\Temp\\ipykernel_7448\\3767690224.py:2: SettingWithCopyWarning: \n",
      "A value is trying to be set on a copy of a slice from a DataFrame.\n",
      "Try using .loc[row_indexer,col_indexer] = value instead\n",
      "\n",
      "See the caveats in the documentation: https://pandas.pydata.org/pandas-docs/stable/user_guide/indexing.html#returning-a-view-versus-a-copy\n",
      "  df3['Ethnicity_1']=df3['race'] + df3['ethnicity']\n"
     ]
    }
   ],
   "source": [
    "# combine race and ethnicity into 1 new column to match other dataframes\n",
    "df3['Ethnicity_1']=df3['race'] + df3['ethnicity']"
   ]
  },
  {
   "cell_type": "code",
   "execution_count": 102,
   "id": "acb706f4",
   "metadata": {},
   "outputs": [
    {
     "name": "stderr",
     "output_type": "stream",
     "text": [
      "C:\\Users\\drmat\\AppData\\Local\\Temp\\ipykernel_7448\\2517130723.py:2: SettingWithCopyWarning: \n",
      "A value is trying to be set on a copy of a slice from a DataFrame\n",
      "\n",
      "See the caveats in the documentation: https://pandas.pydata.org/pandas-docs/stable/user_guide/indexing.html#returning-a-view-versus-a-copy\n",
      "  df3.drop(columns=['race','ethnicity'],inplace=True)\n"
     ]
    }
   ],
   "source": [
    "#delete race and ethnicity columns because no longer needed\n",
    "df3.drop(columns=['race','ethnicity'],inplace=True)"
   ]
  },
  {
   "cell_type": "code",
   "execution_count": 103,
   "id": "450a9003",
   "metadata": {},
   "outputs": [
    {
     "name": "stderr",
     "output_type": "stream",
     "text": [
      "C:\\Users\\drmat\\AppData\\Local\\Temp\\ipykernel_7448\\3081571542.py:2: SettingWithCopyWarning: \n",
      "A value is trying to be set on a copy of a slice from a DataFrame\n",
      "\n",
      "See the caveats in the documentation: https://pandas.pydata.org/pandas-docs/stable/user_guide/indexing.html#returning-a-view-versus-a-copy\n",
      "  df3['Ethnicity_1'].replace(['UnknownUnknown',],'Unknown',inplace=True)\n"
     ]
    }
   ],
   "source": [
    "# replace improper values with correct spelling\n",
    "df3['Ethnicity_1'].replace(['UnknownUnknown',],'Unknown',inplace=True)"
   ]
  },
  {
   "cell_type": "code",
   "execution_count": 104,
   "id": "e1df97cf",
   "metadata": {},
   "outputs": [
    {
     "name": "stderr",
     "output_type": "stream",
     "text": [
      "C:\\Users\\drmat\\AppData\\Local\\Temp\\ipykernel_7448\\1666567956.py:2: SettingWithCopyWarning: \n",
      "A value is trying to be set on a copy of a slice from a DataFrame\n",
      "\n",
      "See the caveats in the documentation: https://pandas.pydata.org/pandas-docs/stable/user_guide/indexing.html#returning-a-view-versus-a-copy\n",
      "  df3['Ethnicity_1'].replace(['WhiteUnknown',],'White',inplace=True)\n"
     ]
    }
   ],
   "source": [
    "# replace improper values with correct spelling\n",
    "df3['Ethnicity_1'].replace(['WhiteUnknown',],'White',inplace=True)"
   ]
  },
  {
   "cell_type": "code",
   "execution_count": 105,
   "id": "d42a1762",
   "metadata": {},
   "outputs": [
    {
     "name": "stderr",
     "output_type": "stream",
     "text": [
      "C:\\Users\\drmat\\AppData\\Local\\Temp\\ipykernel_7448\\3633974833.py:2: SettingWithCopyWarning: \n",
      "A value is trying to be set on a copy of a slice from a DataFrame\n",
      "\n",
      "See the caveats in the documentation: https://pandas.pydata.org/pandas-docs/stable/user_guide/indexing.html#returning-a-view-versus-a-copy\n",
      "  df3['Ethnicity_1'].replace(['WhiteHispanic/Latino',],'White',inplace=True)\n"
     ]
    }
   ],
   "source": [
    "# replace improper values with correct spelling\n",
    "df3['Ethnicity_1'].replace(['WhiteHispanic/Latino',],'White',inplace=True)"
   ]
  },
  {
   "cell_type": "code",
   "execution_count": 106,
   "id": "bdaada79",
   "metadata": {},
   "outputs": [
    {
     "name": "stderr",
     "output_type": "stream",
     "text": [
      "C:\\Users\\drmat\\AppData\\Local\\Temp\\ipykernel_7448\\3322129445.py:2: SettingWithCopyWarning: \n",
      "A value is trying to be set on a copy of a slice from a DataFrame\n",
      "\n",
      "See the caveats in the documentation: https://pandas.pydata.org/pandas-docs/stable/user_guide/indexing.html#returning-a-view-versus-a-copy\n",
      "  df3['Ethnicity_1'].replace(['American Indian/Alaska NativeHispanic/Latino',],'American Indian/Alaska Native',inplace=True)\n"
     ]
    }
   ],
   "source": [
    "# replace improper values with correct spelling\n",
    "df3['Ethnicity_1'].replace(['American Indian/Alaska NativeHispanic/Latino',],'American Indian/Alaska Native',inplace=True)"
   ]
  },
  {
   "cell_type": "code",
   "execution_count": 107,
   "id": "3b823653",
   "metadata": {},
   "outputs": [
    {
     "name": "stderr",
     "output_type": "stream",
     "text": [
      "C:\\Users\\drmat\\AppData\\Local\\Temp\\ipykernel_7448\\2176238927.py:2: SettingWithCopyWarning: \n",
      "A value is trying to be set on a copy of a slice from a DataFrame\n",
      "\n",
      "See the caveats in the documentation: https://pandas.pydata.org/pandas-docs/stable/user_guide/indexing.html#returning-a-view-versus-a-copy\n",
      "  df3['Ethnicity_1'].replace(['AsianHispanic/Latino',],'Asian',inplace=True)\n"
     ]
    }
   ],
   "source": [
    "# replace improper values with correct spelling\n",
    "df3['Ethnicity_1'].replace(['AsianHispanic/Latino',],'Asian',inplace=True)"
   ]
  },
  {
   "cell_type": "code",
   "execution_count": 108,
   "id": "d72a20b5",
   "metadata": {},
   "outputs": [
    {
     "name": "stderr",
     "output_type": "stream",
     "text": [
      "C:\\Users\\drmat\\AppData\\Local\\Temp\\ipykernel_7448\\3824560289.py:2: SettingWithCopyWarning: \n",
      "A value is trying to be set on a copy of a slice from a DataFrame\n",
      "\n",
      "See the caveats in the documentation: https://pandas.pydata.org/pandas-docs/stable/user_guide/indexing.html#returning-a-view-versus-a-copy\n",
      "  df3['Ethnicity_1'].replace(['BlackHispanic/Latino',],'Black',inplace=True)\n"
     ]
    }
   ],
   "source": [
    "# replace improper values with correct spelling\n",
    "df3['Ethnicity_1'].replace(['BlackHispanic/Latino',],'Black',inplace=True)"
   ]
  },
  {
   "cell_type": "code",
   "execution_count": 109,
   "id": "a42a368d",
   "metadata": {},
   "outputs": [
    {
     "name": "stderr",
     "output_type": "stream",
     "text": [
      "C:\\Users\\drmat\\AppData\\Local\\Temp\\ipykernel_7448\\2529516759.py:2: SettingWithCopyWarning: \n",
      "A value is trying to be set on a copy of a slice from a DataFrame\n",
      "\n",
      "See the caveats in the documentation: https://pandas.pydata.org/pandas-docs/stable/user_guide/indexing.html#returning-a-view-versus-a-copy\n",
      "  df3['Ethnicity_1'].replace(['UnknownHispanic/Latino',],'Hispanic/Latino',inplace=True)\n"
     ]
    }
   ],
   "source": [
    "# replace improper values with correct spelling\n",
    "df3['Ethnicity_1'].replace(['UnknownHispanic/Latino',],'Hispanic/Latino',inplace=True)"
   ]
  },
  {
   "cell_type": "code",
   "execution_count": 110,
   "id": "569a712d",
   "metadata": {},
   "outputs": [
    {
     "name": "stderr",
     "output_type": "stream",
     "text": [
      "C:\\Users\\drmat\\AppData\\Local\\Temp\\ipykernel_7448\\1387725447.py:2: SettingWithCopyWarning: \n",
      "A value is trying to be set on a copy of a slice from a DataFrame\n",
      "\n",
      "See the caveats in the documentation: https://pandas.pydata.org/pandas-docs/stable/user_guide/indexing.html#returning-a-view-versus-a-copy\n",
      "  df3['Ethnicity_1'].replace(['Native Hawaiian/Other Pacific IslanderHispanic/Latino',],'Native Hawaiian/Other Pacific Islander',inplace=True)\n"
     ]
    }
   ],
   "source": [
    "# replace improper values with correct spelling\n",
    "df3['Ethnicity_1'].replace(['Native Hawaiian/Other Pacific IslanderHispanic/Latino',],'Native Hawaiian/Other Pacific Islander',inplace=True)"
   ]
  },
  {
   "cell_type": "code",
   "execution_count": 111,
   "id": "c9df88e0",
   "metadata": {},
   "outputs": [
    {
     "name": "stderr",
     "output_type": "stream",
     "text": [
      "C:\\Users\\drmat\\AppData\\Local\\Temp\\ipykernel_7448\\4226672032.py:2: SettingWithCopyWarning: \n",
      "A value is trying to be set on a copy of a slice from a DataFrame\n",
      "\n",
      "See the caveats in the documentation: https://pandas.pydata.org/pandas-docs/stable/user_guide/indexing.html#returning-a-view-versus-a-copy\n",
      "  df3['Ethnicity_1'].replace(['Multiple/OtherHispanic/Latino',],'Multiple/Other',inplace=True)\n"
     ]
    }
   ],
   "source": [
    "# replace improper values with correct spelling\n",
    "df3['Ethnicity_1'].replace(['Multiple/OtherHispanic/Latino',],'Multiple/Other',inplace=True)"
   ]
  },
  {
   "cell_type": "code",
   "execution_count": 112,
   "id": "8be88779",
   "metadata": {},
   "outputs": [
    {
     "name": "stderr",
     "output_type": "stream",
     "text": [
      "C:\\Users\\drmat\\AppData\\Local\\Temp\\ipykernel_7448\\2500876287.py:2: SettingWithCopyWarning: \n",
      "A value is trying to be set on a copy of a slice from a DataFrame\n",
      "\n",
      "See the caveats in the documentation: https://pandas.pydata.org/pandas-docs/stable/user_guide/indexing.html#returning-a-view-versus-a-copy\n",
      "  df3['Ethnicity_1'].replace(['American Indian/Alaska NativeUnknown',],'American Indian/Alaska Native',inplace=True)\n"
     ]
    }
   ],
   "source": [
    "# replace improper values with correct spelling\n",
    "df3['Ethnicity_1'].replace(['American Indian/Alaska NativeUnknown',],'American Indian/Alaska Native',inplace=True)"
   ]
  },
  {
   "cell_type": "code",
   "execution_count": 113,
   "id": "cb5b2f8c",
   "metadata": {},
   "outputs": [
    {
     "name": "stderr",
     "output_type": "stream",
     "text": [
      "C:\\Users\\drmat\\AppData\\Local\\Temp\\ipykernel_7448\\3566047888.py:2: SettingWithCopyWarning: \n",
      "A value is trying to be set on a copy of a slice from a DataFrame\n",
      "\n",
      "See the caveats in the documentation: https://pandas.pydata.org/pandas-docs/stable/user_guide/indexing.html#returning-a-view-versus-a-copy\n",
      "  df3['Ethnicity_1'].replace(['Multiple/OtherUnknown',],'Multiple/Other',inplace=True)\n"
     ]
    }
   ],
   "source": [
    "# replace improper values with correct spelling\n",
    "df3['Ethnicity_1'].replace(['Multiple/OtherUnknown',],'Multiple/Other',inplace=True)"
   ]
  },
  {
   "cell_type": "code",
   "execution_count": 114,
   "id": "5a91c27c",
   "metadata": {},
   "outputs": [
    {
     "name": "stderr",
     "output_type": "stream",
     "text": [
      "C:\\Users\\drmat\\AppData\\Local\\Temp\\ipykernel_7448\\106527542.py:2: SettingWithCopyWarning: \n",
      "A value is trying to be set on a copy of a slice from a DataFrame\n",
      "\n",
      "See the caveats in the documentation: https://pandas.pydata.org/pandas-docs/stable/user_guide/indexing.html#returning-a-view-versus-a-copy\n",
      "  df3['Ethnicity_1'].replace(['AsianUnknown',],'Asian',inplace=True)\n"
     ]
    }
   ],
   "source": [
    "# replace improper values with correct spelling\n",
    "df3['Ethnicity_1'].replace(['AsianUnknown',],'Asian',inplace=True)"
   ]
  },
  {
   "cell_type": "code",
   "execution_count": 115,
   "id": "2c5feeca",
   "metadata": {},
   "outputs": [
    {
     "name": "stderr",
     "output_type": "stream",
     "text": [
      "C:\\Users\\drmat\\AppData\\Local\\Temp\\ipykernel_7448\\3181245073.py:2: SettingWithCopyWarning: \n",
      "A value is trying to be set on a copy of a slice from a DataFrame\n",
      "\n",
      "See the caveats in the documentation: https://pandas.pydata.org/pandas-docs/stable/user_guide/indexing.html#returning-a-view-versus-a-copy\n",
      "  df3['Ethnicity_1'].replace(['BlackUnknown',],'Black',inplace=True)\n"
     ]
    }
   ],
   "source": [
    "# replace improper values with correct spelling\n",
    "df3['Ethnicity_1'].replace(['BlackUnknown',],'Black',inplace=True)"
   ]
  },
  {
   "cell_type": "code",
   "execution_count": 116,
   "id": "f2de810f",
   "metadata": {},
   "outputs": [
    {
     "name": "stderr",
     "output_type": "stream",
     "text": [
      "C:\\Users\\drmat\\AppData\\Local\\Temp\\ipykernel_7448\\1684452154.py:2: SettingWithCopyWarning: \n",
      "A value is trying to be set on a copy of a slice from a DataFrame\n",
      "\n",
      "See the caveats in the documentation: https://pandas.pydata.org/pandas-docs/stable/user_guide/indexing.html#returning-a-view-versus-a-copy\n",
      "  df3['Ethnicity_1'].replace(['Native Hawaiian/Other Pacific IslanderUnknown',],'Native Hawaiian/Other Pacific Islander',inplace=True)\n"
     ]
    }
   ],
   "source": [
    "# replace improper values with correct spelling\n",
    "df3['Ethnicity_1'].replace(['Native Hawaiian/Other Pacific IslanderUnknown',],'Native Hawaiian/Other Pacific Islander',inplace=True)"
   ]
  },
  {
   "cell_type": "code",
   "execution_count": 117,
   "id": "33351755",
   "metadata": {},
   "outputs": [
    {
     "name": "stderr",
     "output_type": "stream",
     "text": [
      "C:\\Users\\drmat\\AppData\\Local\\Temp\\ipykernel_7448\\3441854579.py:1: SettingWithCopyWarning: \n",
      "A value is trying to be set on a copy of a slice from a DataFrame\n",
      "\n",
      "See the caveats in the documentation: https://pandas.pydata.org/pandas-docs/stable/user_guide/indexing.html#returning-a-view-versus-a-copy\n",
      "  df3.fillna('Unknown',inplace=True)\n"
     ]
    }
   ],
   "source": [
    "df3.fillna('Unknown',inplace=True)"
   ]
  },
  {
   "cell_type": "code",
   "execution_count": 118,
   "id": "3dfc08ef",
   "metadata": {},
   "outputs": [
    {
     "data": {
      "text/plain": [
       "array(['White', 'Unknown', 'Black', 'American Indian/Alaska Native',\n",
       "       'Multiple/Other', 'Asian', 'Hispanic/Latino',\n",
       "       'Native Hawaiian/Other Pacific Islander'], dtype=object)"
      ]
     },
     "execution_count": 118,
     "metadata": {},
     "output_type": "execute_result"
    }
   ],
   "source": [
    "# recheck values in ethnicity column\n",
    "df3['Ethnicity_1'].unique()"
   ]
  },
  {
   "cell_type": "code",
   "execution_count": 119,
   "id": "b006303e",
   "metadata": {},
   "outputs": [
    {
     "name": "stderr",
     "output_type": "stream",
     "text": [
      "C:\\Users\\drmat\\AppData\\Local\\Temp\\ipykernel_7448\\1592095892.py:2: SettingWithCopyWarning: \n",
      "A value is trying to be set on a copy of a slice from a DataFrame\n",
      "\n",
      "See the caveats in the documentation: https://pandas.pydata.org/pandas-docs/stable/user_guide/indexing.html#returning-a-view-versus-a-copy\n",
      "  df3.rename(columns={'res_state':'state'},inplace=True)\n"
     ]
    }
   ],
   "source": [
    "# rename column to match other dataframes\n",
    "df3.rename(columns={'res_state':'state'},inplace=True)"
   ]
  },
  {
   "cell_type": "code",
   "execution_count": 120,
   "id": "72ce45d4",
   "metadata": {},
   "outputs": [
    {
     "name": "stdout",
     "output_type": "stream",
     "text": [
      "<class 'pandas.core.frame.DataFrame'>\n",
      "RangeIndex: 24849224 entries, 50000001 to 74849224\n",
      "Data columns (total 5 columns):\n",
      " #   Column       Dtype \n",
      "---  ------       ----- \n",
      " 0   state        object\n",
      " 1   age_group    object\n",
      " 2   sex          object\n",
      " 3   year         object\n",
      " 4   Ethnicity_1  object\n",
      "dtypes: object(5)\n",
      "memory usage: 947.9+ MB\n"
     ]
    }
   ],
   "source": [
    "# recheck dataframe\n",
    "df3.info()"
   ]
  },
  {
   "cell_type": "code",
   "execution_count": 121,
   "id": "eb8eaacc",
   "metadata": {},
   "outputs": [
    {
     "data": {
      "text/plain": [
       "state          0\n",
       "age_group      0\n",
       "sex            0\n",
       "year           0\n",
       "Ethnicity_1    0\n",
       "dtype: int64"
      ]
     },
     "execution_count": 121,
     "metadata": {},
     "output_type": "execute_result"
    }
   ],
   "source": [
    "#Finding number missing values per row\n",
    "df3.isnull().sum()"
   ]
  },
  {
   "cell_type": "code",
   "execution_count": 122,
   "id": "cd74d8df",
   "metadata": {},
   "outputs": [
    {
     "data": {
      "text/plain": [
       "24842586"
      ]
     },
     "execution_count": 122,
     "metadata": {},
     "output_type": "execute_result"
    }
   ],
   "source": [
    "#finding duplicate records\n",
    "df3.duplicated().sum()"
   ]
  },
  {
   "cell_type": "code",
   "execution_count": 123,
   "id": "d4f5ba74",
   "metadata": {},
   "outputs": [],
   "source": [
    "# change column order\n",
    "df3=df3.iloc[:, [3,0,1,2,4]]"
   ]
  },
  {
   "cell_type": "code",
   "execution_count": 124,
   "id": "fdc94793",
   "metadata": {},
   "outputs": [
    {
     "data": {
      "text/plain": [
       "CA    4975783\n",
       "NY    3286474\n",
       "FL    2270100\n",
       "TX    1503061\n",
       "IL    1276315\n",
       "AZ    1121477\n",
       "MA    1085372\n",
       "NJ     996569\n",
       "PA     747698\n",
       "OH     690421\n",
       "NC     633813\n",
       "WA     606253\n",
       "NV     466581\n",
       "MI     466226\n",
       "CO     402924\n",
       "UT     402572\n",
       "KY     385676\n",
       "TN     363872\n",
       "MN     344980\n",
       "GA     330207\n",
       "MO     244518\n",
       "AL     244450\n",
       "MD     234933\n",
       "SC     225153\n",
       "IN     201676\n",
       "DC     138254\n",
       "KS     136145\n",
       "VA     117238\n",
       "CT     113576\n",
       "WI     110224\n",
       "RI      87920\n",
       "OK      78755\n",
       "OR      78314\n",
       "MT      69916\n",
       "DE      69869\n",
       "NE      66759\n",
       "NM      64584\n",
       "LA      64331\n",
       "ID      55195\n",
       "GU      34200\n",
       "WY      31849\n",
       "AR      23613\n",
       "AK       1378\n",
       "Name: state, dtype: int64"
      ]
     },
     "execution_count": 124,
     "metadata": {},
     "output_type": "execute_result"
    }
   ],
   "source": [
    "# check unique value counts\n",
    "df3['state'].value_counts()"
   ]
  },
  {
   "cell_type": "code",
   "execution_count": 125,
   "id": "2c755efe",
   "metadata": {},
   "outputs": [],
   "source": [
    "df3=df3[df3['state'].str.contains('Unknown')==False]"
   ]
  },
  {
   "cell_type": "code",
   "execution_count": 126,
   "id": "39ea7eaf",
   "metadata": {},
   "outputs": [
    {
     "data": {
      "text/plain": [
       "18 to 49 years    13222243\n",
       "50 to 64 years     4448004\n",
       "0 - 17 years       4353410\n",
       "65+ years          2629693\n",
       "Unknown             195874\n",
       "Name: age_group, dtype: int64"
      ]
     },
     "execution_count": 126,
     "metadata": {},
     "output_type": "execute_result"
    }
   ],
   "source": [
    "# check unique value counts\n",
    "df3['age_group'].value_counts()"
   ]
  },
  {
   "cell_type": "code",
   "execution_count": 127,
   "id": "9734553d",
   "metadata": {},
   "outputs": [],
   "source": [
    "df3=df3[df3['age_group'].str.contains('Unknown')==False ]"
   ]
  },
  {
   "cell_type": "code",
   "execution_count": 128,
   "id": "ddfb3943",
   "metadata": {},
   "outputs": [
    {
     "data": {
      "text/plain": [
       "Female     12953029\n",
       "Male       11336692\n",
       "Unknown      363489\n",
       "Other           140\n",
       "Name: sex, dtype: int64"
      ]
     },
     "execution_count": 128,
     "metadata": {},
     "output_type": "execute_result"
    }
   ],
   "source": [
    "# check unique value counts\n",
    "df3['sex'].value_counts()"
   ]
  },
  {
   "cell_type": "code",
   "execution_count": 129,
   "id": "2d270a0d",
   "metadata": {},
   "outputs": [],
   "source": [
    "df3=df3[df3['sex'].str.contains('Unknown')==False ]"
   ]
  },
  {
   "cell_type": "code",
   "execution_count": 130,
   "id": "2b37f777",
   "metadata": {},
   "outputs": [
    {
     "data": {
      "text/plain": [
       "2021    10596961\n",
       "2022     7671005\n",
       "2020     6021895\n",
       "Name: year, dtype: int64"
      ]
     },
     "execution_count": 130,
     "metadata": {},
     "output_type": "execute_result"
    }
   ],
   "source": [
    "# check unique value counts\n",
    "df3['year'].value_counts()"
   ]
  },
  {
   "cell_type": "code",
   "execution_count": 131,
   "id": "e221b5a4",
   "metadata": {},
   "outputs": [],
   "source": [
    "df3=df3[df3['year'].str.contains('Unknown')==False ]"
   ]
  },
  {
   "cell_type": "code",
   "execution_count": 132,
   "id": "e49053bb",
   "metadata": {},
   "outputs": [
    {
     "data": {
      "text/plain": [
       "White                                     10210418\n",
       "Unknown                                    8599630\n",
       "Black                                      2776195\n",
       "Asian                                      1170342\n",
       "Hispanic/Latino                             872131\n",
       "Multiple/Other                              476940\n",
       "American Indian/Alaska Native               120252\n",
       "Native Hawaiian/Other Pacific Islander       63953\n",
       "Name: Ethnicity_1, dtype: int64"
      ]
     },
     "execution_count": 132,
     "metadata": {},
     "output_type": "execute_result"
    }
   ],
   "source": [
    "# check unique value counts\n",
    "df3['Ethnicity_1'].value_counts()"
   ]
  },
  {
   "cell_type": "code",
   "execution_count": 133,
   "id": "0b9ab152",
   "metadata": {},
   "outputs": [],
   "source": [
    "df3=df3[df3['Ethnicity_1'].str.contains('Unknown')==False ]"
   ]
  },
  {
   "cell_type": "code",
   "execution_count": 134,
   "id": "3018e59e",
   "metadata": {},
   "outputs": [
    {
     "name": "stdout",
     "output_type": "stream",
     "text": [
      "<class 'pandas.core.frame.DataFrame'>\n",
      "Int64Index: 15690231 entries, 50000001 to 74849224\n",
      "Data columns (total 5 columns):\n",
      " #   Column       Dtype \n",
      "---  ------       ----- \n",
      " 0   year         object\n",
      " 1   state        object\n",
      " 2   age_group    object\n",
      " 3   sex          object\n",
      " 4   Ethnicity_1  object\n",
      "dtypes: object(5)\n",
      "memory usage: 718.2+ MB\n"
     ]
    }
   ],
   "source": [
    "df3.info()"
   ]
  },
  {
   "cell_type": "markdown",
   "id": "576e80dc",
   "metadata": {},
   "source": [
    "## Recombine Dataframe"
   ]
  },
  {
   "cell_type": "code",
   "execution_count": 135,
   "id": "966af2d5",
   "metadata": {},
   "outputs": [
    {
     "data": {
      "text/html": [
       "<div>\n",
       "<style scoped>\n",
       "    .dataframe tbody tr th:only-of-type {\n",
       "        vertical-align: middle;\n",
       "    }\n",
       "\n",
       "    .dataframe tbody tr th {\n",
       "        vertical-align: top;\n",
       "    }\n",
       "\n",
       "    .dataframe thead th {\n",
       "        text-align: right;\n",
       "    }\n",
       "</style>\n",
       "<table border=\"1\" class=\"dataframe\">\n",
       "  <thead>\n",
       "    <tr style=\"text-align: right;\">\n",
       "      <th></th>\n",
       "      <th>index</th>\n",
       "      <th>year</th>\n",
       "      <th>state</th>\n",
       "      <th>age_group</th>\n",
       "      <th>sex</th>\n",
       "      <th>Ethnicity_1</th>\n",
       "    </tr>\n",
       "  </thead>\n",
       "  <tbody>\n",
       "    <tr>\n",
       "      <th>0</th>\n",
       "      <td>0</td>\n",
       "      <td>2022</td>\n",
       "      <td>AZ</td>\n",
       "      <td>65+ years</td>\n",
       "      <td>Female</td>\n",
       "      <td>White</td>\n",
       "    </tr>\n",
       "    <tr>\n",
       "      <th>1</th>\n",
       "      <td>3</td>\n",
       "      <td>2021</td>\n",
       "      <td>IL</td>\n",
       "      <td>65+ years</td>\n",
       "      <td>Male</td>\n",
       "      <td>White</td>\n",
       "    </tr>\n",
       "    <tr>\n",
       "      <th>2</th>\n",
       "      <td>4</td>\n",
       "      <td>2022</td>\n",
       "      <td>AZ</td>\n",
       "      <td>65+ years</td>\n",
       "      <td>Female</td>\n",
       "      <td>White</td>\n",
       "    </tr>\n",
       "    <tr>\n",
       "      <th>3</th>\n",
       "      <td>7</td>\n",
       "      <td>2021</td>\n",
       "      <td>IL</td>\n",
       "      <td>65+ years</td>\n",
       "      <td>Male</td>\n",
       "      <td>White</td>\n",
       "    </tr>\n",
       "    <tr>\n",
       "      <th>4</th>\n",
       "      <td>8</td>\n",
       "      <td>2022</td>\n",
       "      <td>AZ</td>\n",
       "      <td>65+ years</td>\n",
       "      <td>Female</td>\n",
       "      <td>White</td>\n",
       "    </tr>\n",
       "    <tr>\n",
       "      <th>...</th>\n",
       "      <td>...</td>\n",
       "      <td>...</td>\n",
       "      <td>...</td>\n",
       "      <td>...</td>\n",
       "      <td>...</td>\n",
       "      <td>...</td>\n",
       "    </tr>\n",
       "    <tr>\n",
       "      <th>47143590</th>\n",
       "      <td>74849217</td>\n",
       "      <td>2022</td>\n",
       "      <td>AZ</td>\n",
       "      <td>65+ years</td>\n",
       "      <td>Female</td>\n",
       "      <td>White</td>\n",
       "    </tr>\n",
       "    <tr>\n",
       "      <th>47143591</th>\n",
       "      <td>74849218</td>\n",
       "      <td>2020</td>\n",
       "      <td>CA</td>\n",
       "      <td>50 to 64 years</td>\n",
       "      <td>Male</td>\n",
       "      <td>White</td>\n",
       "    </tr>\n",
       "    <tr>\n",
       "      <th>47143592</th>\n",
       "      <td>74849220</td>\n",
       "      <td>2021</td>\n",
       "      <td>IL</td>\n",
       "      <td>65+ years</td>\n",
       "      <td>Male</td>\n",
       "      <td>White</td>\n",
       "    </tr>\n",
       "    <tr>\n",
       "      <th>47143593</th>\n",
       "      <td>74849223</td>\n",
       "      <td>2021</td>\n",
       "      <td>IL</td>\n",
       "      <td>65+ years</td>\n",
       "      <td>Male</td>\n",
       "      <td>White</td>\n",
       "    </tr>\n",
       "    <tr>\n",
       "      <th>47143594</th>\n",
       "      <td>74849224</td>\n",
       "      <td>2022</td>\n",
       "      <td>CA</td>\n",
       "      <td>18 to 49 years</td>\n",
       "      <td>Female</td>\n",
       "      <td>White</td>\n",
       "    </tr>\n",
       "  </tbody>\n",
       "</table>\n",
       "<p>47143595 rows × 6 columns</p>\n",
       "</div>"
      ],
      "text/plain": [
       "             index  year state       age_group     sex Ethnicity_1\n",
       "0                0  2022    AZ       65+ years  Female       White\n",
       "1                3  2021    IL       65+ years    Male       White\n",
       "2                4  2022    AZ       65+ years  Female       White\n",
       "3                7  2021    IL       65+ years    Male       White\n",
       "4                8  2022    AZ       65+ years  Female       White\n",
       "...            ...   ...   ...             ...     ...         ...\n",
       "47143590  74849217  2022    AZ       65+ years  Female       White\n",
       "47143591  74849218  2020    CA  50 to 64 years    Male       White\n",
       "47143592  74849220  2021    IL       65+ years    Male       White\n",
       "47143593  74849223  2021    IL       65+ years    Male       White\n",
       "47143594  74849224  2022    CA  18 to 49 years  Female       White\n",
       "\n",
       "[47143595 rows x 6 columns]"
      ]
     },
     "execution_count": 135,
     "metadata": {},
     "output_type": "execute_result"
    }
   ],
   "source": [
    "frames = [df1,df2,df3]\n",
    "df_concat = pd.concat(frames, axis =0)\n",
    "df_concat.reset_index()"
   ]
  },
  {
   "cell_type": "code",
   "execution_count": 136,
   "id": "1c434e4a",
   "metadata": {},
   "outputs": [
    {
     "name": "stdout",
     "output_type": "stream",
     "text": [
      "<class 'pandas.core.frame.DataFrame'>\n",
      "Int64Index: 47143595 entries, 0 to 74849224\n",
      "Data columns (total 5 columns):\n",
      " #   Column       Dtype \n",
      "---  ------       ----- \n",
      " 0   year         object\n",
      " 1   state        object\n",
      " 2   age_group    object\n",
      " 3   sex          object\n",
      " 4   Ethnicity_1  object\n",
      "dtypes: object(5)\n",
      "memory usage: 2.1+ GB\n"
     ]
    }
   ],
   "source": [
    "df_concat.info()"
   ]
  },
  {
   "cell_type": "markdown",
   "id": "d29ef3ba",
   "metadata": {},
   "source": [
    "## Create new dataframes based on variables"
   ]
  },
  {
   "cell_type": "code",
   "execution_count": 137,
   "id": "60740517",
   "metadata": {},
   "outputs": [],
   "source": [
    "df_age_group=df_concat[['year','state','age_group']]"
   ]
  },
  {
   "cell_type": "code",
   "execution_count": 138,
   "id": "559bd99a",
   "metadata": {},
   "outputs": [
    {
     "name": "stdout",
     "output_type": "stream",
     "text": [
      "<class 'pandas.core.frame.DataFrame'>\n",
      "Int64Index: 47143595 entries, 0 to 74849224\n",
      "Data columns (total 3 columns):\n",
      " #   Column     Dtype \n",
      "---  ------     ----- \n",
      " 0   year       object\n",
      " 1   state      object\n",
      " 2   age_group  object\n",
      "dtypes: object(3)\n",
      "memory usage: 1.4+ GB\n"
     ]
    }
   ],
   "source": [
    "df_age_group.info()"
   ]
  },
  {
   "cell_type": "code",
   "execution_count": 139,
   "id": "de887948",
   "metadata": {},
   "outputs": [],
   "source": [
    "df_age_group.to_pickle(r'C:\\Users\\drmat\\OneDrive\\Documents\\Career Foundry\\COVID_Suicide\\02 Data\\02 Prepared\\COVID\\age_group3.pkl')"
   ]
  },
  {
   "cell_type": "code",
   "execution_count": 140,
   "id": "39046202",
   "metadata": {},
   "outputs": [],
   "source": [
    "df_gender=df_concat[['year','state','sex']]"
   ]
  },
  {
   "cell_type": "code",
   "execution_count": 141,
   "id": "d6780f75",
   "metadata": {},
   "outputs": [
    {
     "name": "stdout",
     "output_type": "stream",
     "text": [
      "<class 'pandas.core.frame.DataFrame'>\n",
      "Int64Index: 47143595 entries, 0 to 74849224\n",
      "Data columns (total 3 columns):\n",
      " #   Column  Dtype \n",
      "---  ------  ----- \n",
      " 0   year    object\n",
      " 1   state   object\n",
      " 2   sex     object\n",
      "dtypes: object(3)\n",
      "memory usage: 1.4+ GB\n"
     ]
    }
   ],
   "source": [
    "df_gender.info()"
   ]
  },
  {
   "cell_type": "code",
   "execution_count": 142,
   "id": "4bc4d478",
   "metadata": {},
   "outputs": [],
   "source": [
    "df_gender.to_pickle(r'C:\\Users\\drmat\\OneDrive\\Documents\\Career Foundry\\COVID_Suicide\\02 Data\\02 Prepared\\COVID\\gender3.pkl')"
   ]
  },
  {
   "cell_type": "code",
   "execution_count": 143,
   "id": "f26b20e1",
   "metadata": {},
   "outputs": [],
   "source": [
    "df_ethnicity=df_concat[['year','state','Ethnicity_1']]"
   ]
  },
  {
   "cell_type": "code",
   "execution_count": 144,
   "id": "253d724e",
   "metadata": {},
   "outputs": [
    {
     "name": "stdout",
     "output_type": "stream",
     "text": [
      "<class 'pandas.core.frame.DataFrame'>\n",
      "Int64Index: 47143595 entries, 0 to 74849224\n",
      "Data columns (total 3 columns):\n",
      " #   Column       Dtype \n",
      "---  ------       ----- \n",
      " 0   year         object\n",
      " 1   state        object\n",
      " 2   Ethnicity_1  object\n",
      "dtypes: object(3)\n",
      "memory usage: 1.4+ GB\n"
     ]
    }
   ],
   "source": [
    "df_ethnicity.info()"
   ]
  },
  {
   "cell_type": "code",
   "execution_count": 145,
   "id": "1d2358d2",
   "metadata": {},
   "outputs": [],
   "source": [
    "df_ethnicity.to_pickle(r'C:\\Users\\drmat\\OneDrive\\Documents\\Career Foundry\\COVID_Suicide\\02 Data\\02 Prepared\\COVID\\ethnicity3.pkl')"
   ]
  },
  {
   "cell_type": "code",
   "execution_count": 146,
   "id": "948ab70a",
   "metadata": {},
   "outputs": [],
   "source": [
    "df_state=df_concat[['year','state']]"
   ]
  },
  {
   "cell_type": "code",
   "execution_count": 147,
   "id": "eb3c29a1",
   "metadata": {},
   "outputs": [
    {
     "name": "stdout",
     "output_type": "stream",
     "text": [
      "<class 'pandas.core.frame.DataFrame'>\n",
      "Int64Index: 47143595 entries, 0 to 74849224\n",
      "Data columns (total 2 columns):\n",
      " #   Column  Dtype \n",
      "---  ------  ----- \n",
      " 0   year    object\n",
      " 1   state   object\n",
      "dtypes: object(2)\n",
      "memory usage: 1.1+ GB\n"
     ]
    }
   ],
   "source": [
    "df_state.info()"
   ]
  },
  {
   "cell_type": "code",
   "execution_count": 148,
   "id": "e4364826",
   "metadata": {},
   "outputs": [],
   "source": [
    "df_state.to_pickle(r'C:\\Users\\drmat\\OneDrive\\Documents\\Career Foundry\\COVID_Suicide\\02 Data\\02 Prepared\\COVID\\state3.pkl')"
   ]
  },
  {
   "cell_type": "code",
   "execution_count": null,
   "id": "eb990c85",
   "metadata": {},
   "outputs": [],
   "source": []
  }
 ],
 "metadata": {
  "kernelspec": {
   "display_name": "Python 3 (ipykernel)",
   "language": "python",
   "name": "python3"
  },
  "language_info": {
   "codemirror_mode": {
    "name": "ipython",
    "version": 3
   },
   "file_extension": ".py",
   "mimetype": "text/x-python",
   "name": "python",
   "nbconvert_exporter": "python",
   "pygments_lexer": "ipython3",
   "version": "3.9.12"
  }
 },
 "nbformat": 4,
 "nbformat_minor": 5
}

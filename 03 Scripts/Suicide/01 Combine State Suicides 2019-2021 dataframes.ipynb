{
 "cells": [
  {
   "cell_type": "markdown",
   "id": "5c588b85",
   "metadata": {},
   "source": [
    "## Import Libraries"
   ]
  },
  {
   "cell_type": "code",
   "execution_count": 1,
   "id": "cb38d07e",
   "metadata": {},
   "outputs": [],
   "source": [
    "import pandas as pd\n",
    "import sweetviz as sv\n",
    "import numpy as np\n",
    "import os\n",
    "import matplotlib.pyplot as plt\n",
    "import seaborn as sns\n",
    "import scipy\n",
    "import chardet\n",
    "import datetime as dt"
   ]
  },
  {
   "cell_type": "markdown",
   "id": "ea866ee3",
   "metadata": {},
   "source": [
    "## Import Data"
   ]
  },
  {
   "cell_type": "code",
   "execution_count": 2,
   "id": "2267a80f",
   "metadata": {},
   "outputs": [],
   "source": [
    "df1=pd.read_excel(r\"C:\\Users\\drmat\\OneDrive\\Documents\\Career Foundry\\COVID_Suicide\\02 Data\\01 Raw\\Suicide\\2019-Public Health Impact Suicide.xlsx\", sheet_name='State', index_col=False)"
   ]
  },
  {
   "cell_type": "code",
   "execution_count": 3,
   "id": "53c90da6",
   "metadata": {},
   "outputs": [],
   "source": [
    "df2=pd.read_excel(r\"C:\\Users\\drmat\\OneDrive\\Documents\\Career Foundry\\COVID_Suicide\\02 Data\\01 Raw\\Suicide\\2020-Public Health Impact Suicide.xlsx\", sheet_name='State', index_col=False)"
   ]
  },
  {
   "cell_type": "code",
   "execution_count": 4,
   "id": "2ec5336b",
   "metadata": {},
   "outputs": [],
   "source": [
    "df3=pd.read_excel(r\"C:\\Users\\drmat\\OneDrive\\Documents\\Career Foundry\\COVID_Suicide\\02 Data\\01 Raw\\Suicide\\2021-Public Health Impact Suicide.xlsx\", sheet_name='State', index_col=False)"
   ]
  },
  {
   "cell_type": "markdown",
   "id": "8a1598f2",
   "metadata": {},
   "source": [
    "## Merge Dataframes"
   ]
  },
  {
   "cell_type": "code",
   "execution_count": 5,
   "id": "a7b5c97a",
   "metadata": {},
   "outputs": [
    {
     "data": {
      "text/html": [
       "<div>\n",
       "<style scoped>\n",
       "    .dataframe tbody tr th:only-of-type {\n",
       "        vertical-align: middle;\n",
       "    }\n",
       "\n",
       "    .dataframe tbody tr th {\n",
       "        vertical-align: top;\n",
       "    }\n",
       "\n",
       "    .dataframe thead th {\n",
       "        text-align: right;\n",
       "    }\n",
       "</style>\n",
       "<table border=\"1\" class=\"dataframe\">\n",
       "  <thead>\n",
       "    <tr style=\"text-align: right;\">\n",
       "      <th></th>\n",
       "      <th>index</th>\n",
       "      <th>Edition</th>\n",
       "      <th>Report Type</th>\n",
       "      <th>Measure Name</th>\n",
       "      <th>State Name</th>\n",
       "      <th>Rank</th>\n",
       "      <th>Value</th>\n",
       "      <th>Score</th>\n",
       "      <th>Lower CI</th>\n",
       "      <th>Upper CI</th>\n",
       "      <th>Source</th>\n",
       "      <th>Source Year</th>\n",
       "    </tr>\n",
       "  </thead>\n",
       "  <tbody>\n",
       "    <tr>\n",
       "      <th>0</th>\n",
       "      <td>0</td>\n",
       "      <td>2019</td>\n",
       "      <td>2019 Annual</td>\n",
       "      <td>Suicide</td>\n",
       "      <td>New York</td>\n",
       "      <td>2.0</td>\n",
       "      <td>8.4</td>\n",
       "      <td>-1.27</td>\n",
       "      <td>8.8</td>\n",
       "      <td>8.0</td>\n",
       "      <td>CDC WONDER, Multiple Cause of Death Files</td>\n",
       "      <td>2017.0</td>\n",
       "    </tr>\n",
       "    <tr>\n",
       "      <th>1</th>\n",
       "      <td>1</td>\n",
       "      <td>2019</td>\n",
       "      <td>2019 Annual</td>\n",
       "      <td>Suicide</td>\n",
       "      <td>New Jersey</td>\n",
       "      <td>3.0</td>\n",
       "      <td>8.7</td>\n",
       "      <td>-1.20</td>\n",
       "      <td>9.3</td>\n",
       "      <td>8.1</td>\n",
       "      <td>CDC WONDER, Multiple Cause of Death Files</td>\n",
       "      <td>2017.0</td>\n",
       "    </tr>\n",
       "    <tr>\n",
       "      <th>2</th>\n",
       "      <td>2</td>\n",
       "      <td>2019</td>\n",
       "      <td>2019 Annual</td>\n",
       "      <td>Suicide</td>\n",
       "      <td>Massachusetts</td>\n",
       "      <td>4.0</td>\n",
       "      <td>9.7</td>\n",
       "      <td>-1.00</td>\n",
       "      <td>10.4</td>\n",
       "      <td>8.9</td>\n",
       "      <td>CDC WONDER, Multiple Cause of Death Files</td>\n",
       "      <td>2017.0</td>\n",
       "    </tr>\n",
       "    <tr>\n",
       "      <th>3</th>\n",
       "      <td>3</td>\n",
       "      <td>2019</td>\n",
       "      <td>2019 Annual</td>\n",
       "      <td>Suicide</td>\n",
       "      <td>Maryland</td>\n",
       "      <td>5.0</td>\n",
       "      <td>10.3</td>\n",
       "      <td>-0.87</td>\n",
       "      <td>11.2</td>\n",
       "      <td>9.5</td>\n",
       "      <td>CDC WONDER, Multiple Cause of Death Files</td>\n",
       "      <td>2017.0</td>\n",
       "    </tr>\n",
       "    <tr>\n",
       "      <th>4</th>\n",
       "      <td>4</td>\n",
       "      <td>2019</td>\n",
       "      <td>2019 Annual</td>\n",
       "      <td>Suicide</td>\n",
       "      <td>Connecticut</td>\n",
       "      <td>6.0</td>\n",
       "      <td>10.9</td>\n",
       "      <td>-0.75</td>\n",
       "      <td>12.0</td>\n",
       "      <td>9.8</td>\n",
       "      <td>CDC WONDER, Multiple Cause of Death Files</td>\n",
       "      <td>2017.0</td>\n",
       "    </tr>\n",
       "    <tr>\n",
       "      <th>...</th>\n",
       "      <td>...</td>\n",
       "      <td>...</td>\n",
       "      <td>...</td>\n",
       "      <td>...</td>\n",
       "      <td>...</td>\n",
       "      <td>...</td>\n",
       "      <td>...</td>\n",
       "      <td>...</td>\n",
       "      <td>...</td>\n",
       "      <td>...</td>\n",
       "      <td>...</td>\n",
       "      <td>...</td>\n",
       "    </tr>\n",
       "    <tr>\n",
       "      <th>151</th>\n",
       "      <td>47</td>\n",
       "      <td>2021</td>\n",
       "      <td>2021 Annual</td>\n",
       "      <td>Suicide</td>\n",
       "      <td>West Virginia</td>\n",
       "      <td>34.0</td>\n",
       "      <td>18.4</td>\n",
       "      <td>0.82</td>\n",
       "      <td>20.4</td>\n",
       "      <td>16.4</td>\n",
       "      <td>AHR data</td>\n",
       "      <td>NaN</td>\n",
       "    </tr>\n",
       "    <tr>\n",
       "      <th>152</th>\n",
       "      <td>48</td>\n",
       "      <td>2021</td>\n",
       "      <td>2021 Annual</td>\n",
       "      <td>Suicide</td>\n",
       "      <td>Wisconsin</td>\n",
       "      <td>13.0</td>\n",
       "      <td>14.4</td>\n",
       "      <td>-0.02</td>\n",
       "      <td>15.4</td>\n",
       "      <td>13.4</td>\n",
       "      <td>AHR data</td>\n",
       "      <td>NaN</td>\n",
       "    </tr>\n",
       "    <tr>\n",
       "      <th>153</th>\n",
       "      <td>49</td>\n",
       "      <td>2021</td>\n",
       "      <td>2021 Annual</td>\n",
       "      <td>Suicide</td>\n",
       "      <td>Wyoming</td>\n",
       "      <td>50.0</td>\n",
       "      <td>29.8</td>\n",
       "      <td>2.00</td>\n",
       "      <td>34.3</td>\n",
       "      <td>25.3</td>\n",
       "      <td>AHR data</td>\n",
       "      <td>NaN</td>\n",
       "    </tr>\n",
       "    <tr>\n",
       "      <th>154</th>\n",
       "      <td>50</td>\n",
       "      <td>2021</td>\n",
       "      <td>2021 Annual</td>\n",
       "      <td>Suicide</td>\n",
       "      <td>United States</td>\n",
       "      <td>NaN</td>\n",
       "      <td>14.5</td>\n",
       "      <td>NaN</td>\n",
       "      <td>14.6</td>\n",
       "      <td>14.3</td>\n",
       "      <td>AHR data</td>\n",
       "      <td>NaN</td>\n",
       "    </tr>\n",
       "    <tr>\n",
       "      <th>155</th>\n",
       "      <td>51</td>\n",
       "      <td>2021</td>\n",
       "      <td>2021 Annual</td>\n",
       "      <td>Suicide</td>\n",
       "      <td>District of Columbia</td>\n",
       "      <td>NaN</td>\n",
       "      <td>6.5</td>\n",
       "      <td>NaN</td>\n",
       "      <td>8.8</td>\n",
       "      <td>4.6</td>\n",
       "      <td>AHR data</td>\n",
       "      <td>NaN</td>\n",
       "    </tr>\n",
       "  </tbody>\n",
       "</table>\n",
       "<p>156 rows × 12 columns</p>\n",
       "</div>"
      ],
      "text/plain": [
       "     index  Edition  Report Type Measure Name            State Name  Rank  \\\n",
       "0        0     2019  2019 Annual      Suicide              New York   2.0   \n",
       "1        1     2019  2019 Annual      Suicide            New Jersey   3.0   \n",
       "2        2     2019  2019 Annual      Suicide         Massachusetts   4.0   \n",
       "3        3     2019  2019 Annual      Suicide              Maryland   5.0   \n",
       "4        4     2019  2019 Annual      Suicide           Connecticut   6.0   \n",
       "..     ...      ...          ...          ...                   ...   ...   \n",
       "151     47     2021  2021 Annual      Suicide         West Virginia  34.0   \n",
       "152     48     2021  2021 Annual      Suicide             Wisconsin  13.0   \n",
       "153     49     2021  2021 Annual      Suicide               Wyoming  50.0   \n",
       "154     50     2021  2021 Annual      Suicide         United States   NaN   \n",
       "155     51     2021  2021 Annual      Suicide  District of Columbia   NaN   \n",
       "\n",
       "     Value  Score  Lower CI  Upper CI  \\\n",
       "0      8.4  -1.27       8.8       8.0   \n",
       "1      8.7  -1.20       9.3       8.1   \n",
       "2      9.7  -1.00      10.4       8.9   \n",
       "3     10.3  -0.87      11.2       9.5   \n",
       "4     10.9  -0.75      12.0       9.8   \n",
       "..     ...    ...       ...       ...   \n",
       "151   18.4   0.82      20.4      16.4   \n",
       "152   14.4  -0.02      15.4      13.4   \n",
       "153   29.8   2.00      34.3      25.3   \n",
       "154   14.5    NaN      14.6      14.3   \n",
       "155    6.5    NaN       8.8       4.6   \n",
       "\n",
       "                                        Source  Source Year  \n",
       "0    CDC WONDER, Multiple Cause of Death Files       2017.0  \n",
       "1    CDC WONDER, Multiple Cause of Death Files       2017.0  \n",
       "2    CDC WONDER, Multiple Cause of Death Files       2017.0  \n",
       "3    CDC WONDER, Multiple Cause of Death Files       2017.0  \n",
       "4    CDC WONDER, Multiple Cause of Death Files       2017.0  \n",
       "..                                         ...          ...  \n",
       "151                                   AHR data          NaN  \n",
       "152                                   AHR data          NaN  \n",
       "153                                   AHR data          NaN  \n",
       "154                                   AHR data          NaN  \n",
       "155                                   AHR data          NaN  \n",
       "\n",
       "[156 rows x 12 columns]"
      ]
     },
     "execution_count": 5,
     "metadata": {},
     "output_type": "execute_result"
    }
   ],
   "source": [
    "# use concat to merge all 3 dataframes\n",
    "state_frames=[df1,df2,df3]\n",
    "df_states=pd.concat(state_frames, axis=0)\n",
    "df_states.reset_index()"
   ]
  },
  {
   "cell_type": "markdown",
   "id": "53b78977",
   "metadata": {},
   "source": [
    "## Inspect Data"
   ]
  },
  {
   "cell_type": "code",
   "execution_count": 6,
   "id": "04dd25e5",
   "metadata": {},
   "outputs": [
    {
     "name": "stdout",
     "output_type": "stream",
     "text": [
      "<class 'pandas.core.frame.DataFrame'>\n",
      "Int64Index: 156 entries, 0 to 51\n",
      "Data columns (total 11 columns):\n",
      " #   Column        Non-Null Count  Dtype  \n",
      "---  ------        --------------  -----  \n",
      " 0   Edition       156 non-null    int64  \n",
      " 1   Report Type   156 non-null    object \n",
      " 2   Measure Name  156 non-null    object \n",
      " 3   State Name    156 non-null    object \n",
      " 4   Rank          152 non-null    float64\n",
      " 5   Value         156 non-null    float64\n",
      " 6   Score         152 non-null    float64\n",
      " 7   Lower CI      156 non-null    float64\n",
      " 8   Upper CI      156 non-null    float64\n",
      " 9   Source        156 non-null    object \n",
      " 10  Source Year   52 non-null     float64\n",
      "dtypes: float64(6), int64(1), object(4)\n",
      "memory usage: 14.6+ KB\n"
     ]
    }
   ],
   "source": [
    "df_states.info()"
   ]
  },
  {
   "cell_type": "code",
   "execution_count": 7,
   "id": "3f4d8754",
   "metadata": {},
   "outputs": [
    {
     "name": "stdout",
     "output_type": "stream",
     "text": [
      "Non-Numeric columns:\n",
      "Report Type\n",
      "Measure Name\n",
      "State Name\n",
      "Source\n",
      "\n",
      "Numeric columns:\n",
      "Edition\n",
      "Rank\n",
      "Value\n",
      "Score\n",
      "Lower CI\n",
      "Upper CI\n",
      "Source Year\n"
     ]
    }
   ],
   "source": [
    "#numeric and non-numeric data types\n",
    "cat_df = df_states.select_dtypes(include=['object'])\n",
    "num_df = df_states.select_dtypes(exclude=['object'])\n",
    "def printColumnTypes(non_numeric_df, numeric_df):\n",
    "    '''separates non-numeric and numeric columns'''\n",
    "    print('Non-Numeric columns:')\n",
    "    for col in non_numeric_df:\n",
    "        print(f'{col}')\n",
    "    print('')\n",
    "    print('Numeric columns:')\n",
    "    for col in numeric_df:\n",
    "        print(f'{col}')\n",
    "printColumnTypes(cat_df, num_df)"
   ]
  },
  {
   "cell_type": "code",
   "execution_count": 8,
   "id": "6d2695e3",
   "metadata": {},
   "outputs": [
    {
     "data": {
      "text/html": [
       "<div>\n",
       "<style scoped>\n",
       "    .dataframe tbody tr th:only-of-type {\n",
       "        vertical-align: middle;\n",
       "    }\n",
       "\n",
       "    .dataframe tbody tr th {\n",
       "        vertical-align: top;\n",
       "    }\n",
       "\n",
       "    .dataframe thead th {\n",
       "        text-align: right;\n",
       "    }\n",
       "</style>\n",
       "<table border=\"1\" class=\"dataframe\">\n",
       "  <thead>\n",
       "    <tr style=\"text-align: right;\">\n",
       "      <th></th>\n",
       "      <th>Edition</th>\n",
       "      <th>Rank</th>\n",
       "      <th>Value</th>\n",
       "      <th>Score</th>\n",
       "      <th>Lower CI</th>\n",
       "      <th>Upper CI</th>\n",
       "      <th>Source Year</th>\n",
       "    </tr>\n",
       "  </thead>\n",
       "  <tbody>\n",
       "    <tr>\n",
       "      <th>count</th>\n",
       "      <td>156.00</td>\n",
       "      <td>152.00</td>\n",
       "      <td>156.00</td>\n",
       "      <td>152.00</td>\n",
       "      <td>156.00</td>\n",
       "      <td>156.00</td>\n",
       "      <td>52.0</td>\n",
       "    </tr>\n",
       "    <tr>\n",
       "      <th>mean</th>\n",
       "      <td>2020.00</td>\n",
       "      <td>25.35</td>\n",
       "      <td>16.74</td>\n",
       "      <td>0.45</td>\n",
       "      <td>18.23</td>\n",
       "      <td>15.26</td>\n",
       "      <td>2017.0</td>\n",
       "    </tr>\n",
       "    <tr>\n",
       "      <th>std</th>\n",
       "      <td>0.82</td>\n",
       "      <td>14.66</td>\n",
       "      <td>4.79</td>\n",
       "      <td>0.89</td>\n",
       "      <td>5.43</td>\n",
       "      <td>4.25</td>\n",
       "      <td>0.0</td>\n",
       "    </tr>\n",
       "    <tr>\n",
       "      <th>min</th>\n",
       "      <td>2019.00</td>\n",
       "      <td>0.00</td>\n",
       "      <td>6.50</td>\n",
       "      <td>-1.37</td>\n",
       "      <td>8.80</td>\n",
       "      <td>4.60</td>\n",
       "      <td>2017.0</td>\n",
       "    </tr>\n",
       "    <tr>\n",
       "      <th>25%</th>\n",
       "      <td>2019.00</td>\n",
       "      <td>12.75</td>\n",
       "      <td>14.20</td>\n",
       "      <td>-0.08</td>\n",
       "      <td>14.60</td>\n",
       "      <td>13.35</td>\n",
       "      <td>2017.0</td>\n",
       "    </tr>\n",
       "    <tr>\n",
       "      <th>50%</th>\n",
       "      <td>2020.00</td>\n",
       "      <td>25.00</td>\n",
       "      <td>16.15</td>\n",
       "      <td>0.42</td>\n",
       "      <td>17.55</td>\n",
       "      <td>14.95</td>\n",
       "      <td>2017.0</td>\n",
       "    </tr>\n",
       "    <tr>\n",
       "      <th>75%</th>\n",
       "      <td>2021.00</td>\n",
       "      <td>38.00</td>\n",
       "      <td>19.60</td>\n",
       "      <td>1.08</td>\n",
       "      <td>21.65</td>\n",
       "      <td>17.85</td>\n",
       "      <td>2017.0</td>\n",
       "    </tr>\n",
       "    <tr>\n",
       "      <th>max</th>\n",
       "      <td>2021.00</td>\n",
       "      <td>51.00</td>\n",
       "      <td>29.80</td>\n",
       "      <td>2.00</td>\n",
       "      <td>34.30</td>\n",
       "      <td>26.40</td>\n",
       "      <td>2017.0</td>\n",
       "    </tr>\n",
       "  </tbody>\n",
       "</table>\n",
       "</div>"
      ],
      "text/plain": [
       "       Edition    Rank   Value   Score  Lower CI  Upper CI  Source Year\n",
       "count   156.00  152.00  156.00  152.00    156.00    156.00         52.0\n",
       "mean   2020.00   25.35   16.74    0.45     18.23     15.26       2017.0\n",
       "std       0.82   14.66    4.79    0.89      5.43      4.25          0.0\n",
       "min    2019.00    0.00    6.50   -1.37      8.80      4.60       2017.0\n",
       "25%    2019.00   12.75   14.20   -0.08     14.60     13.35       2017.0\n",
       "50%    2020.00   25.00   16.15    0.42     17.55     14.95       2017.0\n",
       "75%    2021.00   38.00   19.60    1.08     21.65     17.85       2017.0\n",
       "max    2021.00   51.00   29.80    2.00     34.30     26.40       2017.0"
      ]
     },
     "execution_count": 8,
     "metadata": {},
     "output_type": "execute_result"
    }
   ],
   "source": [
    "#descriptive statistics\n",
    "round(df_states.describe(),2)"
   ]
  },
  {
   "cell_type": "code",
   "execution_count": 9,
   "id": "e0081286",
   "metadata": {},
   "outputs": [
    {
     "data": {
      "text/plain": [
       "Edition           0\n",
       "Report Type       0\n",
       "Measure Name      0\n",
       "State Name        0\n",
       "Rank              4\n",
       "Value             0\n",
       "Score             4\n",
       "Lower CI          0\n",
       "Upper CI          0\n",
       "Source            0\n",
       "Source Year     104\n",
       "dtype: int64"
      ]
     },
     "execution_count": 9,
     "metadata": {},
     "output_type": "execute_result"
    }
   ],
   "source": [
    "#find rows with null vaues\n",
    "df_states.isnull().sum()"
   ]
  },
  {
   "cell_type": "code",
   "execution_count": 10,
   "id": "4e1d9961",
   "metadata": {},
   "outputs": [
    {
     "data": {
      "text/plain": [
       "Rank            2.56\n",
       "Score           2.56\n",
       "Source Year    66.67\n",
       "dtype: float64"
      ]
     },
     "execution_count": 10,
     "metadata": {},
     "output_type": "execute_result"
    }
   ],
   "source": [
    "#percent of data that is missing per row\n",
    "total_rows= len(df_states)\n",
    "total_missing_rows = df_states.isnull().sum()\n",
    "percent_missing_per_row = round((total_missing_rows/total_rows)* 100,2)\n",
    "percent_missing_per_row[percent_missing_per_row > 0]"
   ]
  },
  {
   "cell_type": "code",
   "execution_count": 11,
   "id": "7b35a922",
   "metadata": {},
   "outputs": [],
   "source": [
    "# drop columns due to lack of data\n",
    "df_states.drop(columns=['Source Year'],inplace=True)"
   ]
  },
  {
   "cell_type": "code",
   "execution_count": 12,
   "id": "bf66754e",
   "metadata": {},
   "outputs": [
    {
     "name": "stdout",
     "output_type": "stream",
     "text": [
      "<class 'pandas.core.frame.DataFrame'>\n",
      "Int64Index: 156 entries, 0 to 51\n",
      "Data columns (total 10 columns):\n",
      " #   Column        Non-Null Count  Dtype  \n",
      "---  ------        --------------  -----  \n",
      " 0   Edition       156 non-null    int64  \n",
      " 1   Report Type   156 non-null    object \n",
      " 2   Measure Name  156 non-null    object \n",
      " 3   State Name    156 non-null    object \n",
      " 4   Rank          152 non-null    float64\n",
      " 5   Value         156 non-null    float64\n",
      " 6   Score         152 non-null    float64\n",
      " 7   Lower CI      156 non-null    float64\n",
      " 8   Upper CI      156 non-null    float64\n",
      " 9   Source        156 non-null    object \n",
      "dtypes: float64(5), int64(1), object(4)\n",
      "memory usage: 13.4+ KB\n"
     ]
    }
   ],
   "source": [
    "#recheck dataframe\n",
    "df_states.info()"
   ]
  },
  {
   "cell_type": "code",
   "execution_count": 13,
   "id": "1ec00a35",
   "metadata": {},
   "outputs": [
    {
     "data": {
      "text/html": [
       "<div>\n",
       "<style scoped>\n",
       "    .dataframe tbody tr th:only-of-type {\n",
       "        vertical-align: middle;\n",
       "    }\n",
       "\n",
       "    .dataframe tbody tr th {\n",
       "        vertical-align: top;\n",
       "    }\n",
       "\n",
       "    .dataframe thead th {\n",
       "        text-align: right;\n",
       "    }\n",
       "</style>\n",
       "<table border=\"1\" class=\"dataframe\">\n",
       "  <thead>\n",
       "    <tr style=\"text-align: right;\">\n",
       "      <th></th>\n",
       "      <th>index</th>\n",
       "      <th>Edition</th>\n",
       "      <th>Report Type</th>\n",
       "      <th>Measure Name</th>\n",
       "      <th>State Name</th>\n",
       "      <th>Rank</th>\n",
       "      <th>Value</th>\n",
       "      <th>Score</th>\n",
       "      <th>Lower CI</th>\n",
       "      <th>Upper CI</th>\n",
       "      <th>Source</th>\n",
       "    </tr>\n",
       "  </thead>\n",
       "  <tbody>\n",
       "    <tr>\n",
       "      <th>0</th>\n",
       "      <td>50</td>\n",
       "      <td>2020</td>\n",
       "      <td>2020 Annual</td>\n",
       "      <td>Suicide</td>\n",
       "      <td>United States</td>\n",
       "      <td>NaN</td>\n",
       "      <td>14.8</td>\n",
       "      <td>NaN</td>\n",
       "      <td>14.9</td>\n",
       "      <td>14.7</td>\n",
       "      <td>AHR data</td>\n",
       "    </tr>\n",
       "    <tr>\n",
       "      <th>1</th>\n",
       "      <td>51</td>\n",
       "      <td>2020</td>\n",
       "      <td>2020 Annual</td>\n",
       "      <td>Suicide</td>\n",
       "      <td>District of Columbia</td>\n",
       "      <td>NaN</td>\n",
       "      <td>7.8</td>\n",
       "      <td>NaN</td>\n",
       "      <td>10.3</td>\n",
       "      <td>5.8</td>\n",
       "      <td>AHR data</td>\n",
       "    </tr>\n",
       "    <tr>\n",
       "      <th>2</th>\n",
       "      <td>50</td>\n",
       "      <td>2021</td>\n",
       "      <td>2021 Annual</td>\n",
       "      <td>Suicide</td>\n",
       "      <td>United States</td>\n",
       "      <td>NaN</td>\n",
       "      <td>14.5</td>\n",
       "      <td>NaN</td>\n",
       "      <td>14.6</td>\n",
       "      <td>14.3</td>\n",
       "      <td>AHR data</td>\n",
       "    </tr>\n",
       "    <tr>\n",
       "      <th>3</th>\n",
       "      <td>51</td>\n",
       "      <td>2021</td>\n",
       "      <td>2021 Annual</td>\n",
       "      <td>Suicide</td>\n",
       "      <td>District of Columbia</td>\n",
       "      <td>NaN</td>\n",
       "      <td>6.5</td>\n",
       "      <td>NaN</td>\n",
       "      <td>8.8</td>\n",
       "      <td>4.6</td>\n",
       "      <td>AHR data</td>\n",
       "    </tr>\n",
       "  </tbody>\n",
       "</table>\n",
       "</div>"
      ],
      "text/plain": [
       "   index  Edition  Report Type Measure Name            State Name  Rank  \\\n",
       "0     50     2020  2020 Annual      Suicide         United States   NaN   \n",
       "1     51     2020  2020 Annual      Suicide  District of Columbia   NaN   \n",
       "2     50     2021  2021 Annual      Suicide         United States   NaN   \n",
       "3     51     2021  2021 Annual      Suicide  District of Columbia   NaN   \n",
       "\n",
       "   Value  Score  Lower CI  Upper CI    Source  \n",
       "0   14.8    NaN      14.9      14.7  AHR data  \n",
       "1    7.8    NaN      10.3       5.8  AHR data  \n",
       "2   14.5    NaN      14.6      14.3  AHR data  \n",
       "3    6.5    NaN       8.8       4.6  AHR data  "
      ]
     },
     "execution_count": 13,
     "metadata": {},
     "output_type": "execute_result"
    }
   ],
   "source": [
    "#inspect rows with null values\n",
    "df_nan = df_states[df_states['Rank'].isnull()==True]\n",
    "df_nan.reset_index()"
   ]
  },
  {
   "cell_type": "code",
   "execution_count": 14,
   "id": "a802d836",
   "metadata": {},
   "outputs": [],
   "source": [
    "#replace missing values with 0\n",
    "df_states.fillna(0,inplace=True)"
   ]
  },
  {
   "cell_type": "code",
   "execution_count": 15,
   "id": "6d925db4",
   "metadata": {},
   "outputs": [
    {
     "data": {
      "text/plain": [
       "Edition         0\n",
       "Report Type     0\n",
       "Measure Name    0\n",
       "State Name      0\n",
       "Rank            0\n",
       "Value           0\n",
       "Score           0\n",
       "Lower CI        0\n",
       "Upper CI        0\n",
       "Source          0\n",
       "dtype: int64"
      ]
     },
     "execution_count": 15,
     "metadata": {},
     "output_type": "execute_result"
    }
   ],
   "source": [
    "#recheck null values\n",
    "df_states.isnull().sum()"
   ]
  },
  {
   "cell_type": "code",
   "execution_count": 16,
   "id": "fe01d61e",
   "metadata": {},
   "outputs": [
    {
     "data": {
      "text/plain": [
       "array(['2019 Annual', '2020 Annual', '2021 Annual'], dtype=object)"
      ]
     },
     "execution_count": 16,
     "metadata": {},
     "output_type": "execute_result"
    }
   ],
   "source": [
    "# get all the unique values in a column\n",
    "unique_column= df_states['Report Type'].unique()\n",
    "unique_column"
   ]
  },
  {
   "cell_type": "code",
   "execution_count": 17,
   "id": "987d1224",
   "metadata": {},
   "outputs": [
    {
     "data": {
      "text/plain": [
       "array(['Suicide'], dtype=object)"
      ]
     },
     "execution_count": 17,
     "metadata": {},
     "output_type": "execute_result"
    }
   ],
   "source": [
    "# get all the unique values in a column\n",
    "Measure_Name_unique_column= df_states['Measure Name'].unique()\n",
    "Measure_Name_unique_column"
   ]
  },
  {
   "cell_type": "code",
   "execution_count": 18,
   "id": "0ca3383e",
   "metadata": {},
   "outputs": [
    {
     "data": {
      "text/plain": [
       "array(['New York', 'New Jersey', 'Massachusetts', 'Maryland',\n",
       "       'Connecticut', 'California', 'Illinois', 'Delaware',\n",
       "       'Rhode Island', 'Texas', 'Virginia', 'Georgia', 'Minnesota',\n",
       "       'Michigan', 'Florida', 'Nebraska', 'North Carolina', 'Ohio',\n",
       "       'Mississippi', 'Iowa', 'Pennsylvania', 'Louisiana', 'Hawaii',\n",
       "       'Wisconsin', 'Indiana', 'South Carolina', 'Alabama', 'Kentucky',\n",
       "       'Tennessee', 'Washington', 'Vermont', 'Missouri', 'Arizona',\n",
       "       'New Hampshire', 'Kansas', 'Maine', 'Oklahoma', 'Oregon',\n",
       "       'North Dakota', 'Colorado', 'Nevada', 'Arkansas', 'West Virginia',\n",
       "       'South Dakota', 'Utah', 'Idaho', 'New Mexico', 'Alaska', 'Wyoming',\n",
       "       'Montana', 'United States', 'District of Columbia'], dtype=object)"
      ]
     },
     "execution_count": 18,
     "metadata": {},
     "output_type": "execute_result"
    }
   ],
   "source": [
    "# get all the unique values in a column\n",
    "State_Name_unique_column= df_states['State Name'].unique()\n",
    "State_Name_unique_column"
   ]
  },
  {
   "cell_type": "code",
   "execution_count": 19,
   "id": "4299eb30",
   "metadata": {},
   "outputs": [
    {
     "data": {
      "text/plain": [
       "Alabama                 3\n",
       "Alaska                  3\n",
       "Arizona                 3\n",
       "Arkansas                3\n",
       "California              3\n",
       "Colorado                3\n",
       "Connecticut             3\n",
       "Delaware                3\n",
       "District of Columbia    3\n",
       "Florida                 3\n",
       "Georgia                 3\n",
       "Hawaii                  3\n",
       "Idaho                   3\n",
       "Illinois                3\n",
       "Indiana                 3\n",
       "Iowa                    3\n",
       "Kansas                  3\n",
       "Kentucky                3\n",
       "Louisiana               3\n",
       "Maine                   3\n",
       "Maryland                3\n",
       "Massachusetts           3\n",
       "Michigan                3\n",
       "Minnesota               3\n",
       "Mississippi             3\n",
       "Missouri                3\n",
       "Montana                 3\n",
       "Nebraska                3\n",
       "Nevada                  3\n",
       "New Hampshire           3\n",
       "New Jersey              3\n",
       "New Mexico              3\n",
       "New York                3\n",
       "North Carolina          3\n",
       "North Dakota            3\n",
       "Ohio                    3\n",
       "Oklahoma                3\n",
       "Oregon                  3\n",
       "Pennsylvania            3\n",
       "Rhode Island            3\n",
       "South Carolina          3\n",
       "South Dakota            3\n",
       "Tennessee               3\n",
       "Texas                   3\n",
       "United States           3\n",
       "Utah                    3\n",
       "Vermont                 3\n",
       "Virginia                3\n",
       "Washington              3\n",
       "West Virginia           3\n",
       "Wisconsin               3\n",
       "Wyoming                 3\n",
       "Name: State Name, dtype: int64"
      ]
     },
     "execution_count": 19,
     "metadata": {},
     "output_type": "execute_result"
    }
   ],
   "source": [
    "#get value count for unique values\n",
    "df_states['State Name'].value_counts().sort_index(ascending=True)"
   ]
  },
  {
   "cell_type": "code",
   "execution_count": 20,
   "id": "046ed81e",
   "metadata": {},
   "outputs": [],
   "source": [
    "#create a function to find outliers using IQR\n",
    "def find_outliers_IQR(df_states):\n",
    "    q1=df_states.quantile(0.25)\n",
    "    q3=df_states.quantile(0.75)\n",
    "    IQR=q3-q1\n",
    "    outliers = df_states[((df_states<(q1-1.5*IQR)) | (df_states>(q3+1.5*IQR)))]\n",
    "    return outliers"
   ]
  },
  {
   "cell_type": "code",
   "execution_count": 21,
   "id": "2ef83f0c",
   "metadata": {},
   "outputs": [
    {
     "name": "stdout",
     "output_type": "stream",
     "text": [
      "number of outliers: 3\n",
      "max outlier value: 29.8\n",
      "min outlier value: 28.6\n"
     ]
    },
    {
     "data": {
      "text/plain": [
       "49    29.7\n",
       "1     28.6\n",
       "49    29.8\n",
       "Name: Value, dtype: float64"
      ]
     },
     "execution_count": 21,
     "metadata": {},
     "output_type": "execute_result"
    }
   ],
   "source": [
    "#check column for outliers\n",
    "outliers = find_outliers_IQR(df_states['Value'])\n",
    "print('number of outliers: '+ str(len(outliers)))\n",
    "print('max outlier value: '+ str(outliers.max()))\n",
    "print('min outlier value: '+ str(outliers.min()))\n",
    "outliers"
   ]
  },
  {
   "cell_type": "code",
   "execution_count": 22,
   "id": "a60e744e",
   "metadata": {},
   "outputs": [
    {
     "name": "stdout",
     "output_type": "stream",
     "text": [
      "number of outliers: 3\n",
      "max outlier value: 34.3\n",
      "min outlier value: 32.6\n"
     ]
    },
    {
     "data": {
      "text/plain": [
       "49    33.0\n",
       "1     32.6\n",
       "49    34.3\n",
       "Name: Lower CI, dtype: float64"
      ]
     },
     "execution_count": 22,
     "metadata": {},
     "output_type": "execute_result"
    }
   ],
   "source": [
    "#check column for outliers\n",
    "outliers = find_outliers_IQR(df_states['Lower CI'])\n",
    "print('number of outliers: '+ str(len(outliers)))\n",
    "print('max outlier value: '+ str(outliers.max()))\n",
    "print('min outlier value: '+ str(outliers.min()))\n",
    "outliers"
   ]
  },
  {
   "cell_type": "code",
   "execution_count": 23,
   "id": "a3b713f0",
   "metadata": {},
   "outputs": [
    {
     "name": "stdout",
     "output_type": "stream",
     "text": [
      "number of outliers: 6\n",
      "max outlier value: 26.4\n",
      "min outlier value: 4.6\n"
     ]
    },
    {
     "data": {
      "text/plain": [
       "49    26.4\n",
       "51     4.9\n",
       "51     5.8\n",
       "1     24.7\n",
       "49    25.3\n",
       "51     4.6\n",
       "Name: Upper CI, dtype: float64"
      ]
     },
     "execution_count": 23,
     "metadata": {},
     "output_type": "execute_result"
    }
   ],
   "source": [
    "#check column for outliers\n",
    "outliers = find_outliers_IQR(df_states['Upper CI'])\n",
    "print('number of outliers: '+ str(len(outliers)))\n",
    "print('max outlier value: '+ str(outliers.max()))\n",
    "print('min outlier value: '+ str(outliers.min()))\n",
    "outliers"
   ]
  },
  {
   "cell_type": "markdown",
   "id": "87e5d8c6",
   "metadata": {},
   "source": [
    "## Create Dataframe Report"
   ]
  },
  {
   "cell_type": "code",
   "execution_count": 24,
   "id": "0c243fdb",
   "metadata": {},
   "outputs": [
    {
     "data": {
      "application/vnd.jupyter.widget-view+json": {
       "model_id": "c31c3af3a1af448c9c2c1dc43f72823d",
       "version_major": 2,
       "version_minor": 0
      },
      "text/plain": [
       "                                             |          | [  0%]   00:00 -> (? left)"
      ]
     },
     "metadata": {},
     "output_type": "display_data"
    },
    {
     "name": "stdout",
     "output_type": "stream",
     "text": [
      "Report State Suicides 2019-2021.html was generated! NOTEBOOK/COLAB USERS: the web browser MAY not pop up, regardless, the report IS saved in your notebook/colab files.\n"
     ]
    }
   ],
   "source": [
    "#use sweetviz to generate dataframe report\n",
    "my_report = sv.analyze(df_states)\n",
    "my_report.show_html('State Suicides 2019-2021.html')"
   ]
  },
  {
   "cell_type": "markdown",
   "id": "9a584a75",
   "metadata": {},
   "source": [
    "## Export Dataframe"
   ]
  },
  {
   "cell_type": "code",
   "execution_count": null,
   "id": "af74f6c0",
   "metadata": {},
   "outputs": [],
   "source": [
    "#export using pickle\n",
    "df_states.to_pickle(r'C:\\Users\\drmat\\OneDrive\\Documents\\Career Foundry\\COVID_Suicide\\02 Data\\02 Prepared\\state_suicides.pkl')"
   ]
  },
  {
   "cell_type": "code",
   "execution_count": null,
   "id": "e23b884b",
   "metadata": {},
   "outputs": [],
   "source": []
  }
 ],
 "metadata": {
  "kernelspec": {
   "display_name": "Python 3 (ipykernel)",
   "language": "python",
   "name": "python3"
  },
  "language_info": {
   "codemirror_mode": {
    "name": "ipython",
    "version": 3
   },
   "file_extension": ".py",
   "mimetype": "text/x-python",
   "name": "python",
   "nbconvert_exporter": "python",
   "pygments_lexer": "ipython3",
   "version": "3.9.12"
  }
 },
 "nbformat": 4,
 "nbformat_minor": 5
}

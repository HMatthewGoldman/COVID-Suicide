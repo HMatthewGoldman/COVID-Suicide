{
 "cells": [
  {
   "cell_type": "markdown",
   "id": "1456e9e2",
   "metadata": {},
   "source": [
    "## Import Libraries"
   ]
  },
  {
   "cell_type": "code",
   "execution_count": 42,
   "id": "8cddb081",
   "metadata": {},
   "outputs": [],
   "source": [
    "import pandas as pd\n",
    "import sweetviz as sv\n",
    "import numpy as np\n",
    "import os\n",
    "import matplotlib.pyplot as plt\n",
    "import seaborn as sns\n",
    "import scipy\n",
    "import chardet\n",
    "import datetime as dt"
   ]
  },
  {
   "cell_type": "markdown",
   "id": "11fad263",
   "metadata": {},
   "source": [
    "## Import Data"
   ]
  },
  {
   "cell_type": "code",
   "execution_count": 43,
   "id": "d41f0516",
   "metadata": {},
   "outputs": [],
   "source": [
    "df1=pd.read_excel(r\"C:\\Users\\drmat\\OneDrive\\Documents\\Career Foundry\\COVID_Suicide\\02 Data\\01 Raw\\Suicide\\2019-Public Health Impact Suicide.xlsx\", sheet_name='Age Groups', index_col=False)"
   ]
  },
  {
   "cell_type": "code",
   "execution_count": 44,
   "id": "bb161d08",
   "metadata": {},
   "outputs": [],
   "source": [
    "df2=pd.read_excel(r\"C:\\Users\\drmat\\OneDrive\\Documents\\Career Foundry\\COVID_Suicide\\02 Data\\01 Raw\\Suicide\\2020-Public Health Impact Suicide.xlsx\", sheet_name='Age Groups', index_col=False)"
   ]
  },
  {
   "cell_type": "code",
   "execution_count": 45,
   "id": "26b6ef1e",
   "metadata": {},
   "outputs": [],
   "source": [
    "df3=pd.read_excel(r\"C:\\Users\\drmat\\OneDrive\\Documents\\Career Foundry\\COVID_Suicide\\02 Data\\01 Raw\\Suicide\\2021-Public Health Impact Suicide.xlsx\", sheet_name='Age Groups', index_col=False)"
   ]
  },
  {
   "cell_type": "markdown",
   "id": "7d6c5b00",
   "metadata": {},
   "source": [
    "## Merge Dataframes"
   ]
  },
  {
   "cell_type": "code",
   "execution_count": 46,
   "id": "94bd629c",
   "metadata": {},
   "outputs": [
    {
     "data": {
      "text/html": [
       "<div>\n",
       "<style scoped>\n",
       "    .dataframe tbody tr th:only-of-type {\n",
       "        vertical-align: middle;\n",
       "    }\n",
       "\n",
       "    .dataframe tbody tr th {\n",
       "        vertical-align: top;\n",
       "    }\n",
       "\n",
       "    .dataframe thead th {\n",
       "        text-align: right;\n",
       "    }\n",
       "</style>\n",
       "<table border=\"1\" class=\"dataframe\">\n",
       "  <thead>\n",
       "    <tr style=\"text-align: right;\">\n",
       "      <th></th>\n",
       "      <th>index</th>\n",
       "      <th>Edition</th>\n",
       "      <th>Report Type</th>\n",
       "      <th>Measure Name</th>\n",
       "      <th>State Name</th>\n",
       "      <th>Rank</th>\n",
       "      <th>Value</th>\n",
       "      <th>Score</th>\n",
       "      <th>Lower CI</th>\n",
       "      <th>Upper CI</th>\n",
       "      <th>Source</th>\n",
       "      <th>Source Year</th>\n",
       "    </tr>\n",
       "  </thead>\n",
       "  <tbody>\n",
       "    <tr>\n",
       "      <th>0</th>\n",
       "      <td>0</td>\n",
       "      <td>2019</td>\n",
       "      <td>2019 Annual</td>\n",
       "      <td>15-24</td>\n",
       "      <td>Alabama</td>\n",
       "      <td>NaN</td>\n",
       "      <td>14.3</td>\n",
       "      <td>NaN</td>\n",
       "      <td>17.6</td>\n",
       "      <td>11.6</td>\n",
       "      <td>CDC WONDER, Multiple Cause of Death Files</td>\n",
       "      <td>2017.0</td>\n",
       "    </tr>\n",
       "    <tr>\n",
       "      <th>1</th>\n",
       "      <td>1</td>\n",
       "      <td>2019</td>\n",
       "      <td>2019 Annual</td>\n",
       "      <td>25-34</td>\n",
       "      <td>Alabama</td>\n",
       "      <td>NaN</td>\n",
       "      <td>19.4</td>\n",
       "      <td>NaN</td>\n",
       "      <td>22.8</td>\n",
       "      <td>16.0</td>\n",
       "      <td>CDC WONDER, Multiple Cause of Death Files</td>\n",
       "      <td>2017.0</td>\n",
       "    </tr>\n",
       "    <tr>\n",
       "      <th>2</th>\n",
       "      <td>2</td>\n",
       "      <td>2019</td>\n",
       "      <td>2019 Annual</td>\n",
       "      <td>35-44</td>\n",
       "      <td>Alabama</td>\n",
       "      <td>NaN</td>\n",
       "      <td>25.0</td>\n",
       "      <td>NaN</td>\n",
       "      <td>29.0</td>\n",
       "      <td>21.0</td>\n",
       "      <td>CDC WONDER, Multiple Cause of Death Files</td>\n",
       "      <td>2017.0</td>\n",
       "    </tr>\n",
       "    <tr>\n",
       "      <th>3</th>\n",
       "      <td>3</td>\n",
       "      <td>2019</td>\n",
       "      <td>2019 Annual</td>\n",
       "      <td>45-54</td>\n",
       "      <td>Alabama</td>\n",
       "      <td>23.0</td>\n",
       "      <td>22.9</td>\n",
       "      <td>0.4</td>\n",
       "      <td>26.7</td>\n",
       "      <td>19.2</td>\n",
       "      <td>CDC WONDER, Multiple Cause of Death Files</td>\n",
       "      <td>2017.0</td>\n",
       "    </tr>\n",
       "    <tr>\n",
       "      <th>4</th>\n",
       "      <td>4</td>\n",
       "      <td>2019</td>\n",
       "      <td>2019 Annual</td>\n",
       "      <td>55-64</td>\n",
       "      <td>Alabama</td>\n",
       "      <td>NaN</td>\n",
       "      <td>23.1</td>\n",
       "      <td>NaN</td>\n",
       "      <td>26.7</td>\n",
       "      <td>19.4</td>\n",
       "      <td>CDC WONDER, Multiple Cause of Death Files</td>\n",
       "      <td>2017.0</td>\n",
       "    </tr>\n",
       "    <tr>\n",
       "      <th>...</th>\n",
       "      <td>...</td>\n",
       "      <td>...</td>\n",
       "      <td>...</td>\n",
       "      <td>...</td>\n",
       "      <td>...</td>\n",
       "      <td>...</td>\n",
       "      <td>...</td>\n",
       "      <td>...</td>\n",
       "      <td>...</td>\n",
       "      <td>...</td>\n",
       "      <td>...</td>\n",
       "      <td>...</td>\n",
       "    </tr>\n",
       "    <tr>\n",
       "      <th>1242</th>\n",
       "      <td>410</td>\n",
       "      <td>2021</td>\n",
       "      <td>2021 Annual</td>\n",
       "      <td>85+</td>\n",
       "      <td>West Virginia</td>\n",
       "      <td>NaN</td>\n",
       "      <td>NaN</td>\n",
       "      <td>NaN</td>\n",
       "      <td>NaN</td>\n",
       "      <td>NaN</td>\n",
       "      <td>AHR data</td>\n",
       "      <td>NaN</td>\n",
       "    </tr>\n",
       "    <tr>\n",
       "      <th>1243</th>\n",
       "      <td>411</td>\n",
       "      <td>2021</td>\n",
       "      <td>2021 Annual</td>\n",
       "      <td>85+</td>\n",
       "      <td>Wisconsin</td>\n",
       "      <td>NaN</td>\n",
       "      <td>16.4</td>\n",
       "      <td>NaN</td>\n",
       "      <td>25.0</td>\n",
       "      <td>10.1</td>\n",
       "      <td>AHR data</td>\n",
       "      <td>NaN</td>\n",
       "    </tr>\n",
       "    <tr>\n",
       "      <th>1244</th>\n",
       "      <td>412</td>\n",
       "      <td>2021</td>\n",
       "      <td>2021 Annual</td>\n",
       "      <td>85+</td>\n",
       "      <td>Wyoming</td>\n",
       "      <td>NaN</td>\n",
       "      <td>NaN</td>\n",
       "      <td>NaN</td>\n",
       "      <td>NaN</td>\n",
       "      <td>NaN</td>\n",
       "      <td>AHR data</td>\n",
       "      <td>NaN</td>\n",
       "    </tr>\n",
       "    <tr>\n",
       "      <th>1245</th>\n",
       "      <td>413</td>\n",
       "      <td>2021</td>\n",
       "      <td>2021 Annual</td>\n",
       "      <td>85+</td>\n",
       "      <td>United States</td>\n",
       "      <td>NaN</td>\n",
       "      <td>20.1</td>\n",
       "      <td>NaN</td>\n",
       "      <td>21.2</td>\n",
       "      <td>19.0</td>\n",
       "      <td>AHR data</td>\n",
       "      <td>NaN</td>\n",
       "    </tr>\n",
       "    <tr>\n",
       "      <th>1246</th>\n",
       "      <td>414</td>\n",
       "      <td>2021</td>\n",
       "      <td>2021 Annual</td>\n",
       "      <td>85+</td>\n",
       "      <td>District of Columbia</td>\n",
       "      <td>NaN</td>\n",
       "      <td>NaN</td>\n",
       "      <td>NaN</td>\n",
       "      <td>NaN</td>\n",
       "      <td>NaN</td>\n",
       "      <td>AHR data</td>\n",
       "      <td>NaN</td>\n",
       "    </tr>\n",
       "  </tbody>\n",
       "</table>\n",
       "<p>1247 rows × 12 columns</p>\n",
       "</div>"
      ],
      "text/plain": [
       "      index  Edition  Report Type Measure Name            State Name  Rank  \\\n",
       "0         0     2019  2019 Annual        15-24               Alabama   NaN   \n",
       "1         1     2019  2019 Annual        25-34               Alabama   NaN   \n",
       "2         2     2019  2019 Annual        35-44               Alabama   NaN   \n",
       "3         3     2019  2019 Annual        45-54               Alabama  23.0   \n",
       "4         4     2019  2019 Annual        55-64               Alabama   NaN   \n",
       "...     ...      ...          ...          ...                   ...   ...   \n",
       "1242    410     2021  2021 Annual          85+         West Virginia   NaN   \n",
       "1243    411     2021  2021 Annual          85+             Wisconsin   NaN   \n",
       "1244    412     2021  2021 Annual          85+               Wyoming   NaN   \n",
       "1245    413     2021  2021 Annual          85+         United States   NaN   \n",
       "1246    414     2021  2021 Annual          85+  District of Columbia   NaN   \n",
       "\n",
       "      Value  Score  Lower CI  Upper CI  \\\n",
       "0      14.3    NaN      17.6      11.6   \n",
       "1      19.4    NaN      22.8      16.0   \n",
       "2      25.0    NaN      29.0      21.0   \n",
       "3      22.9    0.4      26.7      19.2   \n",
       "4      23.1    NaN      26.7      19.4   \n",
       "...     ...    ...       ...       ...   \n",
       "1242    NaN    NaN       NaN       NaN   \n",
       "1243   16.4    NaN      25.0      10.1   \n",
       "1244    NaN    NaN       NaN       NaN   \n",
       "1245   20.1    NaN      21.2      19.0   \n",
       "1246    NaN    NaN       NaN       NaN   \n",
       "\n",
       "                                         Source  Source Year  \n",
       "0     CDC WONDER, Multiple Cause of Death Files       2017.0  \n",
       "1     CDC WONDER, Multiple Cause of Death Files       2017.0  \n",
       "2     CDC WONDER, Multiple Cause of Death Files       2017.0  \n",
       "3     CDC WONDER, Multiple Cause of Death Files       2017.0  \n",
       "4     CDC WONDER, Multiple Cause of Death Files       2017.0  \n",
       "...                                         ...          ...  \n",
       "1242                                   AHR data          NaN  \n",
       "1243                                   AHR data          NaN  \n",
       "1244                                   AHR data          NaN  \n",
       "1245                                   AHR data          NaN  \n",
       "1246                                   AHR data          NaN  \n",
       "\n",
       "[1247 rows x 12 columns]"
      ]
     },
     "execution_count": 46,
     "metadata": {},
     "output_type": "execute_result"
    }
   ],
   "source": [
    "# use concat to merge all 3 dataframes\n",
    "age_frames=[df1,df2,df3]\n",
    "df=pd.concat(age_frames, axis=0)\n",
    "df.reset_index()"
   ]
  },
  {
   "cell_type": "markdown",
   "id": "d37f7ad4",
   "metadata": {},
   "source": [
    "## Inspect Dataframe"
   ]
  },
  {
   "cell_type": "code",
   "execution_count": 47,
   "id": "1ce709da",
   "metadata": {},
   "outputs": [
    {
     "name": "stdout",
     "output_type": "stream",
     "text": [
      "<class 'pandas.core.frame.DataFrame'>\n",
      "Int64Index: 1247 entries, 0 to 414\n",
      "Data columns (total 11 columns):\n",
      " #   Column        Non-Null Count  Dtype  \n",
      "---  ------        --------------  -----  \n",
      " 0   Edition       1247 non-null   int64  \n",
      " 1   Report Type   1247 non-null   object \n",
      " 2   Measure Name  1247 non-null   object \n",
      " 3   State Name    1247 non-null   object \n",
      " 4   Rank          100 non-null    float64\n",
      " 5   Value         1059 non-null   float64\n",
      " 6   Score         100 non-null    float64\n",
      " 7   Lower CI      1152 non-null   float64\n",
      " 8   Upper CI      1152 non-null   float64\n",
      " 9   Source        1247 non-null   object \n",
      " 10  Source Year   416 non-null    float64\n",
      "dtypes: float64(6), int64(1), object(4)\n",
      "memory usage: 116.9+ KB\n"
     ]
    }
   ],
   "source": [
    "df.info()"
   ]
  },
  {
   "cell_type": "markdown",
   "id": "5f5add67",
   "metadata": {},
   "source": [
    "## Clean Dataframe"
   ]
  },
  {
   "cell_type": "code",
   "execution_count": 48,
   "id": "b0ca1d5b",
   "metadata": {},
   "outputs": [],
   "source": [
    "#Drop/remove irrelevant column(s)  \n",
    "df.drop(columns = ['Report Type','Rank','Score','Lower CI','Upper CI','Source','Source Year'],inplace=True)"
   ]
  },
  {
   "cell_type": "code",
   "execution_count": 49,
   "id": "be998c10",
   "metadata": {},
   "outputs": [
    {
     "data": {
      "text/html": [
       "<div>\n",
       "<style scoped>\n",
       "    .dataframe tbody tr th:only-of-type {\n",
       "        vertical-align: middle;\n",
       "    }\n",
       "\n",
       "    .dataframe tbody tr th {\n",
       "        vertical-align: top;\n",
       "    }\n",
       "\n",
       "    .dataframe thead th {\n",
       "        text-align: right;\n",
       "    }\n",
       "</style>\n",
       "<table border=\"1\" class=\"dataframe\">\n",
       "  <thead>\n",
       "    <tr style=\"text-align: right;\">\n",
       "      <th></th>\n",
       "      <th>Edition</th>\n",
       "      <th>Measure Name</th>\n",
       "      <th>State Name</th>\n",
       "      <th>Value</th>\n",
       "    </tr>\n",
       "  </thead>\n",
       "  <tbody>\n",
       "    <tr>\n",
       "      <th>0</th>\n",
       "      <td>2019</td>\n",
       "      <td>15-24</td>\n",
       "      <td>Alabama</td>\n",
       "      <td>14.3</td>\n",
       "    </tr>\n",
       "    <tr>\n",
       "      <th>1</th>\n",
       "      <td>2019</td>\n",
       "      <td>25-34</td>\n",
       "      <td>Alabama</td>\n",
       "      <td>19.4</td>\n",
       "    </tr>\n",
       "    <tr>\n",
       "      <th>2</th>\n",
       "      <td>2019</td>\n",
       "      <td>35-44</td>\n",
       "      <td>Alabama</td>\n",
       "      <td>25.0</td>\n",
       "    </tr>\n",
       "    <tr>\n",
       "      <th>3</th>\n",
       "      <td>2019</td>\n",
       "      <td>45-54</td>\n",
       "      <td>Alabama</td>\n",
       "      <td>22.9</td>\n",
       "    </tr>\n",
       "    <tr>\n",
       "      <th>4</th>\n",
       "      <td>2019</td>\n",
       "      <td>55-64</td>\n",
       "      <td>Alabama</td>\n",
       "      <td>23.1</td>\n",
       "    </tr>\n",
       "  </tbody>\n",
       "</table>\n",
       "</div>"
      ],
      "text/plain": [
       "   Edition Measure Name State Name  Value\n",
       "0     2019        15-24    Alabama   14.3\n",
       "1     2019        25-34    Alabama   19.4\n",
       "2     2019        35-44    Alabama   25.0\n",
       "3     2019        45-54    Alabama   22.9\n",
       "4     2019        55-64    Alabama   23.1"
      ]
     },
     "execution_count": 49,
     "metadata": {},
     "output_type": "execute_result"
    }
   ],
   "source": [
    "df.head()"
   ]
  },
  {
   "cell_type": "code",
   "execution_count": 50,
   "id": "0e49711b",
   "metadata": {},
   "outputs": [],
   "source": [
    "# rename columns to match other dataframes\n",
    "df.rename(columns={df.columns[0]:'year',df.columns[1]:'age_group',df.columns[2]:'state',df.columns[3]:'suicide_deaths'},inplace=True)"
   ]
  },
  {
   "cell_type": "code",
   "execution_count": 51,
   "id": "cf936e28",
   "metadata": {},
   "outputs": [
    {
     "data": {
      "text/html": [
       "<div>\n",
       "<style scoped>\n",
       "    .dataframe tbody tr th:only-of-type {\n",
       "        vertical-align: middle;\n",
       "    }\n",
       "\n",
       "    .dataframe tbody tr th {\n",
       "        vertical-align: top;\n",
       "    }\n",
       "\n",
       "    .dataframe thead th {\n",
       "        text-align: right;\n",
       "    }\n",
       "</style>\n",
       "<table border=\"1\" class=\"dataframe\">\n",
       "  <thead>\n",
       "    <tr style=\"text-align: right;\">\n",
       "      <th></th>\n",
       "      <th>year</th>\n",
       "      <th>age_group</th>\n",
       "      <th>state</th>\n",
       "      <th>suicide_deaths</th>\n",
       "    </tr>\n",
       "  </thead>\n",
       "  <tbody>\n",
       "    <tr>\n",
       "      <th>0</th>\n",
       "      <td>2019</td>\n",
       "      <td>15-24</td>\n",
       "      <td>Alabama</td>\n",
       "      <td>14.3</td>\n",
       "    </tr>\n",
       "    <tr>\n",
       "      <th>1</th>\n",
       "      <td>2019</td>\n",
       "      <td>25-34</td>\n",
       "      <td>Alabama</td>\n",
       "      <td>19.4</td>\n",
       "    </tr>\n",
       "    <tr>\n",
       "      <th>2</th>\n",
       "      <td>2019</td>\n",
       "      <td>35-44</td>\n",
       "      <td>Alabama</td>\n",
       "      <td>25.0</td>\n",
       "    </tr>\n",
       "    <tr>\n",
       "      <th>3</th>\n",
       "      <td>2019</td>\n",
       "      <td>45-54</td>\n",
       "      <td>Alabama</td>\n",
       "      <td>22.9</td>\n",
       "    </tr>\n",
       "    <tr>\n",
       "      <th>4</th>\n",
       "      <td>2019</td>\n",
       "      <td>55-64</td>\n",
       "      <td>Alabama</td>\n",
       "      <td>23.1</td>\n",
       "    </tr>\n",
       "  </tbody>\n",
       "</table>\n",
       "</div>"
      ],
      "text/plain": [
       "   year age_group    state  suicide_deaths\n",
       "0  2019     15-24  Alabama            14.3\n",
       "1  2019     25-34  Alabama            19.4\n",
       "2  2019     35-44  Alabama            25.0\n",
       "3  2019     45-54  Alabama            22.9\n",
       "4  2019     55-64  Alabama            23.1"
      ]
     },
     "execution_count": 51,
     "metadata": {},
     "output_type": "execute_result"
    }
   ],
   "source": [
    "# recheck dataframe\n",
    "df.head()"
   ]
  },
  {
   "cell_type": "code",
   "execution_count": 52,
   "id": "d71a332d",
   "metadata": {},
   "outputs": [
    {
     "data": {
      "text/plain": [
       "year                0\n",
       "age_group           0\n",
       "state               0\n",
       "suicide_deaths    188\n",
       "dtype: int64"
      ]
     },
     "execution_count": 52,
     "metadata": {},
     "output_type": "execute_result"
    }
   ],
   "source": [
    "#find rows with null vaues\n",
    "df.isnull().sum()"
   ]
  },
  {
   "cell_type": "code",
   "execution_count": 53,
   "id": "29bde7de",
   "metadata": {},
   "outputs": [
    {
     "data": {
      "text/plain": [
       "suicide_deaths    15.08\n",
       "dtype: float64"
      ]
     },
     "execution_count": 53,
     "metadata": {},
     "output_type": "execute_result"
    }
   ],
   "source": [
    "#find percent of null values per row\n",
    "total_rows= len(df)\n",
    "total_missing_rows = df.isnull().sum()\n",
    "percent_missing_per_row = round((total_missing_rows/total_rows)* 100,2)\n",
    "percent_missing_per_row[percent_missing_per_row > 0]"
   ]
  },
  {
   "cell_type": "code",
   "execution_count": 54,
   "id": "8064cd46",
   "metadata": {},
   "outputs": [],
   "source": [
    "df['suicide_deaths'].fillna(df['suicide_deaths'].median(),inplace=True)"
   ]
  },
  {
   "cell_type": "code",
   "execution_count": 55,
   "id": "2546821b",
   "metadata": {},
   "outputs": [
    {
     "data": {
      "text/plain": [
       "year              0\n",
       "age_group         0\n",
       "state             0\n",
       "suicide_deaths    0\n",
       "dtype: int64"
      ]
     },
     "execution_count": 55,
     "metadata": {},
     "output_type": "execute_result"
    }
   ],
   "source": [
    "# recheck rows with null vaues\n",
    "df.isnull().sum()"
   ]
  },
  {
   "cell_type": "code",
   "execution_count": 56,
   "id": "552fdacb",
   "metadata": {},
   "outputs": [
    {
     "data": {
      "text/plain": [
       "2019    416\n",
       "2020    416\n",
       "2021    415\n",
       "Name: year, dtype: int64"
      ]
     },
     "execution_count": 56,
     "metadata": {},
     "output_type": "execute_result"
    }
   ],
   "source": [
    "# check unique value counts\n",
    "df['year'].value_counts()"
   ]
  },
  {
   "cell_type": "code",
   "execution_count": 57,
   "id": "41b4b4ac",
   "metadata": {},
   "outputs": [
    {
     "data": {
      "text/plain": [
       "25-34         104\n",
       "35-44         104\n",
       "45-54         104\n",
       "55-64         104\n",
       "65-74         104\n",
       "75-84         104\n",
       "85+           104\n",
       "15-24         103\n",
       "Ages 15-24     52\n",
       "Ages 25-34     52\n",
       "Ages 35-44     52\n",
       "Ages 45-54     52\n",
       "Ages 55-64     52\n",
       "Ages 65-74     52\n",
       "Ages 75-84     52\n",
       "Ages 85+       52\n",
       "Name: age_group, dtype: int64"
      ]
     },
     "execution_count": 57,
     "metadata": {},
     "output_type": "execute_result"
    }
   ],
   "source": [
    "# check unique value counts\n",
    "df['age_group'].value_counts()"
   ]
  },
  {
   "cell_type": "code",
   "execution_count": 58,
   "id": "6e84ef0c",
   "metadata": {},
   "outputs": [],
   "source": [
    "# change value for consistency\n",
    "df['age_group'].replace(['Ages 15-24'],'15-24',inplace=True)"
   ]
  },
  {
   "cell_type": "code",
   "execution_count": 59,
   "id": "b41944af",
   "metadata": {},
   "outputs": [],
   "source": [
    "# change value for consistency\n",
    "df['age_group'].replace(['Ages 25-34'],'25-34',inplace=True)"
   ]
  },
  {
   "cell_type": "code",
   "execution_count": 60,
   "id": "5ad93651",
   "metadata": {},
   "outputs": [],
   "source": [
    "# change value for consistency\n",
    "df['age_group'].replace(['Ages 35-44'],'35-44',inplace=True)"
   ]
  },
  {
   "cell_type": "code",
   "execution_count": 61,
   "id": "bacb9152",
   "metadata": {},
   "outputs": [],
   "source": [
    "# change value for consistency\n",
    "df['age_group'].replace(['Ages 45-54'],'45-54',inplace=True)"
   ]
  },
  {
   "cell_type": "code",
   "execution_count": 62,
   "id": "3c0f52f8",
   "metadata": {},
   "outputs": [],
   "source": [
    "# change value for consistency\n",
    "df['age_group'].replace(['Ages 55-64'],'55-64',inplace=True)"
   ]
  },
  {
   "cell_type": "code",
   "execution_count": 63,
   "id": "7def1d43",
   "metadata": {},
   "outputs": [],
   "source": [
    "# change value for consistency\n",
    "df['age_group'].replace(['Ages 65-74'],'65-74',inplace=True)"
   ]
  },
  {
   "cell_type": "code",
   "execution_count": 64,
   "id": "80bb53ef",
   "metadata": {},
   "outputs": [],
   "source": [
    "# change value for consistency\n",
    "df['age_group'].replace(['Ages 75-84'],'75-84',inplace=True)"
   ]
  },
  {
   "cell_type": "code",
   "execution_count": 65,
   "id": "b6dbb4f3",
   "metadata": {},
   "outputs": [],
   "source": [
    "# change value for consistency\n",
    "df['age_group'].replace(['Ages 85+'],'85+',inplace=True)"
   ]
  },
  {
   "cell_type": "code",
   "execution_count": 66,
   "id": "33b10645",
   "metadata": {},
   "outputs": [
    {
     "data": {
      "text/plain": [
       "25-34    156\n",
       "35-44    156\n",
       "45-54    156\n",
       "55-64    156\n",
       "65-74    156\n",
       "75-84    156\n",
       "85+      156\n",
       "15-24    155\n",
       "Name: age_group, dtype: int64"
      ]
     },
     "execution_count": 66,
     "metadata": {},
     "output_type": "execute_result"
    }
   ],
   "source": [
    "# recheck unique value counts\n",
    "df['age_group'].value_counts()"
   ]
  },
  {
   "cell_type": "code",
   "execution_count": 67,
   "id": "194e8645",
   "metadata": {},
   "outputs": [
    {
     "data": {
      "text/plain": [
       "Alabama                 23\n",
       "Alaska                  24\n",
       "Arizona                 24\n",
       "Arkansas                24\n",
       "California              24\n",
       "Colorado                24\n",
       "Connecticut             24\n",
       "Delaware                24\n",
       "District of Columbia    24\n",
       "Florida                 24\n",
       "Georgia                 24\n",
       "Hawaii                  24\n",
       "Idaho                   24\n",
       "Illinois                24\n",
       "Indiana                 24\n",
       "Iowa                    24\n",
       "Kansas                  24\n",
       "Kentucky                24\n",
       "Louisiana               24\n",
       "Maine                   24\n",
       "Maryland                24\n",
       "Massachusetts           24\n",
       "Michigan                24\n",
       "Minnesota               24\n",
       "Mississippi             24\n",
       "Missouri                24\n",
       "Montana                 24\n",
       "Nebraska                24\n",
       "Nevada                  24\n",
       "New Hampshire           24\n",
       "New Jersey              24\n",
       "New Mexico              24\n",
       "New York                24\n",
       "North Carolina          24\n",
       "North Dakota            24\n",
       "Ohio                    24\n",
       "Oklahoma                24\n",
       "Oregon                  24\n",
       "Pennsylvania            24\n",
       "Rhode Island            24\n",
       "South Carolina          24\n",
       "South Dakota            24\n",
       "Tennessee               24\n",
       "Texas                   24\n",
       "United States           24\n",
       "Utah                    24\n",
       "Vermont                 24\n",
       "Virginia                24\n",
       "Washington              24\n",
       "West Virginia           24\n",
       "Wisconsin               24\n",
       "Wyoming                 24\n",
       "Name: state, dtype: int64"
      ]
     },
     "execution_count": 67,
     "metadata": {},
     "output_type": "execute_result"
    }
   ],
   "source": [
    "# check unique value counts\n",
    "df['state'].value_counts().sort_index(ascending=True)"
   ]
  },
  {
   "cell_type": "code",
   "execution_count": 68,
   "id": "50cf5171",
   "metadata": {},
   "outputs": [
    {
     "data": {
      "text/plain": [
       "count    1247.00\n",
       "mean       20.62\n",
       "std         6.30\n",
       "min         7.00\n",
       "25%        16.80\n",
       "50%        19.90\n",
       "75%        23.45\n",
       "max        56.00\n",
       "Name: suicide_deaths, dtype: float64"
      ]
     },
     "execution_count": 68,
     "metadata": {},
     "output_type": "execute_result"
    }
   ],
   "source": [
    "# check descriptive statistics of suicide_deaths column\n",
    "round(df['suicide_deaths'].describe(),2)"
   ]
  },
  {
   "cell_type": "code",
   "execution_count": 69,
   "id": "342cc3fa",
   "metadata": {},
   "outputs": [],
   "source": [
    "# check for outliers\n",
    "# create a function to find outliers using IQR\n",
    "\n",
    "def find_outliers_IQR(df):\n",
    "\n",
    "   q1=df.quantile(0.25)\n",
    "\n",
    "   q3=df.quantile(0.75)\n",
    "\n",
    "   IQR=q3-q1\n",
    "\n",
    "   outliers = df[((df<(q1-1.5*IQR)) | (df>(q3+1.5*IQR)))]\n",
    "\n",
    "   return outliers"
   ]
  },
  {
   "cell_type": "code",
   "execution_count": 70,
   "id": "eea406c2",
   "metadata": {},
   "outputs": [
    {
     "name": "stdout",
     "output_type": "stream",
     "text": [
      "number of outliers: 51\n",
      "max outlier value: 56.0\n",
      "min outlier value: 33.7\n"
     ]
    },
    {
     "data": {
      "text/plain": [
       "8      44.3\n",
       "9      44.9\n",
       "23     36.6\n",
       "158    36.0\n",
       "209    41.5\n",
       "210    37.5\n",
       "211    36.7\n",
       "212    34.8\n",
       "214    37.5\n",
       "230    38.9\n",
       "231    50.6\n",
       "273    42.9\n",
       "275    34.0\n",
       "303    37.2\n",
       "363    35.9\n",
       "370    35.9\n",
       "391    36.5\n",
       "395    35.6\n",
       "408    36.3\n",
       "410    37.7\n",
       "411    42.0\n",
       "412    34.6\n",
       "1      42.3\n",
       "49     33.7\n",
       "53     40.4\n",
       "82     38.1\n",
       "129    34.0\n",
       "147    36.6\n",
       "153    38.5\n",
       "167    37.5\n",
       "181    34.9\n",
       "184    35.2\n",
       "257    33.8\n",
       "410    33.7\n",
       "0      56.0\n",
       "24     36.8\n",
       "39     36.9\n",
       "52     43.4\n",
       "76     35.4\n",
       "81     33.8\n",
       "150    34.1\n",
       "152    43.1\n",
       "173    33.8\n",
       "180    34.0\n",
       "204    42.3\n",
       "256    34.3\n",
       "322    38.8\n",
       "338    39.2\n",
       "365    41.9\n",
       "390    46.9\n",
       "399    42.6\n",
       "Name: suicide_deaths, dtype: float64"
      ]
     },
     "execution_count": 70,
     "metadata": {},
     "output_type": "execute_result"
    }
   ],
   "source": [
    "# run defined function on suicide_deaths column\n",
    "outliers = find_outliers_IQR(df['suicide_deaths'])\n",
    "\n",
    "print('number of outliers: '+ str(len(outliers)))\n",
    "\n",
    "print('max outlier value: '+ str(outliers.max()))\n",
    "\n",
    "print('min outlier value: '+ str(outliers.min()))\n",
    "\n",
    "outliers"
   ]
  },
  {
   "cell_type": "code",
   "execution_count": 71,
   "id": "081992de",
   "metadata": {},
   "outputs": [],
   "source": [
    "# remove outliers by imputing with mean\n",
    "# create a function to impute the mean\n",
    "def impute_outliers_IQR(df):\n",
    "\n",
    "   q1=df.quantile(0.25)\n",
    "\n",
    "   q3=df.quantile(0.75)\n",
    "\n",
    "   IQR=q3-q1\n",
    "\n",
    "   upper = df[~(df>(q3+1.5*IQR))].max()\n",
    "\n",
    "   lower = df[~(df<(q1-1.5*IQR))].min()\n",
    "\n",
    "   df = np.where(df > upper,\n",
    "\n",
    "       df.mean(),\n",
    "\n",
    "       np.where(\n",
    "\n",
    "           df < lower,\n",
    "\n",
    "           df.mean(),\n",
    "\n",
    "           df\n",
    "\n",
    "           )\n",
    "\n",
    "       )\n",
    "\n",
    "   return df"
   ]
  },
  {
   "cell_type": "code",
   "execution_count": 72,
   "id": "ee08c782",
   "metadata": {},
   "outputs": [],
   "source": [
    "# run defined function on ouliers in suicide_deaths column\n",
    "df['suicide_deaths'] = impute_outliers_IQR(df['suicide_deaths'])"
   ]
  },
  {
   "cell_type": "code",
   "execution_count": 73,
   "id": "3e8de1af",
   "metadata": {},
   "outputs": [
    {
     "data": {
      "text/plain": [
       "count    1247.00\n",
       "mean       19.89\n",
       "std         5.03\n",
       "min         7.00\n",
       "25%        16.80\n",
       "50%        19.90\n",
       "75%        22.45\n",
       "max        33.40\n",
       "Name: suicide_deaths, dtype: float64"
      ]
     },
     "execution_count": 73,
     "metadata": {},
     "output_type": "execute_result"
    }
   ],
   "source": [
    "# recheck descriptive statistics of suicide_deaths column\n",
    "round(df['suicide_deaths'].describe(),2)"
   ]
  },
  {
   "cell_type": "code",
   "execution_count": 74,
   "id": "20ecdd31",
   "metadata": {},
   "outputs": [],
   "source": [
    "# create variable to match other dataframes\n",
    "df.loc[(df['age_group']=='15-24')|(df['age_group']=='25-34')|(df['age_group']=='35-44'), 'age_groups']='18-49'"
   ]
  },
  {
   "cell_type": "code",
   "execution_count": 75,
   "id": "2b803ad8",
   "metadata": {},
   "outputs": [],
   "source": [
    "df.loc[(df['age_group']=='45-54')|(df['age_group']=='55-64'), 'age_groups']='50-64'"
   ]
  },
  {
   "cell_type": "code",
   "execution_count": 76,
   "id": "a9ce1c2a",
   "metadata": {},
   "outputs": [],
   "source": [
    "df.loc[(df['age_group']=='65-74')|(df['age_group']=='75-84')|(df['age_group']=='85+'), 'age_groups']='65+'"
   ]
  },
  {
   "cell_type": "code",
   "execution_count": 77,
   "id": "b69146a4",
   "metadata": {},
   "outputs": [
    {
     "data": {
      "text/plain": [
       "65+      468\n",
       "18-49    467\n",
       "50-64    312\n",
       "Name: age_groups, dtype: int64"
      ]
     },
     "execution_count": 77,
     "metadata": {},
     "output_type": "execute_result"
    }
   ],
   "source": [
    "# check value count for unique variables in age_groups column\n",
    "df['age_groups'].value_counts()"
   ]
  },
  {
   "cell_type": "code",
   "execution_count": 78,
   "id": "9c9eb86f",
   "metadata": {},
   "outputs": [],
   "source": [
    "# delete age_group column because irrelevent\n",
    "df.drop(columns=['age_group'],inplace=True)"
   ]
  },
  {
   "cell_type": "code",
   "execution_count": 79,
   "id": "87b0a2e3",
   "metadata": {},
   "outputs": [],
   "source": [
    "# create dataframe groups to match other dataframes\n",
    "dfgroup=df.groupby(['year','state','age_groups'])[['suicide_deaths']].agg('sum')"
   ]
  },
  {
   "cell_type": "code",
   "execution_count": 80,
   "id": "c283c1eb",
   "metadata": {},
   "outputs": [],
   "source": [
    "# round suicide_deaths to 2 decimal placed\n",
    "dfgroup['suicide_deaths']=dfgroup['suicide_deaths'].round(2)"
   ]
  },
  {
   "cell_type": "code",
   "execution_count": 81,
   "id": "c008fc5d",
   "metadata": {},
   "outputs": [
    {
     "data": {
      "text/html": [
       "<div>\n",
       "<style scoped>\n",
       "    .dataframe tbody tr th:only-of-type {\n",
       "        vertical-align: middle;\n",
       "    }\n",
       "\n",
       "    .dataframe tbody tr th {\n",
       "        vertical-align: top;\n",
       "    }\n",
       "\n",
       "    .dataframe thead th {\n",
       "        text-align: right;\n",
       "    }\n",
       "</style>\n",
       "<table border=\"1\" class=\"dataframe\">\n",
       "  <thead>\n",
       "    <tr style=\"text-align: right;\">\n",
       "      <th></th>\n",
       "      <th></th>\n",
       "      <th></th>\n",
       "      <th>suicide_deaths</th>\n",
       "    </tr>\n",
       "    <tr>\n",
       "      <th>year</th>\n",
       "      <th>state</th>\n",
       "      <th>age_groups</th>\n",
       "      <th></th>\n",
       "    </tr>\n",
       "  </thead>\n",
       "  <tbody>\n",
       "    <tr>\n",
       "      <th rowspan=\"50\" valign=\"top\">2019</th>\n",
       "      <th rowspan=\"3\" valign=\"top\">Alabama</th>\n",
       "      <th>18-49</th>\n",
       "      <td>58.70</td>\n",
       "    </tr>\n",
       "    <tr>\n",
       "      <th>50-64</th>\n",
       "      <td>46.00</td>\n",
       "    </tr>\n",
       "    <tr>\n",
       "      <th>65+</th>\n",
       "      <td>58.40</td>\n",
       "    </tr>\n",
       "    <tr>\n",
       "      <th rowspan=\"3\" valign=\"top\">Alaska</th>\n",
       "      <th>18-49</th>\n",
       "      <td>69.14</td>\n",
       "    </tr>\n",
       "    <tr>\n",
       "      <th>50-64</th>\n",
       "      <td>53.70</td>\n",
       "    </tr>\n",
       "    <tr>\n",
       "      <th>65+</th>\n",
       "      <td>59.70</td>\n",
       "    </tr>\n",
       "    <tr>\n",
       "      <th rowspan=\"3\" valign=\"top\">Arizona</th>\n",
       "      <th>18-49</th>\n",
       "      <td>64.00</td>\n",
       "    </tr>\n",
       "    <tr>\n",
       "      <th>50-64</th>\n",
       "      <td>49.50</td>\n",
       "    </tr>\n",
       "    <tr>\n",
       "      <th>65+</th>\n",
       "      <td>69.52</td>\n",
       "    </tr>\n",
       "    <tr>\n",
       "      <th rowspan=\"3\" valign=\"top\">Arkansas</th>\n",
       "      <th>18-49</th>\n",
       "      <td>76.80</td>\n",
       "    </tr>\n",
       "    <tr>\n",
       "      <th>50-64</th>\n",
       "      <td>55.60</td>\n",
       "    </tr>\n",
       "    <tr>\n",
       "      <th>65+</th>\n",
       "      <td>67.10</td>\n",
       "    </tr>\n",
       "    <tr>\n",
       "      <th rowspan=\"3\" valign=\"top\">California</th>\n",
       "      <th>18-49</th>\n",
       "      <td>33.50</td>\n",
       "    </tr>\n",
       "    <tr>\n",
       "      <th>50-64</th>\n",
       "      <td>30.30</td>\n",
       "    </tr>\n",
       "    <tr>\n",
       "      <th>65+</th>\n",
       "      <td>54.00</td>\n",
       "    </tr>\n",
       "    <tr>\n",
       "      <th rowspan=\"3\" valign=\"top\">Colorado</th>\n",
       "      <th>18-49</th>\n",
       "      <td>74.60</td>\n",
       "    </tr>\n",
       "    <tr>\n",
       "      <th>50-64</th>\n",
       "      <td>57.50</td>\n",
       "    </tr>\n",
       "    <tr>\n",
       "      <th>65+</th>\n",
       "      <td>67.70</td>\n",
       "    </tr>\n",
       "    <tr>\n",
       "      <th rowspan=\"3\" valign=\"top\">Connecticut</th>\n",
       "      <th>18-49</th>\n",
       "      <td>35.00</td>\n",
       "    </tr>\n",
       "    <tr>\n",
       "      <th>50-64</th>\n",
       "      <td>32.50</td>\n",
       "    </tr>\n",
       "    <tr>\n",
       "      <th>65+</th>\n",
       "      <td>44.80</td>\n",
       "    </tr>\n",
       "    <tr>\n",
       "      <th rowspan=\"3\" valign=\"top\">Delaware</th>\n",
       "      <th>18-49</th>\n",
       "      <td>57.90</td>\n",
       "    </tr>\n",
       "    <tr>\n",
       "      <th>50-64</th>\n",
       "      <td>41.40</td>\n",
       "    </tr>\n",
       "    <tr>\n",
       "      <th>65+</th>\n",
       "      <td>59.70</td>\n",
       "    </tr>\n",
       "    <tr>\n",
       "      <th rowspan=\"3\" valign=\"top\">District of Columbia</th>\n",
       "      <th>18-49</th>\n",
       "      <td>59.70</td>\n",
       "    </tr>\n",
       "    <tr>\n",
       "      <th>50-64</th>\n",
       "      <td>39.80</td>\n",
       "    </tr>\n",
       "    <tr>\n",
       "      <th>65+</th>\n",
       "      <td>59.70</td>\n",
       "    </tr>\n",
       "    <tr>\n",
       "      <th rowspan=\"3\" valign=\"top\">Florida</th>\n",
       "      <th>18-49</th>\n",
       "      <td>43.70</td>\n",
       "    </tr>\n",
       "    <tr>\n",
       "      <th>50-64</th>\n",
       "      <td>45.20</td>\n",
       "    </tr>\n",
       "    <tr>\n",
       "      <th>65+</th>\n",
       "      <td>63.40</td>\n",
       "    </tr>\n",
       "    <tr>\n",
       "      <th rowspan=\"3\" valign=\"top\">Georgia</th>\n",
       "      <th>18-49</th>\n",
       "      <td>48.00</td>\n",
       "    </tr>\n",
       "    <tr>\n",
       "      <th>50-64</th>\n",
       "      <td>37.80</td>\n",
       "    </tr>\n",
       "    <tr>\n",
       "      <th>65+</th>\n",
       "      <td>54.50</td>\n",
       "    </tr>\n",
       "    <tr>\n",
       "      <th rowspan=\"3\" valign=\"top\">Hawaii</th>\n",
       "      <th>18-49</th>\n",
       "      <td>60.80</td>\n",
       "    </tr>\n",
       "    <tr>\n",
       "      <th>50-64</th>\n",
       "      <td>39.10</td>\n",
       "    </tr>\n",
       "    <tr>\n",
       "      <th>65+</th>\n",
       "      <td>59.10</td>\n",
       "    </tr>\n",
       "    <tr>\n",
       "      <th rowspan=\"3\" valign=\"top\">Idaho</th>\n",
       "      <th>18-49</th>\n",
       "      <td>86.40</td>\n",
       "    </tr>\n",
       "    <tr>\n",
       "      <th>50-64</th>\n",
       "      <td>64.70</td>\n",
       "    </tr>\n",
       "    <tr>\n",
       "      <th>65+</th>\n",
       "      <td>71.00</td>\n",
       "    </tr>\n",
       "    <tr>\n",
       "      <th rowspan=\"3\" valign=\"top\">Illinois</th>\n",
       "      <th>18-49</th>\n",
       "      <td>42.10</td>\n",
       "    </tr>\n",
       "    <tr>\n",
       "      <th>50-64</th>\n",
       "      <td>29.40</td>\n",
       "    </tr>\n",
       "    <tr>\n",
       "      <th>65+</th>\n",
       "      <td>39.90</td>\n",
       "    </tr>\n",
       "    <tr>\n",
       "      <th rowspan=\"3\" valign=\"top\">Indiana</th>\n",
       "      <th>18-49</th>\n",
       "      <td>62.80</td>\n",
       "    </tr>\n",
       "    <tr>\n",
       "      <th>50-64</th>\n",
       "      <td>44.70</td>\n",
       "    </tr>\n",
       "    <tr>\n",
       "      <th>65+</th>\n",
       "      <td>48.30</td>\n",
       "    </tr>\n",
       "    <tr>\n",
       "      <th rowspan=\"3\" valign=\"top\">Iowa</th>\n",
       "      <th>18-49</th>\n",
       "      <td>57.50</td>\n",
       "    </tr>\n",
       "    <tr>\n",
       "      <th>50-64</th>\n",
       "      <td>38.90</td>\n",
       "    </tr>\n",
       "    <tr>\n",
       "      <th>65+</th>\n",
       "      <td>50.60</td>\n",
       "    </tr>\n",
       "    <tr>\n",
       "      <th rowspan=\"2\" valign=\"top\">Kansas</th>\n",
       "      <th>18-49</th>\n",
       "      <td>75.70</td>\n",
       "    </tr>\n",
       "    <tr>\n",
       "      <th>50-64</th>\n",
       "      <td>47.20</td>\n",
       "    </tr>\n",
       "  </tbody>\n",
       "</table>\n",
       "</div>"
      ],
      "text/plain": [
       "                                      suicide_deaths\n",
       "year state                age_groups                \n",
       "2019 Alabama              18-49                58.70\n",
       "                          50-64                46.00\n",
       "                          65+                  58.40\n",
       "     Alaska               18-49                69.14\n",
       "                          50-64                53.70\n",
       "                          65+                  59.70\n",
       "     Arizona              18-49                64.00\n",
       "                          50-64                49.50\n",
       "                          65+                  69.52\n",
       "     Arkansas             18-49                76.80\n",
       "                          50-64                55.60\n",
       "                          65+                  67.10\n",
       "     California           18-49                33.50\n",
       "                          50-64                30.30\n",
       "                          65+                  54.00\n",
       "     Colorado             18-49                74.60\n",
       "                          50-64                57.50\n",
       "                          65+                  67.70\n",
       "     Connecticut          18-49                35.00\n",
       "                          50-64                32.50\n",
       "                          65+                  44.80\n",
       "     Delaware             18-49                57.90\n",
       "                          50-64                41.40\n",
       "                          65+                  59.70\n",
       "     District of Columbia 18-49                59.70\n",
       "                          50-64                39.80\n",
       "                          65+                  59.70\n",
       "     Florida              18-49                43.70\n",
       "                          50-64                45.20\n",
       "                          65+                  63.40\n",
       "     Georgia              18-49                48.00\n",
       "                          50-64                37.80\n",
       "                          65+                  54.50\n",
       "     Hawaii               18-49                60.80\n",
       "                          50-64                39.10\n",
       "                          65+                  59.10\n",
       "     Idaho                18-49                86.40\n",
       "                          50-64                64.70\n",
       "                          65+                  71.00\n",
       "     Illinois             18-49                42.10\n",
       "                          50-64                29.40\n",
       "                          65+                  39.90\n",
       "     Indiana              18-49                62.80\n",
       "                          50-64                44.70\n",
       "                          65+                  48.30\n",
       "     Iowa                 18-49                57.50\n",
       "                          50-64                38.90\n",
       "                          65+                  50.60\n",
       "     Kansas               18-49                75.70\n",
       "                          50-64                47.20"
      ]
     },
     "execution_count": 81,
     "metadata": {},
     "output_type": "execute_result"
    }
   ],
   "source": [
    "# check grouping dataframe\n",
    "dfgroup.head(50)"
   ]
  },
  {
   "cell_type": "code",
   "execution_count": 82,
   "id": "07c1a43a",
   "metadata": {},
   "outputs": [
    {
     "data": {
      "application/vnd.jupyter.widget-view+json": {
       "model_id": "708f9e888e284aad9d231240b2abc876",
       "version_major": 2,
       "version_minor": 0
      },
      "text/plain": [
       "                                             |          | [  0%]   00:00 -> (? left)"
      ]
     },
     "metadata": {},
     "output_type": "display_data"
    },
    {
     "name": "stdout",
     "output_type": "stream",
     "text": [
      "Report Age Group Suicides 2019-2021.html was generated! NOTEBOOK/COLAB USERS: the web browser MAY not pop up, regardless, the report IS saved in your notebook/colab files.\n"
     ]
    }
   ],
   "source": [
    "#Use sweetviz to generate report\n",
    "my_report = sv.analyze(df)\n",
    "my_report.show_html('Age Group Suicides 2019-2021.html')"
   ]
  }
 ],
 "metadata": {
  "kernelspec": {
   "display_name": "Python 3 (ipykernel)",
   "language": "python",
   "name": "python3"
  },
  "language_info": {
   "codemirror_mode": {
    "name": "ipython",
    "version": 3
   },
   "file_extension": ".py",
   "mimetype": "text/x-python",
   "name": "python",
   "nbconvert_exporter": "python",
   "pygments_lexer": "ipython3",
   "version": "3.9.12"
  }
 },
 "nbformat": 4,
 "nbformat_minor": 5
}

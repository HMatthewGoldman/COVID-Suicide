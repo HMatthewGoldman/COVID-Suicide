{
 "cells": [
  {
   "cell_type": "code",
   "execution_count": 1,
   "id": "e93e9b51",
   "metadata": {},
   "outputs": [],
   "source": [
    "import pandas as pd\n",
    "import numpy as np\n",
    "import seaborn as sns\n",
    "import matplotlib\n",
    "import matplotlib.pyplot as plt\n",
    "import os\n",
    "import sklearn\n",
    "from sklearn.model_selection import train_test_split \n",
    "from sklearn.linear_model import LinearRegression\n",
    "from sklearn.metrics import mean_absolute_error, mean_squared_error, r2_score"
   ]
  },
  {
   "cell_type": "code",
   "execution_count": 2,
   "id": "3f6f4fc0",
   "metadata": {},
   "outputs": [],
   "source": [
    "# This option ensures that the graphs you create are displayed within the notebook without the need to \"call\" them specifically.\n",
    "\n",
    "%matplotlib inline"
   ]
  },
  {
   "cell_type": "code",
   "execution_count": 4,
   "id": "e2b73c02",
   "metadata": {},
   "outputs": [],
   "source": [
    "df=pd.read_excel(r\"C:\\Users\\drmat\\OneDrive\\Documents\\Career Foundry\\COVID_Suicide\\02 Data\\02 Prepared\\Combined\\sex2.xlsx\",index_col=False)"
   ]
  },
  {
   "cell_type": "code",
   "execution_count": 5,
   "id": "717ebe4b",
   "metadata": {},
   "outputs": [],
   "source": [
    "df1=df[['covid_cases','suicide_deaths']]"
   ]
  },
  {
   "cell_type": "code",
   "execution_count": 6,
   "id": "f722361a",
   "metadata": {},
   "outputs": [],
   "source": [
    "def clean_dataset(df1):\n",
    "    assert isinstance(df1, pd.DataFrame), \"df needs to be a pd.DataFrame\"\n",
    "    df1.dropna(inplace=True)\n",
    "    indices_to_keep = ~df1.isin([np.nan, np.inf, -np.inf]).any(1)\n",
    "    return df1[indices_to_keep].astype(np.float64)"
   ]
  },
  {
   "cell_type": "code",
   "execution_count": 7,
   "id": "bbd373fa",
   "metadata": {},
   "outputs": [
    {
     "name": "stderr",
     "output_type": "stream",
     "text": [
      "C:\\Users\\drmat\\AppData\\Local\\Temp\\ipykernel_6096\\2934779625.py:3: SettingWithCopyWarning: \n",
      "A value is trying to be set on a copy of a slice from a DataFrame\n",
      "\n",
      "See the caveats in the documentation: https://pandas.pydata.org/pandas-docs/stable/user_guide/indexing.html#returning-a-view-versus-a-copy\n",
      "  df1.dropna(inplace=True)\n"
     ]
    },
    {
     "data": {
      "text/html": [
       "<div>\n",
       "<style scoped>\n",
       "    .dataframe tbody tr th:only-of-type {\n",
       "        vertical-align: middle;\n",
       "    }\n",
       "\n",
       "    .dataframe tbody tr th {\n",
       "        vertical-align: top;\n",
       "    }\n",
       "\n",
       "    .dataframe thead th {\n",
       "        text-align: right;\n",
       "    }\n",
       "</style>\n",
       "<table border=\"1\" class=\"dataframe\">\n",
       "  <thead>\n",
       "    <tr style=\"text-align: right;\">\n",
       "      <th></th>\n",
       "      <th>covid_cases</th>\n",
       "      <th>suicide_deaths</th>\n",
       "    </tr>\n",
       "  </thead>\n",
       "  <tbody>\n",
       "    <tr>\n",
       "      <th>102</th>\n",
       "      <td>188125.0</td>\n",
       "      <td>7.2</td>\n",
       "    </tr>\n",
       "    <tr>\n",
       "      <th>103</th>\n",
       "      <td>149248.0</td>\n",
       "      <td>27.9</td>\n",
       "    </tr>\n",
       "    <tr>\n",
       "      <th>104</th>\n",
       "      <td>21945.0</td>\n",
       "      <td>11.3</td>\n",
       "    </tr>\n",
       "    <tr>\n",
       "      <th>105</th>\n",
       "      <td>23914.0</td>\n",
       "      <td>38.1</td>\n",
       "    </tr>\n",
       "    <tr>\n",
       "      <th>106</th>\n",
       "      <td>299552.0</td>\n",
       "      <td>8.0</td>\n",
       "    </tr>\n",
       "    <tr>\n",
       "      <th>...</th>\n",
       "      <td>...</td>\n",
       "      <td>...</td>\n",
       "    </tr>\n",
       "    <tr>\n",
       "      <th>303</th>\n",
       "      <td>28.0</td>\n",
       "      <td>29.0</td>\n",
       "    </tr>\n",
       "    <tr>\n",
       "      <th>304</th>\n",
       "      <td>259228.0</td>\n",
       "      <td>6.1</td>\n",
       "    </tr>\n",
       "    <tr>\n",
       "      <th>305</th>\n",
       "      <td>238061.0</td>\n",
       "      <td>23.1</td>\n",
       "    </tr>\n",
       "    <tr>\n",
       "      <th>306</th>\n",
       "      <td>33426.0</td>\n",
       "      <td>8.1</td>\n",
       "    </tr>\n",
       "    <tr>\n",
       "      <th>307</th>\n",
       "      <td>31177.0</td>\n",
       "      <td>51.3</td>\n",
       "    </tr>\n",
       "  </tbody>\n",
       "</table>\n",
       "<p>201 rows × 2 columns</p>\n",
       "</div>"
      ],
      "text/plain": [
       "     covid_cases  suicide_deaths\n",
       "102     188125.0             7.2\n",
       "103     149248.0            27.9\n",
       "104      21945.0            11.3\n",
       "105      23914.0            38.1\n",
       "106     299552.0             8.0\n",
       "..           ...             ...\n",
       "303         28.0            29.0\n",
       "304     259228.0             6.1\n",
       "305     238061.0            23.1\n",
       "306      33426.0             8.1\n",
       "307      31177.0            51.3\n",
       "\n",
       "[201 rows x 2 columns]"
      ]
     },
     "execution_count": 7,
     "metadata": {},
     "output_type": "execute_result"
    }
   ],
   "source": [
    "clean_dataset(df1)"
   ]
  },
  {
   "cell_type": "code",
   "execution_count": 8,
   "id": "466d8bda",
   "metadata": {},
   "outputs": [
    {
     "name": "stdout",
     "output_type": "stream",
     "text": [
      "<class 'pandas.core.frame.DataFrame'>\n",
      "Int64Index: 201 entries, 102 to 307\n",
      "Data columns (total 2 columns):\n",
      " #   Column          Non-Null Count  Dtype  \n",
      "---  ------          --------------  -----  \n",
      " 0   covid_cases     201 non-null    float64\n",
      " 1   suicide_deaths  201 non-null    float64\n",
      "dtypes: float64(2)\n",
      "memory usage: 4.7 KB\n"
     ]
    }
   ],
   "source": [
    "df1.info()"
   ]
  },
  {
   "cell_type": "code",
   "execution_count": 9,
   "id": "90f892dc",
   "metadata": {},
   "outputs": [
    {
     "data": {
      "text/html": [
       "<div>\n",
       "<style scoped>\n",
       "    .dataframe tbody tr th:only-of-type {\n",
       "        vertical-align: middle;\n",
       "    }\n",
       "\n",
       "    .dataframe tbody tr th {\n",
       "        vertical-align: top;\n",
       "    }\n",
       "\n",
       "    .dataframe thead th {\n",
       "        text-align: right;\n",
       "    }\n",
       "</style>\n",
       "<table border=\"1\" class=\"dataframe\">\n",
       "  <thead>\n",
       "    <tr style=\"text-align: right;\">\n",
       "      <th></th>\n",
       "      <th>covid_cases</th>\n",
       "      <th>suicide_deaths</th>\n",
       "    </tr>\n",
       "  </thead>\n",
       "  <tbody>\n",
       "    <tr>\n",
       "      <th>covid_cases</th>\n",
       "      <td>1.00</td>\n",
       "      <td>-0.21</td>\n",
       "    </tr>\n",
       "    <tr>\n",
       "      <th>suicide_deaths</th>\n",
       "      <td>-0.21</td>\n",
       "      <td>1.00</td>\n",
       "    </tr>\n",
       "  </tbody>\n",
       "</table>\n",
       "</div>"
      ],
      "text/plain": [
       "                covid_cases  suicide_deaths\n",
       "covid_cases            1.00           -0.21\n",
       "suicide_deaths        -0.21            1.00"
      ]
     },
     "execution_count": 9,
     "metadata": {},
     "output_type": "execute_result"
    }
   ],
   "source": [
    "# check the correlation(s) between variables\n",
    "df1.corr().round(2)"
   ]
  },
  {
   "cell_type": "code",
   "execution_count": 10,
   "id": "3895c3ff",
   "metadata": {},
   "outputs": [],
   "source": [
    "# Setting variables\n",
    "# Reshape the variables into NumPy arrays and put them into separate objects.\n",
    "\n",
    "X = df1['covid_cases'].values.reshape(-1,1)\n",
    "y = df1['suicide_deaths'].values.reshape(-1,1)"
   ]
  },
  {
   "cell_type": "code",
   "execution_count": 11,
   "id": "8d34d5a4",
   "metadata": {},
   "outputs": [],
   "source": [
    "# Split data into a training set and a test set.\n",
    "\n",
    "X_train, X_test, y_train, y_test = train_test_split(X, y, test_size=0.3, random_state=0)"
   ]
  },
  {
   "cell_type": "code",
   "execution_count": 12,
   "id": "609f7281",
   "metadata": {},
   "outputs": [],
   "source": [
    "# Create a regression object.\n",
    "\n",
    "regression = LinearRegression()  # This is the regression object, which will be fit onto the training set."
   ]
  },
  {
   "cell_type": "code",
   "execution_count": 13,
   "id": "5ad09eae",
   "metadata": {},
   "outputs": [
    {
     "data": {
      "text/plain": [
       "LinearRegression()"
      ]
     },
     "execution_count": 13,
     "metadata": {},
     "output_type": "execute_result"
    }
   ],
   "source": [
    "# Fit the regression object onto the training set.\n",
    "\n",
    "regression.fit(X_train, y_train)"
   ]
  },
  {
   "cell_type": "markdown",
   "id": "5d33f05f",
   "metadata": {},
   "source": [
    "### 6. Interpreting Coefficients"
   ]
  },
  {
   "cell_type": "code",
   "execution_count": 14,
   "id": "08278c45",
   "metadata": {},
   "outputs": [
    {
     "name": "stdout",
     "output_type": "stream",
     "text": [
      "B0 value:  [19.33830906]\n",
      "beta coefficients(slope):  [[-7.58059385e-06]]\n"
     ]
    },
    {
     "data": {
      "text/plain": [
       "<zip at 0x227341ee9c0>"
      ]
     },
     "execution_count": 14,
     "metadata": {},
     "output_type": "execute_result"
    }
   ],
   "source": [
    "# Print y-intercept. The intercept will be your B0 value\n",
    "print('B0 value: ', regression.intercept_)\n",
    "\n",
    "# Print the beta coefficients in same order as passed. Each coefficient will be the corresponding Beta for the X’s passed\n",
    "print('beta coefficients(slope): ', regression.coef_) # how the y variable changes when X changes\n",
    "\n",
    "# Zip can pair feature names and coeeficients together\n",
    "zip(df['covid_cases'],regression.coef_)"
   ]
  },
  {
   "cell_type": "markdown",
   "id": "9bafc53b",
   "metadata": {},
   "source": [
    "### 7. Making predictions based on your model"
   ]
  },
  {
   "cell_type": "code",
   "execution_count": 15,
   "id": "82786e7a",
   "metadata": {},
   "outputs": [],
   "source": [
    "# Predict the values of y using X.\n",
    "\n",
    "y_predicted = regression.predict(X_test)"
   ]
  },
  {
   "cell_type": "code",
   "execution_count": 16,
   "id": "b092cd8a",
   "metadata": {},
   "outputs": [
    {
     "data": {
      "image/png": "[encoded data removed]",
      "text/plain": [
       "<Figure size 432x288 with 1 Axes>"
      ]
     },
     "metadata": {
      "needs_background": "light"
     },
     "output_type": "display_data"
    }
   ],
   "source": [
    "# Create a plot that shows the regression line from the model on the test set.\n",
    "\n",
    "plot_test = plt\n",
    "plot_test.scatter(X_test, y_test, color='gray', s = 15)\n",
    "plot_test.plot(X_test, y_predicted, color='red', linewidth =3)\n",
    "plot_test.title('covid cases vs suicide deaths (Test set)')\n",
    "plot_test.xlabel('covid cases')\n",
    "plot_test.ylabel('suicide deaths')\n",
    "plot_test.show()"
   ]
  },
  {
   "cell_type": "markdown",
   "id": "eede9144",
   "metadata": {},
   "source": [
    "### 8. Model Evaluation"
   ]
  },
  {
   "cell_type": "code",
   "execution_count": 17,
   "id": "e99402e8",
   "metadata": {},
   "outputs": [],
   "source": [
    "# Create objects that contain the model summary statistics.\n",
    "\n",
    "mae = mean_absolute_error(y_test, y_predicted) # This is the mean absolute error \n",
    "rmse = mean_squared_error(y_test, y_predicted) # This is the mean squared error\n",
    "r2 = r2_score(y_test, y_predicted) # This is the R2 score. "
   ]
  },
  {
   "cell_type": "code",
   "execution_count": 18,
   "id": "dc33f9b2",
   "metadata": {},
   "outputs": [
    {
     "name": "stdout",
     "output_type": "stream",
     "text": [
      "Mean absolute error : 9.434226764029159\n",
      "Mean squared error:  104.58375462996271\n",
      "R2 score:  0.03973499479026821\n"
     ]
    }
   ],
   "source": [
    "# Print the model summary statistics. This is where you evaluate the performance of the model.\n",
    "# take note of which X’s have minimal impacts on y. Removing some of these features may result in an increased accuracy of your model.\n",
    "print('Mean absolute error :', mae)\n",
    "print('Mean squared error: ', rmse) # large number indicates that the regression line isn’t an accurate representation of the data\n",
    "print('R2 score: ', r2) # values closer to 0 indicate a poor fit"
   ]
  },
  {
   "cell_type": "code",
   "execution_count": 19,
   "id": "95f065e4",
   "metadata": {},
   "outputs": [
    {
     "data": {
      "text/html": [
       "<div>\n",
       "<style scoped>\n",
       "    .dataframe tbody tr th:only-of-type {\n",
       "        vertical-align: middle;\n",
       "    }\n",
       "\n",
       "    .dataframe tbody tr th {\n",
       "        vertical-align: top;\n",
       "    }\n",
       "\n",
       "    .dataframe thead th {\n",
       "        text-align: right;\n",
       "    }\n",
       "</style>\n",
       "<table border=\"1\" class=\"dataframe\">\n",
       "  <thead>\n",
       "    <tr style=\"text-align: right;\">\n",
       "      <th></th>\n",
       "      <th>Actual</th>\n",
       "      <th>Predicted</th>\n",
       "    </tr>\n",
       "  </thead>\n",
       "  <tbody>\n",
       "    <tr>\n",
       "      <th>0</th>\n",
       "      <td>26.0</td>\n",
       "      <td>16.209578</td>\n",
       "    </tr>\n",
       "    <tr>\n",
       "      <th>1</th>\n",
       "      <td>5.9</td>\n",
       "      <td>13.765951</td>\n",
       "    </tr>\n",
       "    <tr>\n",
       "      <th>2</th>\n",
       "      <td>7.1</td>\n",
       "      <td>18.195754</td>\n",
       "    </tr>\n",
       "    <tr>\n",
       "      <th>3</th>\n",
       "      <td>25.0</td>\n",
       "      <td>17.784189</td>\n",
       "    </tr>\n",
       "    <tr>\n",
       "      <th>4</th>\n",
       "      <td>23.7</td>\n",
       "      <td>14.216397</td>\n",
       "    </tr>\n",
       "    <tr>\n",
       "      <th>5</th>\n",
       "      <td>7.6</td>\n",
       "      <td>18.885566</td>\n",
       "    </tr>\n",
       "    <tr>\n",
       "      <th>6</th>\n",
       "      <td>32.7</td>\n",
       "      <td>17.259324</td>\n",
       "    </tr>\n",
       "    <tr>\n",
       "      <th>7</th>\n",
       "      <td>6.8</td>\n",
       "      <td>16.993275</td>\n",
       "    </tr>\n",
       "    <tr>\n",
       "      <th>8</th>\n",
       "      <td>5.5</td>\n",
       "      <td>18.641683</td>\n",
       "    </tr>\n",
       "    <tr>\n",
       "      <th>9</th>\n",
       "      <td>14.9</td>\n",
       "      <td>18.894746</td>\n",
       "    </tr>\n",
       "    <tr>\n",
       "      <th>10</th>\n",
       "      <td>12.8</td>\n",
       "      <td>18.784471</td>\n",
       "    </tr>\n",
       "    <tr>\n",
       "      <th>11</th>\n",
       "      <td>33.2</td>\n",
       "      <td>18.731573</td>\n",
       "    </tr>\n",
       "    <tr>\n",
       "      <th>12</th>\n",
       "      <td>6.1</td>\n",
       "      <td>16.687717</td>\n",
       "    </tr>\n",
       "    <tr>\n",
       "      <th>13</th>\n",
       "      <td>6.6</td>\n",
       "      <td>18.961288</td>\n",
       "    </tr>\n",
       "    <tr>\n",
       "      <th>14</th>\n",
       "      <td>26.4</td>\n",
       "      <td>18.257513</td>\n",
       "    </tr>\n",
       "    <tr>\n",
       "      <th>15</th>\n",
       "      <td>30.1</td>\n",
       "      <td>18.524775</td>\n",
       "    </tr>\n",
       "    <tr>\n",
       "      <th>16</th>\n",
       "      <td>6.2</td>\n",
       "      <td>18.513798</td>\n",
       "    </tr>\n",
       "    <tr>\n",
       "      <th>17</th>\n",
       "      <td>6.4</td>\n",
       "      <td>18.724804</td>\n",
       "    </tr>\n",
       "    <tr>\n",
       "      <th>18</th>\n",
       "      <td>7.4</td>\n",
       "      <td>19.246106</td>\n",
       "    </tr>\n",
       "    <tr>\n",
       "      <th>19</th>\n",
       "      <td>30.5</td>\n",
       "      <td>18.929230</td>\n",
       "    </tr>\n",
       "    <tr>\n",
       "      <th>20</th>\n",
       "      <td>34.6</td>\n",
       "      <td>18.930193</td>\n",
       "    </tr>\n",
       "    <tr>\n",
       "      <th>21</th>\n",
       "      <td>23.9</td>\n",
       "      <td>16.585409</td>\n",
       "    </tr>\n",
       "    <tr>\n",
       "      <th>22</th>\n",
       "      <td>4.9</td>\n",
       "      <td>17.740813</td>\n",
       "    </tr>\n",
       "    <tr>\n",
       "      <th>23</th>\n",
       "      <td>29.9</td>\n",
       "      <td>19.136946</td>\n",
       "    </tr>\n",
       "    <tr>\n",
       "      <th>24</th>\n",
       "      <td>13.6</td>\n",
       "      <td>17.347008</td>\n",
       "    </tr>\n",
       "    <tr>\n",
       "      <th>25</th>\n",
       "      <td>25.6</td>\n",
       "      <td>19.117433</td>\n",
       "    </tr>\n",
       "    <tr>\n",
       "      <th>26</th>\n",
       "      <td>16.9</td>\n",
       "      <td>18.920543</td>\n",
       "    </tr>\n",
       "    <tr>\n",
       "      <th>27</th>\n",
       "      <td>28.7</td>\n",
       "      <td>16.526129</td>\n",
       "    </tr>\n",
       "    <tr>\n",
       "      <th>28</th>\n",
       "      <td>5.8</td>\n",
       "      <td>19.132610</td>\n",
       "    </tr>\n",
       "    <tr>\n",
       "      <th>29</th>\n",
       "      <td>25.2</td>\n",
       "      <td>18.213182</td>\n",
       "    </tr>\n",
       "  </tbody>\n",
       "</table>\n",
       "</div>"
      ],
      "text/plain": [
       "    Actual  Predicted\n",
       "0     26.0  16.209578\n",
       "1      5.9  13.765951\n",
       "2      7.1  18.195754\n",
       "3     25.0  17.784189\n",
       "4     23.7  14.216397\n",
       "5      7.6  18.885566\n",
       "6     32.7  17.259324\n",
       "7      6.8  16.993275\n",
       "8      5.5  18.641683\n",
       "9     14.9  18.894746\n",
       "10    12.8  18.784471\n",
       "11    33.2  18.731573\n",
       "12     6.1  16.687717\n",
       "13     6.6  18.961288\n",
       "14    26.4  18.257513\n",
       "15    30.1  18.524775\n",
       "16     6.2  18.513798\n",
       "17     6.4  18.724804\n",
       "18     7.4  19.246106\n",
       "19    30.5  18.929230\n",
       "20    34.6  18.930193\n",
       "21    23.9  16.585409\n",
       "22     4.9  17.740813\n",
       "23    29.9  19.136946\n",
       "24    13.6  17.347008\n",
       "25    25.6  19.117433\n",
       "26    16.9  18.920543\n",
       "27    28.7  16.526129\n",
       "28     5.8  19.132610\n",
       "29    25.2  18.213182"
      ]
     },
     "execution_count": 19,
     "metadata": {},
     "output_type": "execute_result"
    }
   ],
   "source": [
    "# Create a dataframe comparing the actual and predicted values of y.\n",
    "\n",
    "data = pd.DataFrame({'Actual': y_test.flatten(), 'Predicted': y_predicted.flatten()})\n",
    "data.head(30)"
   ]
  },
  {
   "cell_type": "markdown",
   "id": "ff130285",
   "metadata": {},
   "source": [
    "### 9. Compare how the regression fits the training set"
   ]
  },
  {
   "cell_type": "code",
   "execution_count": 20,
   "id": "0c25a182",
   "metadata": {},
   "outputs": [],
   "source": [
    "# Predict.\n",
    "y_predicted_train = regression.predict(X_train) # This is predicting X_train!"
   ]
  },
  {
   "cell_type": "code",
   "execution_count": 21,
   "id": "39704825",
   "metadata": {},
   "outputs": [],
   "source": [
    "rmse = mean_squared_error(y_train, y_predicted_train)\n",
    "r2 = r2_score(y_train, y_predicted_train)"
   ]
  },
  {
   "cell_type": "code",
   "execution_count": 22,
   "id": "ec8f20a2",
   "metadata": {},
   "outputs": [
    {
     "name": "stdout",
     "output_type": "stream",
     "text": [
      "Slope: [[-7.58059385e-06]]\n",
      "Mean squared error:  127.02929821103413\n",
      "R2 score:  0.040529646626022764\n"
     ]
    }
   ],
   "source": [
    "print('Slope:' ,regression.coef_)\n",
    "print('Mean squared error: ', rmse)\n",
    "print('R2 score: ', r2)"
   ]
  },
  {
   "cell_type": "code",
   "execution_count": 23,
   "id": "b6064912",
   "metadata": {
    "scrolled": true
   },
   "outputs": [
    {
     "data": {
      "image/png": "[encoded data removed]",
      "text/plain": [
       "<Figure size 432x288 with 1 Axes>"
      ]
     },
     "metadata": {
      "needs_background": "light"
     },
     "output_type": "display_data"
    }
   ],
   "source": [
    "# Visualizing the training set results.\n",
    "\n",
    "plot_train = plt\n",
    "plot_train.scatter(X_train, y_train, color='green', s = 15)\n",
    "plot_train.plot(X_train, y_predicted_train, color='red', linewidth =3)\n",
    "plot_train.title('covid cases vs suicide deaths (Test set)')\n",
    "plot_train.xlabel('covid cases')\n",
    "plot_train.ylabel('suicide deaths')\n",
    "plot_train.show()"
   ]
  },
  {
   "cell_type": "code",
   "execution_count": null,
   "id": "62c41ea4",
   "metadata": {},
   "outputs": [],
   "source": []
  }
 ],
 "metadata": {
  "kernelspec": {
   "display_name": "Python 3 (ipykernel)",
   "language": "python",
   "name": "python3"
  },
  "language_info": {
   "codemirror_mode": {
    "name": "ipython",
    "version": 3
   },
   "file_extension": ".py",
   "mimetype": "text/x-python",
   "name": "python",
   "nbconvert_exporter": "python",
   "pygments_lexer": "ipython3",
   "version": "3.9.12"
  }
 },
 "nbformat": 4,
 "nbformat_minor": 5
}
